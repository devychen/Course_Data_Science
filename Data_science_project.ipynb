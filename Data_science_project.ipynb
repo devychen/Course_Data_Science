{
 "cells": [
  {
   "cell_type": "code",
   "execution_count": 54,
   "id": "ecd73bcb-b566-4e27-8b40-7a7730818166",
   "metadata": {},
   "outputs": [],
   "source": [
    "#!python -m spacy download en_core_web_lg"
   ]
  },
  {
   "cell_type": "code",
   "execution_count": 251,
   "id": "4acb910c-8f24-4b77-a3ac-ba07e1855ad6",
   "metadata": {
    "scrolled": true
   },
   "outputs": [
    {
     "name": "stdout",
     "output_type": "stream",
     "text": [
      "         character_name                                           dialogue\n",
      "0      Albus Dumbledore  I should have known that you would be here, Pr...\n",
      "1    Minerva McGonagall  Good evening, Professor Dumbledore. Are the ru...\n",
      "2      Albus Dumbledore   I'm afraid so, Professor. The good, and the bad.\n",
      "3    Minerva McGonagall                                       And the boy?\n",
      "4      Albus Dumbledore                            Hagrid is bringing him.\n",
      "..                  ...                                                ...\n",
      "915    Albus Dumbledore  Before we begin the feast, let us have a round...\n",
      "916    Hermione Granger                                             Oh no!\n",
      "917       Rubeus Hagrid  Sorry I'm late! The owl that delivered my rele...\n",
      "918        Harry Potter      Well there's no Hogwarts without you, Hagrid.\n",
      "919       Rubeus Hagrid                                                Oh!\n",
      "\n",
      "[1713 rows x 2 columns]\n",
      "      character_name                                           dialogue\n",
      "0   Albus Dumbledore  I should have known that you would be here, Pr...\n",
      "1          Announcer       Ladies and gentleman, Mr. Gilderoy Lockhart.\n",
      "2             Aragog  Who is it? Hagrid? Is that you? Yes. Hagrid ha...\n",
      "3        Argus Filch  Anyone here, my sweet? Come on. Who's there?! ...\n",
      "4     Arthur Weasley  Morning, Weasleys. What a night. Nine raids. N...\n",
      "..               ...                                                ...\n",
      "56      Trolley lady                   Anything off the trolley, dears?\n",
      "57    Vernon Dursley  Happy birthday, son. Hurry up! Bring my coffee...\n",
      "58    Vincent Crabbe  Ha ha ha ha ha! It's good, right? Ah cool! Nom...\n",
      "59         Voldemort  Use the boy. He lies. Let me speak to him. I h...\n",
      "60      harry Potter                                           Get off!\n",
      "\n",
      "[61 rows x 2 columns]\n"
     ]
    }
   ],
   "source": [
    "import pandas as pd\n",
    "\n",
    "# Load the CSV files directly with encoding\n",
    "df = pd.read_csv('C:/Users/Jessi/Desktop/DS_project/hp_script.csv', delimiter=';', encoding='latin1')\n",
    "df2 = pd.read_csv('C:/Users/Jessi/Desktop/DS_project/hp_script2.csv', delimiter=';', encoding='latin1')\n",
    "\n",
    "df = df.drop(columns=['ID_number', 'scene'])\n",
    "df2 = df2.drop(columns=['ID_number', 'scene'])\n",
    "\n",
    "# Concatenate the two dataframes\n",
    "result = pd.concat([df, df2])\n",
    "print(result)\n",
    "\n",
    "# Decode the dialogue column to UTF-8 for proper display\n",
    "result['dialogue'] = result['dialogue'].str.encode('latin1', errors='ignore').str.decode('utf-8', errors='ignore')\n",
    "\n",
    "# Group the dialogue by character_name and join the dialogue for each character\n",
    "grouped_dialogue = result.groupby('character_name')['dialogue'].apply(lambda x: ' '.join(x)).reset_index()\n",
    "\n",
    "# Show the result\n",
    "print(grouped_dialogue)"
   ]
  },
  {
   "cell_type": "code",
   "execution_count": 252,
   "id": "cda6eeb7-d30e-43c1-8784-03cbb159acba",
   "metadata": {
    "scrolled": true
   },
   "outputs": [
    {
     "data": {
      "text/plain": [
       "\"import pandas as pd\\nwith open('C:/Users/Jessi/Desktop/DS_project/hp_script2.csv', encoding='latin1') as f:\\n    data2 = f.read()\\n\\nlatin1_encoded_data2 = data2.encode('latin1')\\nutf8_decoded_data2 = latin1_encoded_data2.decode('utf-8', errors='ignore')\\n\\nfrom io import StringIO\\ndf2 = pd.read_csv(StringIO(utf8_decoded_data2), delimiter=';')\\n\\ngrouped_dialogue2 = df2.groupby('character_name')['dialogue'].apply(lambda x: ' '.join(x)).reset_index()\\n\\n# Show the result\\nprint(grouped_dialogue2)\""
      ]
     },
     "execution_count": 252,
     "metadata": {},
     "output_type": "execute_result"
    }
   ],
   "source": [
    "\"\"\"import pandas as pd\n",
    "with open('C:/Users/Jessi/Desktop/DS_project/hp_script2.csv', encoding='latin1') as f:\n",
    "    data2 = f.read()\n",
    "\n",
    "latin1_encoded_data2 = data2.encode('latin1')\n",
    "utf8_decoded_data2 = latin1_encoded_data2.decode('utf-8', errors='ignore')\n",
    "\n",
    "from io import StringIO\n",
    "df2 = pd.read_csv(StringIO(utf8_decoded_data2), delimiter=';')\n",
    "\n",
    "grouped_dialogue2 = df2.groupby('character_name')['dialogue'].apply(lambda x: ' '.join(x)).reset_index()\n",
    "\n",
    "# Show the result\n",
    "print(grouped_dialogue2)\"\"\""
   ]
  },
  {
   "cell_type": "code",
   "execution_count": 253,
   "id": "a3c0aae7-ab12-4d3b-840a-2a34ba1a4ca0",
   "metadata": {},
   "outputs": [],
   "source": [
    "import spacy\n",
    "nlp = spacy.load('en_core_web_lg')"
   ]
  },
  {
   "cell_type": "code",
   "execution_count": 254,
   "id": "6d3f3074-8e36-4152-aa24-34cf82328025",
   "metadata": {},
   "outputs": [
    {
     "name": "stdout",
     "output_type": "stream",
     "text": [
      "I should have known that you would be here, Professor McGonagall. I'm afraid so, Professor. The good, and the bad. Hagrid is bringing him. Ah, Professor, I would trust Hagrid with my life. No problems, I trust, Hagrid? The only family he has. Exactly. He's far better off growing up away from all of that. Until he is ready. There there, Hagrid. It's not really goodbye, after all. Good luck, Harry Potter. I have a few start of term notices I wish to announce. The first years please note that the Dark Forest is strictly forbidden to all students. Also, our caretaker, Mr. Filch has asked me to remind you that the third floor corridor on the right hand side is out of bounds to everyone who does not wish to die a most painful death. Thank you. Let the feast begin. SILENCE!!! Everyone will please, not panic. Back again, Harry? I see that you, like so many before you have discovered the delights of the Mirror of Erised. I trust by now you realise what it does. Let me give you a clue. The happiest man on earth would look into the mirror and see only himself, exactly as he is. Yesand no. It shows us nothing more or less than the deepest most desperate desires of our hearts. Now you, who have never known your family, you see them standing beside you. But remember this, Harry. This mirror gives us neither knowledge or truth. Men have wasted away in front of it, even gone mad. That is why tomorrow it will be moved to a new home, and I must ask you not to go looking for it again. It does not do to dwell on dreams, Harry, and forget to live. Good afternoon, Harry. Tokens from your admirers? What happened down in the dungeons beterrn you and Professor Quirrell is a complete secret. So naturally the whole school knows. I see that your friend Ronald has saved you the trouble of opening your chocolate frogs. Fine. They're both just fine. Relax, dear boy. The Stone has been destroyed. My friend Nicholas and I have had a little chat, and agreed it was best all around. He has enough Elixir to set his affairs in order. But yes, he will die. Ah. You see, only a person who wanted to find the Stone, but not use it, would be able to get it. That is one of my more brilliant ideas. And between you and me that is saying something. Ah, I'm afraid there are ways in which he can return. Harry, do you know why Professor Quirrell couldn't bear to have you touch him? It was because of your mother. She sacrificed herself for you, and that kind of act leaves a mark. No, no, this kind of mark cannot be seen. It lives in your very skin. Love, Harry, love. Ah. Bertie Bott's Every Flavour Beans. I was most unfortunate in my youth to come across a vomit flavoured one, and since then I'm afraid I have lost my liking for them. But I think I could be safe with a nice toffee Mm Alas. Earwax. Another year, gone! And now, as I understand it, the house cup needs awarded and the points stand thus. In fourth place, Gryffindor, with 312 points! In third place, Hufflepuff, with 352 points! Second, Ravenclaw, with 426 points!And in first place, with 472 points, Slytherin house!Yes, well done Slytherin, well done Slytherin. However, recent events must be taken into account and I have a few last minute points to award.To Miss Hermione Granger, for the cool use of intellect while others were in grave peril, fifty points!Second, to Mr. Ronald Weasley, for the best played game of chess that Hogwarts has seen these many years, fifty points! And third, to Mr. Harry Potter, for pure love and outstanding courage, I award Gryffindor house, sixty points! And finally, it takes a great deal of bravery to stand up to your enemies, but a great deal more to stand up to your friends. I award ten points to Neville Longbottom! Assuming my calculations are correct, I believe that a change of decoration is in order! Gryffindor wins the House Cup! They are not. I am well aware of our bylaws, Severus, having written quite a few of them myself. However, as head of Gryffindor house, it is for Professor McGonagall to determine the appropriate action. Argus! Argus! I Everyone will proceed to their dormitories immediately. Everyone except you three. She's not dead Argus. She has been petrified. But how she has been petrified, I cannot say. Innocent until proven guilty, Severus. We will be able to cure her, Argus. As I understand it, Madame Sprout has a very healthy growth of Mandrakes. When matured, a potion will be made which will revive Mrs. Norris. And in the meantime, I strongly recommend caution to all. There's been another attack. It means that our students are in great danger. The truth. Tell them Hogwarts is no longer safe. It is as we feared, Minerva. The Chamber of Secrets has indeed been opened again. Harry? Oh, and about time too. He's been looking dreadful for days. Pity you had to see him on a burning day. Fawkes is a phoenix, Harry. They burst into flames when it is time for them to die, and then they are reborn from the ashes. Ah, fascinating creatures, phoenixes. They can carry immensely heavy loads, and their tears have healing powers. Hagrid. Hagrid! Relax. I do not believe that Harry attacked anyone. Yes. No, Harry. I do not think it was you But I must ask you, is there something you wish to tell me? Very well, then. Off you go. Riddle! Come. It is not wise to be wandering around at this late hour, Tom. I'm afraid they are, Tom. They are true. I understand, Tom. But I'm afraid Headmaster Dippet may have no choice. Is there something you wish to tell me? Very well, then. Off you go. Good evening, Hagrid. I wonder, could we? I want it understood, Cornelius, that Hagrid has my full confidence. Well, what exactly is it that you want with me? Calm yourself, Hagrid. If the governors desire my removal, I will, of course, step aside. However, you will find that help will always be given at Hogwarts to those who ask for it. You both realise, of course, that in the past few hours you have broken perhaps a dozen school rules? And there is sufficient evidence to have you both expelled. Therefore, it is only fitting that you both receive Special Awards for Services to the school. And now, Mr. Weasley, if you would, have an owl deliver these release papers to Azkaban? I believe we- we want our gamekeeper back. Harry first, I want to thank you, Harry. You must have shown me real loyalty down in the Chamber. Nothing but that could have called Fawkes to you. And, um... second, I sense something is troubling you. Am I right, Harry? I see. Well, you can speak Parseltongue, Harry. Why? Because Lord Voldemort can speak Parseltongue. If I'm not mistaken, Harry, he transferred some of his powers to you the night he gave you that scar. Not intentionally, but yes. It's true, Harry. You possess many of the qualities that Voldemort himself prizes. Determination, resourcefulness, and if I may say so, a certain disregard for the rules. Why then, did the Sorting Hat place you in Gryffindor? Exactly, Harry! Exactly! Which makes you different from Voldemort. It is not our abilities that show what we truly are. It is our choices. If you want proof why you belong in Gryffindor, then I suggest that you look more closely at this. Be careful. Ah, it would take a true Gryffindor to pull that out of the hat. When the governors learned that Arthur Weasley's daughter was taken into the Chamber, they saw fit to summon me back. Curiously, Lucius, several of them were under the impression that you would curse their families, if they did not agree to suspend me in the first place. I beg your pardon? Oh, yes. Voldemort. Only, this time, he chose to act through somebody else, by means of this. Fortunately, our young Mr. Potter discovered it. One hopes that no more of Lord Voldemort's old school things should find their way into innocent hands. The consequences for the one responsible would be severe. Before we begin the feast, let us have a round of applause for Professor Sprout and Madame Pomfrey, whose Mandrake juice has been so successfully administered to all who had been petrified. Also, in light of the recent events, as a school treat, all exams have been cancelled!\n"
     ]
    }
   ],
   "source": [
    "Dumbledore_dia = grouped_dialogue[grouped_dialogue['character_name'] == 'Albus Dumbledore']['dialogue'].iloc[0]\n",
    "print(Dumbledore_dia)"
   ]
  },
  {
   "cell_type": "code",
   "execution_count": 255,
   "id": "4ffc78c3-3b20-4a17-9ff9-80e71bbc02a7",
   "metadata": {},
   "outputs": [
    {
     "name": "stdout",
     "output_type": "stream",
     "text": [
      "Yes, Aunt Petunia. Yes, Uncle Vernon. He's asleep! Sorry about him. He doesn't understand what it's like, lying there day after day, having people press their ugly faces in on you. Can you hear me? It's just I've never talked to a snake before. Do you I mean do you talk to people often? You're from Burma, aren't you? Was it nice there, do you miss your family? I see. That's me as well. I never knew my parents, either. Any time. Ow! I swear I don't know! One minute, the glass was there and then it was gone! It was like magic! Hey, give it back! It's mine! Because there's no post on Sunday? Get off! Ahh! They're my letters! Let go of me! Make a wish, Harry. I-I am. Thank you! Excuse me, who are you? Sorry, no. Learned what? I-I'm a what? No, you've made a mistake. I can't be a-a wizard. I mean, I'm just Harry. Just Harry. Dear, Mr. Potter. We are pleased to inform you that you have been accepted at Hogwarts' School of Witchcraft and Wizardry. You knew? You know all along and you never told me? Blown up? You told me my parents died in a car crash! Muggle? Okay. All students must be equipped with one standard size two pewter cauldron, and may bring if they desire, either an owl, a cat or a toad. Could we find all this in London? Oh, nice to meet you. Goodbye. But why am I famous, Hagrid? All those people back there, how is it they know who I am? But, Hagrid, how am I to pay for all this? I haven't any money. Uh, Hagrid, what exactly are these things? What's in there, Hagrid? I still need a wand. Hello? Hello? Sorry, but whats curious? And who owned that wand? Wow. He killed my parents, didn't he? The one who gave me this. You know, Hagrid, I know you do. Maybe if you wrote it down? Voldemort? Me? Voldemort tried to kill me? What happened toto You-Know-Who? Platform nine-and-three-quarters? But, Hagrid, there must be a mistake. This says Platform nine-and-three-quarters. There's no such thing is there?  Excuse me, excuse me. Excuse me, sir. Can you tell me where I might find Platform nine-and-three-quarters? Muggles? Excuse me! C-could you tell me how to- Not at all. I'm Harry. Harry Potter. The what? Oh. We'll take the lot! Bertie Bott's Every Flavour Beans? These aren't real chocolate frogs, are they? I got Dumbledore! Hey, he's gone! A little. Yeah! Hey, Hagrid. I think I can tell who the wrong sort are for myself, thanks. Ahh! Nothing nothing, I'm fine. Not Slytherin. Not Slytherin. Not Slytherin Anything but Slytherin. Wow. Say, Percy, who's that teacher talking to Professor Quirrell? What's he teach? I think she fancies you. We got lost. I don't know, sir. I don't know, sir. What's Seamus trying to do to that glass of water? Can I borrow this? Thanks. Hey, Ron, somebody broke into Gringotts, listen. Believed to be the work of dark witches or wizards unknown, Gringotts goblins, while acknowledging the breach, insist that nothing was taken. The vault in question, number seven-hundred-and-thirteen, had in fact been emptied earlier that same day. That's odd. That's the vault Hagrid and I went to. Up! Wow. Neville! Give it here, Malfoy. Give it here, Malfoy, or I'll knock you off your broom. A century! According to McGonagall. But I've never even played Quidditch. What if I make a fool of myself? I didn't know. Who doesn't? What's happening? Let's go this way. Does anyone feel like we shouldn't be here? Let's go. Run! Quick! Let's hide through that door! It's locked! And for good reason. AHHHHH! Guarding something? I think so. What are those? What is that? I like this ball. What do I do with it? Whoa. I think we're going to need another feather over here, Professor. I think she heard you. Where's Hermione? How could a troll get in? Hermione! She doesn't know! It's going into the girls' bathroom! Hermione, move! Whoa!! Whoa, whoa!  Whoa whoa whoa! Do something! Anything! Hurry up. I don't think so. Just knocked out. Ew. Troll bogies. Well, what it is I'm not hungry. That explains the blood. Listen, last night, I'm guessing Snape let the troll in as a diversion so he could try and get past that three headed dog. But, he got himself bitten. That's why he's limping. The day I was at Gringotts, Hagrid took something out of one of the vaults. He said it was Hogwarts business, very secret. That's what the dog's guarding. That's what Snape wants. But I-I never get mail. It's a broomstick! But who..? A little. What happened? Yes! Whoa! Yes! Whoa! Whoa! Who knows? Why was he trying to get past that three-headed dog on Halloween? Yes? But Hagrid, whatever Fluffy's guarding, Snape's trying to steal it. Exactly. Nicholas Flamel? Nicholas Flamel. Who's Nicholas Flamel? Knight to E5. Happy Christmas, Ron. What are you wearing? I-I've got presents? Your father left this in my possession before he died. It is time it was returned to you. Use it well. It's some kind of cloak. My body's gone! I'm invisible? There was no name. It just said use it well. Famous Fire EatersFifteenth-Century FiendsFlamelNicholas Flamelwhere are you? Mum? Dad? Ron! You've really got to see this! Ron! You've got to see this! Ron! Come on! Get out of bed! There's something you've got to see. Now, come on! Come on. Come on. Come look, it's my parents! Look in properly. Go on. Stand there. You see them, don't you? That's my dad. How can it? Both my parents are dead. So, then it shows us what we want? Whatever we want? The what? Sshhh! Hagrid! We know about the Philosopher's Stone! We think Snape's trying to steal it. Hagrid, we know he's after the stone. We just don't know why. What? Wait a minute. One of the teachers? Uh, Hagrid, what exactly is that? Norbert? Malfoy. Hagrid always wanted a dragon. He told me so the first time I met him. I don't understand. Is that bad? Fifty?! Hagrid, what's that? If I didn't know better, Draco, I'd say you were scared. What is it, Fang? But what was that thing you saved me from? But who would choose such a life? Do you mean to say that thing that killed the unicorn that was drinking its bloodthat was Voldemort? The Philosopher's Stone. But he's weak. He's living off the unicorns. Don't you see? We had it wrong! Snape doesn't want the Stone for himself. He wants the Stone for Voldemort. With the Elixir of Life, Voldemort will be strong again. He'll he'll come back. I think if he'd had the chance, he might've tried to kill me tonight. My scar. It keeps burning. Not like this. I think it's a warning. It means danger's coming. Oh. Of course. Don't you think it's a bit odd that what Hagrid wants more than anything is a dragon and a stranger turns up who just happens to have one? I mean, how many people wander around with dragon eggs in their pocket? Why didn't I see it before? Hagrid, who gave you the dragon egg? What did he look like? This stranger though, you and he must have talked? Did he seem interested in Fluffy? We have to see Professor Dumbledore, immediately! He's gone? But this is important! This is about the Philosopher's Stone. Someone's going to try and steal it. That was no stranger Hagrid met in the village. It was Snape, which means he knows how to get past Fluffy. We go down the trapdoor, tonight. No Neville, listen. We were- Let's go. Sorry. Wait a minute. He's snoring. Snape's already been here. He's put a spell on the harp. We have to move its paw. Come on! Okay. Push. I'll go first. Don't follow until I give you a sign. If something bad happens, get yourselves out. Does it seem a bit quiet to you? Jump!! Wow! Oh, ah! Hermione! Hermione, where are you? Yeah, yeah, I'm fine. Apparently not. What? Ron, you okay? Okay. Lucky Hermione pays attention in Herbology. I don't know. Sounds like wings. They're not birds. They're keys. And I bet one of them fits that door. I don't know. Strange. There! I see it! The one with the broken wing! It's too simple. Catch the key! Where are we? A graveyard? There's the door. Wait a minute. No, Ron, no! He's going to sacrifice himself. Ron! No! Don't move! Don't forget, we're still playing. Checkmate Take care of Ron. Then go to the owlery, send a message to Dumbledore. Ron's right. I have to go on. Not as good as you. Ow! You? N-no, it can't be! Snape, h-he w-was the- But that day, during the Quidditch match, Snape tried to kill me. Snape was trying to save me? Th-then you let the troll in! I'm shaking hands with Dumbledore. I've won the house cup. Voldemort. Never! You liar! Admirers? Ron was here? Is he all right? What about Hermione? But what happened to the Stone? But then Flamel, he'll die, won't he? How is it I got the stone, sir? One minute I was staring in the mirror and- Does that mean, with the Stone gone, that is, that Voldemort can never come back? What is it? All right there, Ron? All right. Hermione? One minute. Thanks, Hagrid. But Hagrid, we're not allowed to do magic away from Hogwarts. You know that. I'm not going home, not really. I can't let you out, Hedwig. I'm not allowed to use magic outside of school. Besides, if Uncle Vernon- Now you've done it. But she's bored. If I could only let her out for an hour or two. But I haven't had any messages from any of my friends. Not one. All summer. I'll be in my bedroom, making no noise and pretending that I don't exist. Who are you? Not to be rude or anything, but this isn't a great time for me to have a house elf in my bedroom. Why don't you sit down? Dobby, sshh!! I'm sorry! I didn't mean to offend you or anything. You can't have met many decent wizards then. Stop, Dobby! Dobby, shh!! Dobby, please stop! Dobby, stop! Please be quiet. Are you all right? Your family? What terrible things? Who's plotting them? Okay, I understand. You can't say. Dobby? Dobby, put the lamp down. Give me the lamp! Dobby, stop! Get in there and keep quiet! I was just Sorry. Yes sir. See why I've got to go back?! I don't belong here. I belong in your world, at Hogwarts. It's the only place I've got friends. Well I expect they've been Hang on, how did you know my friends haven't been writing to me? Give me those, now. Dobby, get back here. Dobby, please, no.  I can't. Hogwarts is my home. Ron, Fred, George, what are you all doing here? Ahh! Ahh! Let go of me! I think it's brilliant. Hello. W-what did I do? Raids? Oh, sorry sir. I'm Harry sir, Harry Potter. Oh. Um Floo powder? Diagonally. Ahh! Ah! I'm fine, thank you. I-I was just No. Please. Hagrid! I was lost! Hang on, what were you doing down there, then? Oh it's great to see you too. I definitely need to remember that one. Thank you. Bye. Voldemort killed my parents. He was nothing more than a murderer. Let's go. Ahhhh! Sorry. Lost- lost control of the trolley. Why can't we get through? The train leaves at exactly eleven o'clock. We've missed it! Maybe we should just go and wait by the car. Ron, I should tell you, most Muggles aren't accustomed to seeing a flying car. Now all we need to do is catch up with the train. Do you hear that? Hold on Wha-aahhhhh! I'm trying. Your hand's all sweaty. I think we found the train. Up! Up! Up! Up! Ron! Mind that tree! Ahhhhh! Be thankful it's not your neck. I don't know. Ahhhhh! Ahhhhh! Ahhhhh! Come on! Go! Fast! See you, Hedwig. So, a house elf shows up in my bedroom, we can't get through the barrier to platform nine and three-quarters, we almost get killed by a tree clearly someone doesn't want me here this year. Professor Dumbledore. Professor McGonagall. You're doomed. Oh, hi, Colin. Nice to meet you. Stop! Stop! Hold still! Malfoy? No, Colin! Get out of the way! Let's take him to Hagrid's. He'll know what to do. Ah! Oh, okay. Malfoy. He called Hermione um, well, I don't- I dont know exactly what it means. What's a Mudblood? That's horrible! Not really. What? That voice. Didn't you hear it? Spooky. Did you hear it? That voice. I heard it first in Lockhart's office. And then again just- It's moving.. I think it's going to kill. Strange. I've never seen spiders act like that. Oh no. It's Filch's cat. It's Mrs. Norris. No. No. It's not true, sir, I swear. I never touched Mrs. Norris. When I said I wasn't hungry. We were heading back to the common room when we found Mrs. Norris. Strange? Do you think I should have told them? Dumbledore and the others, I mean? Well, if there really is a Chamber of Secrets, a-and it really has been opened, then that means Well, maybe Ron's right, Hermione. I mean, look at his family. The whole lot of them have been in Slytherin for centuries. Well, how long will it take to make? A month? But, Hermione, if Malfoy is the heir of Slytherin, he could attack half the Muggle-borns in the school by then. Wood! Look out! Thank you. No, I think my I think my arm's broken. No, not you. Ugh! Ugh! Dobby? It was you You stopped the barrier from letting Ron and me through. You nearly got Ron and me expelled! Your Bludger? You made that Bludger chase after me? You'd better clear off before my bones come back, Dobby, or I might strangle you! I don't suppose you could tell me why you're trying to kill me? Why do you wear that thing, Dobby? Repeat itself? You mean this has happened before? Dobby, stop it! Stop it! Stop, Dobby! Tell me, Dobby. When did this happen before? Who's doing it now? No, Dobby. Tell me. Who is it? Thank you, sir. You wish. Rictusempra! Sya hassa she. Sya hasi heth. Sya hasi heth. I'm a what? I know. I mean, I accidentally set a python on my cousin Dudley at the zoo once. Uh, once! But, so what? I bet loads of people here can do it. What's bad? If I hadn't told that snake not to attack Justin- You were there! You heard me! I spoke a different language? But I didn't realise I- how can I speak a language without knowing I can? But I'm not. I can't be. I'll see you back in the common room. No! Mr. Filch! Y-you-you don't understand! Professor I swear I didn't! Professor Dumbledore? I I-I was - I was just wondering if you'd put me in the right house. You're wrong. Professor! Sir, your bird there was nothing I could do! He- he just caught fire! You don't think it was me, Professor? No sir, nothing. Crabbe and Goyle. Ron, maybe I should do it? Wingardium Leviosa. Here they come. Come on. Let's get em. Eughhh! Ron! We still sound like ourselves. You need to sound more like Crabbe. Excellent. Hermione, are you okay? Come on. I think the Slytherin common room's this way. I'm Ah Um Reading. Uh huh. You're wrong! Harry Potter? But then you must have some idea who's behind it all. It's his stomachache. Calm down. Hair! Hermione, come out! We've got loads to tell you! Hermione? Are you okay? She should be out of hospital in a few days, when she stops coughing up fur balls. What's this? Looks like Moaning Myrtle's flooded the bathroom. Why would I throw something at you? But, who threw it at you anyway? Tom Marvolo Riddle. My name is Harry Potter. Do you know anything about the Chamber of Secrets? Can you tell me? Excuse me. Could you tell me what's going on here? Are you Tom Riddle? Hello? Can you hear me? Dumbledore? Hagrid! Hagrid! Wow! It was Hagrid. Hagrid opened the Chamber of Secrets fifty years go. The monster had killed somebody, Ron. What would any of us have done? No! What's that you've got, Hagrid? And they found it. Tom Riddle's diary is gone. No. We've got to talk to Hagrid, Ron. I can't believe it's him, but if he did set the monster loose last time, he'll know how to get inside the Chamber of Secrets, and that's a start. I think it's time to get my dad's old cloak out again. What's that for? Hagrid, are you okay? Did you hear about Hermione? Look, we have to ask you something. Do you know who's opened the Chamber of Secrets? Look! Well, come on. Come on, Fang! Come on! You heard what Hagrid said. Follow the spiders. Shush! Come on! Don't panic. We're friends of Hagrid's. And you? Y-y-you're Aragog aren't you? He's in trouble. Up at the school, there have been attacks. They think it's Hagrid. They think he opened the Chamber of Secrets, like before. Then you're not the monster. Shush. But if you're not the monster, then- then what did kill that girl fifty years ago? But have you seen it? What? Well, thank you. We'll just go. One, but it's not powerful enough for all of them. Let's go! Arania exumai! Go! Woah! Arania exumai! Don't mention it. Get us out of here. Now! Come on! Come on! Move faster! Ahhh! Go on! Go! Get us in the air. Come on! Pull! We know one thing. Hagrid never opened the Chamber of Secrets. He was innocent. Wish you were here Hermione. We need you now, more than ever. Ron, this is why Hermione was in the library the day she was attacked. Come on! Of the many fearsome beasts that roam our land, none is more deadly than the basilisk. Capable of living for hundreds of years, instant death awaits any who meet this giant serpent's eye. Spiders flee before it. Ron, this is it! The monster in the Chamber of Secrets is a basilisk. That's why I can hear it speak. It's a snake! Because no one did look it in the eye. Not directly, at least. Colin saw it through his camera. Justin must have seen the basilisk through Nearly Headless Nick. Nick got the full blast of it, but he's a ghost, he can't die again. And Hermione had the mirror. I bet you anything she was using it to look around corners, in case it came along. The water. There was water on the floor that night. She only saw the basilisk's reflection. Spiders flee before it. It all fits! Hermione's answered that too. Remember what Aragog said, about that girl fifty years ago? She died in a bathroom? What if she never left? Lockhart may be useless, but he's going to try and get into the Chamber. At least we can tell him what we know. Professor, we have some information for you! Are you going somewhere? You're running away? After all that stuff you did in your books? You wrote them! You're a fraud! You've just been taking credit for what other wizards have done! Don't even think about it. To ask you how you died. Who was it, Myrtle? Just like that? How? This is it. This is it, Ron. I think this is the entrance to the Chamber of Secrets. Hesha hassah. Oh yes there is! You first. All right. Let's go. Uh thanks, Myrtle. Ahhhh! Now remember, any sign of movement, close your eyes straightaway. This way. It's a snakeskin. Ron! Ron, are you okay? You wait here and try and shift some of this rock so we can get back through! I'll go on and find Ginny! Hesha hassah. Ginny Ginny! Oh, Ginny, please don't be dead. Wake up. Wake up! Please, wake up! Tom. Tom Riddle! What do you mean, she won't wake? She's not? Are you a ghost? She's cold as ice. Ginny, please don't be dead. Wake up! You've got to help me, Tom. There's a basilisk. Give me my wand, Tom. Listen, we've got to go! We've got to save her! No. She couldn't. She wouldn't! But why? But, why did you want to meet me? Hagrid's my friend! And you framed him, didn't you? I'll bet Dumbledore saw right through you. Well, you haven't finished it this time. In a few hours, the Mandrake Draught will be ready, and everyone who was petrified will be all right again. Why do you care how I escaped? Voldemort was after your time. You! You're the Heir of Slytherin. You're Voldemort. Albus Dumbledore is the greatest sorcerer in the world! He'll never be gone! Not as long as those who remain are loyal to him! Fawkes? Ginny. Ginny. Don't worry. Ginny, you need to get yourself out. Follow the Chamber, and you'll find Ron. You were brilliant, Fawkes. I just wasn't quick enough Of course! Phoenix tears have healing powers. Thanks! It's alright, Ginny. It's over. It's just a memory. Yes, sir. Yes, sir. It's just You see, sir, I- I couldn't help but notice certain things, certain- certain similarities between Tom Riddle and me. Voldemort transferred some of his powers to me? So the Sorting Hat was right! I should be in Slytherin. Because I asked it to. Godric Gryffindor. Dobby! So this is your master! The family you serve is the Malfoys. Don't worry. I will be. Sir, I wonder if I could have that? Mr. Malfoy! Mr. Malfoy! I have something of yours. Oh I think you do, sir. I think you slipped the diary into Ginny Weasley's cauldron, that day at Diagon Alley. Open it. Just promise me something. Never try to save me life again. Well, we had loads of help from you. We couldn't have done it without you. Well there's no Hogwarts without you, Hagrid.\n"
     ]
    }
   ],
   "source": [
    "Harry_dia = grouped_dialogue[grouped_dialogue['character_name'] == 'Harry Potter']['dialogue'].iloc[0]\n",
    "print(Harry_dia)"
   ]
  },
  {
   "cell_type": "code",
   "execution_count": 256,
   "id": "95da342b-52e5-4ac8-ae71-723c5cd1e9c2",
   "metadata": {},
   "outputs": [
    {
     "name": "stdout",
     "output_type": "stream",
     "text": [
      "Has anyone seen a toad? A boy named Neville's lost one. Oh, are you doing magic? Let's see, then. Are you sure that's a real spell? Well, it's not very good, is it? Of course I've only tried a few simple spells myself, and they've all worked for me. For example Oculus Reparo. That's better, isn't it? Holy Cricket, you're Harry Potter! I'm Hermione Granger, and you are..? Pleasure. You two better change into your robes. I expect we'll be arriving soon. You've got dirt, on your nose, by the way, did you know? Just there. It's not real, the ceiling. It's just bewitched to look like the night sky. I read about it in Hogwarts: A History. Oh no. Okay, relax. Nearly headless? How can you be nearly headless? I've read about those. When the smoke turns red, it means you've forgotten something. Up. Up. Up. Up. Harry, no way! You heard what Madam Hooch said! Besides, you don't even know how to fly! What an idiot. You won't make a fool of yourself. It's in your blood. The staircases change, remember? We're not supposed to be here. This is the third floor. It's forbidden. Oh, move over! Alohomora. Get in. Standard Book of Spells, Chapter Seven. Filch is gone. It was locked. AHHHHH! You don't use your eyes, do you? Didn't you see what it was standing on? It was standing on a trap door. Which means it wasn't there by accident. It's guarding something. That's right. Now, if you two don't mind, I'm going to bed, before either of you come up with another clever idea to get us killed or worse, expelled! Stop, stop, stop. You're going to take someone's eye out. Besides, you're saying it wrong. It's Leviosa, not Leviosar. Wingardium Leviosa. Help! Help! Ahhhh! Help! Swish and flick! Is it dead? It's my fault, Professor McGonagall. I went looking for the troll. I'd read about them and thought I could handle it. But I was wrong. If Harry and Ron hadn't come and found me, I'd probably be dead. Ron's right, Harry. You're going to need your strength today. Blood? But why would anyone go near that dog? So you're saying Bit early for mail, isn't it? It's Snape! He's jinxing the broom! Leave it to me. Lacarnum Inflamarae. Whoo-hoo!! That thing has a name? Hogwarts teacher or not, I know a spell when I see one. I've read all about them. You've got to keep eye contact and Snape wasn't blinking. I don't know. That's totally barbaric! I see you haven't. Good. You can help Harry then. He's going to go and look in the library for information on Nicholas Flamel. Not in the restricted section. Happy Christmas. I had you looking in the wrong section! How could I be so stupid? I checked this out a few weeks ago for a bit of light reading. Of course! Here it is! Nicholas Flamel is the only known maker of the Philosopher's Stone! Honestly, dont you two read? The Philosopher's Stone is a legendary substance with astonishing powers. It will turn any metal into pure gold and produces the Elixir of Life, which will make the drinker immortal. It means you never die. The only stone currently in existence belongs to Mr. Nicholas Flamel, the noted alchemist, who last year celebrated his six-hundred-and-sixty-fifth birthday! That's what Fluffy's guarding on the third floor. That's what's under the trapdoor the Philosopher's Stone! We know about the Philosopher's Stone! Of course! There are other things defending the Stone, aren't there? Spells, enchantments! Is that a dragon? Well, that's good, isn't it? He'll be with his own kind. Harry! You mean You-Know-Who's out there right now, in the forest? Hang on a minute. We're forgetting one thing. Who's the one wizard Voldemort always feared? Dumbledore. As long as Dumbledore's around, Harry, you're safe. As long as Dumbledore's around, you can't be touched. I'd always heard Hogwarts end of year exams were frightful, but I found they're rather enjoyable. It's happened before. What is it? And with Dumbledore gone- Uh, uh, w-w-we were just- Now what do we do? Neville, I'm really really sorry about this. Petrificus Totalus. Sorry. Ow, you stood on my foot! Alohomora. The harp. It's stopped playing. Stop moving, both of you. This is Devil's Snare. You have to relax. If you don't, it will only kill you faster. Just relax! Do what I say! Trust me! Are you okay? He's not relaxing, is he? We've gotta do something! Eugh, I remember reading something in Herbology. Um, Devil's Snare, Devil's Snare. It's deadly fun, but will sulk in the Sun. That's IT! Devil's Snare hates sunlight! Lumus Solem. What is that? Curious. I've never seen birds like these. What's this all about? Eugh! What are we going to do? There must be a thousand keys up there. What's wrong, Harry? I don't like this. I don't like this at all. Now what do we do? What happens now? Ron, you don't suppose this is going to be like real wizard's chess, do you? What is it? No you can't! There must be another way! You'll be okay, Harry. You're a great wizard. You really are. Heh, me? Books and cleverness. There are more important things. Friendship and bravery. And Harry, just be careful. Never better. We're tied with Slytherin! Come on, Harry. Feels strange to be going home, doesn't it? Harry! Hagrid!  Oh it's so good to see you! What did you do to your glasses? Oculus Reparo. Okay, bye! Come on. Everyone's been so worried. Fear of a name only increases fear of the thing itself. Mandrake, or Mandragora, is used to return those who have been petrified to their original state. It's also quite dangerous. The Mandrake's cry is fatal to anyone who hears it. Get off me! Immobulus! At least no one on the Gryffindor team had to buy their way in. They got in on pure talent. You okay, Ron? Say something! He called me a Mudblood. It means dirty blood. Mudblood's a really foul name for someone who is Muggle-born. Someone with non-magic parents. Someone like me. It's not a term one usually hears in civilized conversation. Harry! Voice? What voice? Harry, wait! Not so fast! The chamber of secrets has been opened. Enemies of the heir, beware. It's written in blood. That's why Ron and I went looking for him, Professor. We'd just found him when he said It's a bit strange, isn't it? You hear this voice, a voice only you can hear, and then Mrs. Norris turns up petrified. It's just... strange. No, Harry. Even in the wizarding world, hearing voices isn't a good sign. Professor, I was wondering if you could tell us about the Chamber of Secrets? Muggle-borns. Professor? What exactly does legend tell us lies within the Chamber? Yes. Couldn't you tell? McGonagall's worried. All the teachers are. The heir of Slytherin has returned to Hogwarts. The question is, who is it? If you're talking about Malfoy. I heard him. But Malfoy, the heir of Slytherin? Even they aren't that thick. But there might be another way. Mind you, it would be difficult. Not to mention, we would be breaking about fifty school rules. And, it'll be dangerous. Very dangerous. Here it is. The Polyjuice Potion. Properly brewed, the Polyjuice Potion allows the drinker to transform himself temporarily into the physical form of another.  Yes. Exactly. But it's tricky. I've never seen a more complicated potion. A month. I know. But it's the only plan we've got. No! Even with a proper wand it's too risky. You could hit Harry! Let's go. Finite incantatem. Are you okay? You will be able to, won't you? Again? You mean the Chamber of Secrets has been opened before? Maybe. We'll have to wait for the Polyjuice Potion to know for sure. Heh No. No one ever comes in here. Moaning Myrtle. Moaning Myrtle. She's a little sensitive. Do you think he's all right? Oh! You can talk to snakes. No, they can't. It's not a very common gift Harry. This is bad. I don't know, Harry, but it sounded like you were egging the snake on, or something. Harry, listen to me. There's a reason the symbol of Slytherin House is a serpent. Salazar Slytherin was a Parselmouth. He could talk to snakes, too. He lived a thousand years ago. For all we know, you could be. Everything's set. We just need a bit of who you're changing into. We also need to make sure that the real Crabbe and Goyle can't burst in on us while we're interrogating Malfoy. I've got it all worked out. I filled these with a simple Sleeping Draught. Simple, but powerful. Now, once they're asleep, hide them in the broomstick cupboard and pull out a few of their hairs, and put on their uniforms. I've already got mine. Millicent Bulstrode, Slytherin, I got this off her robes. I'm going to go check on the Polyjuice Potion. Make sure that Crabbe and Goyle find these. We'll have exactly one hour before we change back into ourselves. Add the hairs. Cheers! Me too. I- I don't think I'm going. You go on without me. Just go. You're wasting time! Go away! Do you remember me telling you that the Polyjuice Potion was only for human transformations? It was cat's hair I plucked off Millicent Bulstrode's robes. Look at my face. It can't be Hagrid. It just can't be. Look, Hagrid's our friend. Why don't we just go and ask him about it? No! It had to be a Gryffindor. Nobody else knows our password, unless it wasn't a student. Thanks, Sir Nicholas! It's good to be back! Congratulations! I can't believe you solved it! Thanks. Oh no!\n"
     ]
    }
   ],
   "source": [
    "Hermione_dia = grouped_dialogue[grouped_dialogue['character_name'] == 'Hermione Granger']['dialogue'].iloc[0]\n",
    "print(Hermione_dia)"
   ]
  },
  {
   "cell_type": "code",
   "execution_count": 257,
   "id": "0cf6b478-04f7-45aa-93c8-5c3a073f4dfd",
   "metadata": {},
   "outputs": [
    {
     "name": "stdout",
     "output_type": "stream",
     "text": [
      "Excuse me, do you mind? Everywhere else is full. I'm Ron, by the way. Ron Weasley. So-so it's true? I mean, do you really have the the Scar? Wicked. No, thanks, I'm all set. Whoa! They mean every flavour! There's chocolate and peppermint, and there's also spinach, liver and tripe. George sweared he got a bogey-flavoured one once! It's just a spell. Besides, it's the cards you want. Each pack's got a famous witch or wizard. I got about five-hundred myself. Watch it! Oh, that's rotten luck. They've only got one good jump in them to begin with. I got about six of him. Well, you can't expect him to hang around all day, can you? This is Scabbers by the way, pathetic isn't he? Fred gave me a spell as to turn him yellow. Want to see? Ahem. Sun No. Sunshine, daisies, butter mellow, turn this stupid fat rat yellow! I'm Ron Weasley. Whoa! Wicked. Mental, that one, I'm telling you. There isn't a witch or wizard who went bad who wasn't in Slytherin. Harry, what is it? Ahhh! I know you! You're Nearly Headless Nick! Ahhh! Look at that one, Harry! Whew, made it. Can you imagine the look on old McGonagall's face if we were late? That was bloody brilliant. Turn it into rum. Actually managed a weak tea yesterday, before- Ah! Mail's here! Up! Ow! Shut up, Harry. Seeker? But first years never make their house teams! You must be the youngest Quidditch player in- Fred and George are on the team too. Beaters. Oh, go on, Harry, Quidditch is great. Best game there is! And you'll be great too! Whoa. Harry, you never told me your father was a Seeker too! I'm telling you, it's spooky. She knows more about you than you do. Ahhh! Before the staircase moves again. It's Filch's cat! That's it! We're done for! Alohomora? Probably thinks this door's locked. AHHHHH! What do they think they're doing? Keeping a thing like that locked up in a school. I wasn't looking at its feet! I was a bit preoccupied with its heads! Or maybe you didn't notice, there were three! She needs to sort out her priorities. Wingardium Leviosar! You do it then if you're so clever. Go on, go on. It's Levioooosa, not Leviosaaar. She's a nightmare, honestly. No wonder she hasn't got any friends. Not by itself. Trolls are really stupid. Probably people playing jokes. What? I think the troll's left the dungeon. Hey, pea brain! Ew. What? Wingardium Leviosa! Well, what it is Take a bit of toast, mate, go on. Let's open it. That's not just any broomstick, Harry! It's a Nimbus two-thousand! Yay! Jinxing the broom? What do we do? Come on, Hermione! Go! Fluffy? Queen to E5. That's wizard's chess. I see you've packed. Change of plans. My parents decided to go to Romania to visit my brother Charlie. He's studying dragons there. We've looked a hundred times. I think we've had a bad influence on her. Harry, wake up! Come on Harry, wake up! Happy Christmas, Harry. Oh. My mum made it. It looks like you've got one too. Yeah! There they are. What is it? Well, let's see then, put it on. Whoa! I know what that is. That's an invisibility cloak. They're really rare. I wonder who gave it to you. Why? I only see me. That's me! Only, I'm head boy and I'm holding the Quidditch cup! And bloody hell, I'm Quidditch Captain too! I look good. Harry, do you think this mirror shows the future? This is light? The what? Immortal? I know what it means! We know about the Philosopher's Stone! I know what that is! But Hagrid, how did you get one? That's not just a dragon. That's a Norwegian Ridgeback! My brother Charlie works with these in Romania. It's crazy. And worse, Malfoy knows. It's bad. Okay. But, if he comes back, you don't think he'll try to kill you, do you? And to think, I've been worrying about my Potions final. Speak for yourself. All right there Harry? Perhaps you should see the nurse. Trevor. Trevor, sshh, go! You shouldn't be here! You're a little scary sometimes, you know that? Brilliant, but scary. It's for your own good, you know. Sorry. Eugh. It's got horrible breath. What? Euuugh! Yuck! Eugh. Ahhhhhhh!! Wow. Lucky this plant thing's here, really. Kill us faster? Oh, now I can relax! Hermione! Now what are we gonna do? Ahhhhh!! Harry! Harry! Ahhhh! Help! Ahhhhhhhhh! Yeah. Phew! Lucky we didn't panic. Alohomora! Well, it was worth a try. We want a big, old-fashioned one. Probably rusty, like the handle. Oh go on Harry! If Snape can catch it on that old broomstick, you can. You're the youngest Seeker in a century! This complicates things a bit. Hurry up! This is no graveyard. It's a chessboard. It's obvious, isn't it? We've got to play our way across the room. All right, Harry, you take the empty bishop's square. Hermione, you'll be the queen-side castle. And as for me, I'll be a knight. Well, white moves first. And thenwe play. You there, D-5! Yes Hermione, I think this is going to be exactly like wizard chess. Castle to E-4! Pawn to C-3!  You understand right, Harry. Once I make my move, the queen will take me. Then you're free to check the king. Do you wanna stop Snape from getting that stone or not? Harry, it's you that has to go on. I know it. Not me. Not Hermione. You. Knight to H-3. Check All right. You? Hiya, Harry. Rescuing you, of course. Now, come on. Get your trunk! You'd better stand back. Let's go! Come on. Come on, Harry! Hurry up! I've got you Harry! Drive! By the way, Harry, happy birthday! Do you think it'd be all right if we had some of this? It's not much, but it's home. They were starving him, Mum. There were bars on his window! Ginny. She's been talking about you all summer. Bit annoying really. Morning, Dad. Dad works in the Ministry of Magic, in the Misuse of Muggle Artifacts Office. Dad loves Muggles. Thinks they're fascinating. He's always doing that. But Harry's never travelled by Floo powder before, Mum. Diagon Alley. Mum fancies him. Whoaa! I don't know. The gateway's sealed itself for some reason. Harry, if we can't get through, maybe Mum and Dad can't get back! The car Uh, right. Okay. We can't be far behind. We must be getting close. Ahhhhh! Ahhhhh! Ahhhhh! Harry! Hold on! Take my hand! Hold on! Yeah. Welcome home. It's not working! Ahhhhh! Stop! Stop! Stop! Huh Ahhhhh! Ahhahh! My wand! Look at my wand! What's happening? Ahhhhh! Ahhhhh! Ahhhhh! Ahhhhh! Scabbers, you okay? The car! Dad's gonna kill me. Honestly, Professor Snape, I think it did more damage to us. We'll go and get our stuff, then. You're going to expel us, aren't you? Huh Say it, I'm doomed. Bloody bird's a menace! Oh, no! What do we do now? Uh-oh. I smell trouble. Those are Nimbus Two Thousand and Ones! How did you get those? You'll pay for that one Malfoy! Eat slugs! It's disgusting. Hear what? Kill? I don't like spiders. What's that? Are you mad? Ahem. Vera Verto! Three guesses who. Do you think it's true? Do you think there really is a Chamber of Secrets? Let's think. Who do we know who thinks all Muggle-borns are scum? Of course! You heard him! You'll be next Mudbloods. Crabbe and Goyle must know. Maybe we could trick them into telling. Do you mean, if Harry and I drink that stuff, we'll turn into Crabbe and Goyle? Wicked! Malfoy will tell us anything. I'll stop it. Of course. Don't you see? Lucius Malfoy must have opened it when he was at school here. And now he's taught Draco how to do it. Enlighten me. Why are we brewing this potion in broad daylight, in the middle of a girl's lavatory? Don't you think we'll get caught? Why? Who? Who's Moaning Myrtle? Who cares? You're a Parselmouth? Why didn't you tell us? Oh, that's what you said to it! I heard you speaking Parseltongue. Snake language? Exactly! Now the whole school's gonna think you're his great-great-great grandson or something. How? Whose hair are you ripping out then? Ahem Yeah. Right. How thick could you get? Ugh! Essence of Crabbe. I think I'm gonna be sick! Uh Harry? Bloody hell! Uh Bloody hell. But where's Hermione? Okay. What are you doing uh, I mean What are you doing down here? Uhh Ahem Stomachache. S-scar. That was close! Look at your tail! Have you spoken to Hermione? Yuck! But it can't hurt if someone throws something at you. I mean, it'll just go right through you. We don't even know this Tom Riddle. He sounds like a dirty, rotten snitch to me. That'll be a cheerful visit! Hello Hagrid. Tell us, have you been setting anything mad and hairy loose in the castle lately? No! Whoever it was, they must have been looking for something. Hermione! But you heard McGonagall! We're not allowed to leave the tower except for class. That's Dad's boss! Cornelius Fudge, Minister of Magic! Hagrid's right! With Dumbledore gone, there'll be an attack a day! What?! They're headed to the Dark Forest! Why spiders?! Why couldn't it be follow the butterflies?! Harry, I don't like this Harry, I don't like this at all! Can we go back now? Harry. Harry! Ahh Can we panic now? Know any spells? Where's Hermione when you need her? Woah! Glad we're out of there! Ahhhhh! Thanks for that. The flying gear's jammed! I'm trying! Follow the spiders! Follow the spiders! If Hagrid ever gets out of Azkaban, I'll kill him! I mean, what was the point of sending us in there? What have we found out? What's that? But if it kills by looking people in the eye, why is no one dead? And Mrs. Norris? I'm pretty sure she didn't have a camera or a mirror, Harry. But how's a basilisk been getting around? A dirty great snake, someone would have seen it. Pipes? It's using the plumbing! Moaning Myrtle. Her skeleton will lie in the chamber forever. Ginny What about my sister?! You're the Defense Against the Dark Arts teacher! You can't go now! Is there anything you can do? Say something, Harry! Say something in Parseltongue! Better you than us. Ahhhhh! Ugh!  Go on. What's this? Bloody hell. Whatever shed this must be sixty feet long, or more! Heart of a lion, this one. Harry! Harry! I'm fine! Um Ron Weasley. Lockhart's memory charm backfired! He hasn't got a clue who he is! No. What do I do now? Okay! Yes, sir. Yes, sir. Thanks, sir! Uhh umm Wel- Welcome back, Hermione.\n"
     ]
    }
   ],
   "source": [
    "Ron_dia = grouped_dialogue[grouped_dialogue['character_name'] == 'Ron Weasley']['dialogue'].iloc[0]\n",
    "print(Ron_dia)"
   ]
  },
  {
   "cell_type": "code",
   "execution_count": 258,
   "id": "0b978de3-126d-4b18-8a41-febb60b8e166",
   "metadata": {},
   "outputs": [
    {
     "name": "stdout",
     "output_type": "stream",
     "text": [
      "Use the boy. He lies. Let me speak to him. I have strength enough for this. Harry Potter, we meet again. Yes, you see what I've become? See what I must do to survive? Live off another, a mere parasite. Unicorn blood can sustain me, but it cannot give me a body of my own. But there is something that can. Something that, conveniently enough, lies in your pocket. Stop him! Don't be a fool. Why suffer an horrific death, when you can join me, and live. Haha. Bravery. Your parents had it too. Tell me, Harry, would you like to see your mother and father again, together? We can bring them back. All I ask is for something in return. That's it, Harry. There is no good and evil, there is only power, and those too weak to see it. Together, we'll do extraordinary things. Just give me the stone. Kill him! Fool! Get the stone! Professor Dumbledore. Yes, Professor. I-I suppose I had to see for myself if the rumours were true. About the school, as well? I don't have a home to go to. They wouldn't really close Hogwarts, would they Professor? Sir- if it all stopped- if the person responsible was caught- No, sir. Nothing. Good night, sir. Evening, Hagrid. I'm going to have to turn you in, Hagrid. I don't think you meant it to kill anyone, but- The dead girl's parents will be here tomorrow. The least Hogwarts can do is make sure the thing that killed their daughter is slaughtered. Monsters don't make good pets, Hagrid. Now, stand aside. Stand aside, Hagrid! Cistem aperio! Arania exumai! I can't let you go. They'll have your wand for this, Hagrid. You'll be expelled. She won't wake. She's still alive, but only just. A memory, preserved in a diary for fifty years. It won't come until it's called. You won't be needing it. I'm afraid I can't do that, Harry. You see, as poor Ginny grows weaker, I grow stronger. Yes Harry, it was Ginny Weasley who opened the Chamber of Secrets. It was Ginny who set the basilisk on the Mudbloods and Filch's cat, Ginny who wrote the threatening messages on the walls. Because I told her to. You'll find that I can be very persuasive. Not that she knew what she was doing. She was, shall we say, in a kind of trance. Still, the power of the diary began to scare her. And she tried to dispose of it in the girl's bathroom. And then, who should find it, but you? The very person I was most anxious to meet. I knew I had to talk to you, meet you if I could. So I decided to show you my capture of that brainless oaf, Hagrid, to gain your trust. It was my word against Hagrid's. Only Dumbledore seemed to think he was innocent. He certainly kept an annoyingly close watch on me after that. I knew it wouldn't be safe to open the Chamber again while I was still at school, so I decided to leave behind a diary preserving my sixteen-year-old self in its pages, so that one day I would be able to lead another to finish Salazar Slytherin's noble work. Haven't I told you? Killing Mudbloods doesn't matter to me anymore. For many months now, my new target has been you. How is it that a baby, with no extraordinary magical talent, was able to defeat the greatest wizard of all time? How did you escape with nothing but a scar, while Lord Voldemort's powers were destroyed? Voldemort is my past, present, and future. Surely, you didn't think I was going to keep my filthy Muggle father's name? No. I fashioned a new name, a name I knew wizards everywhere would one day fear to speak, when I became the greatest sorcerer in the world. Dumbledore's been driven out of this castle by the mere memory of me! So, this is what Dumbledore sends his great defender. A songbird and an old hat. Shearhas samnathas selithaine. Let's match the power of Lord Voldemort, Heir of Salazar Slytherin, against the famous Harry Potter. Sethae- This. Parseltongue won't save you now, Potter! It only obeys me! No! Your bird may have blinded the basilisk, but it can still hear you! Yes, Potter, the process is nearly complete. In a few minutes Ginny will be dead, and I will cease to be a memory. Lord Voldemort will return, very much alive! Remarkable, isn't it, how quickly the venom of the basilisk penetrates the body? I'd guess you have little more than a minute to live. You'll be with your dear Mudblood mother soon, Harry. Funny, the damage a silly little book can do, especially in the hands of a silly, little girl. What are you doing? Stop! No! Ahhhhh! Ahhhhhh!\n"
     ]
    }
   ],
   "source": [
    "Voldemort_dia = grouped_dialogue[grouped_dialogue['character_name'] == 'Voldemort']['dialogue'].iloc[0]\n",
    "print(Voldemort_dia)"
   ]
  },
  {
   "cell_type": "code",
   "execution_count": 259,
   "id": "ab79406d-a7f7-4564-b371-39cc332ea34b",
   "metadata": {},
   "outputs": [],
   "source": [
    "def is_subordinate_clause(token):\n",
    "    subordinate_tags = {\"advcl\", \"ccomp\", \"relcl\", \"acl\"}\n",
    "    \n",
    "    return token.dep_ in subordinate_tags\n",
    "\n",
    "def count_clauses_per_sentence(sentence):\n",
    "    independent_clauses = 0\n",
    "    subordinate_clauses = 0\n",
    "\n",
    "    # Find independent clause\n",
    "    for token in sentence:\n",
    "        if token.dep_ == \"ROOT\":\n",
    "            independent_clauses += 1  # Found the independent clause\n",
    "\n",
    "        # Check for nsubj/nsubjpass immediately before conj VERB\n",
    "        if token.dep_ == \"conj\" and token.pos_ == \"VERB\":\n",
    "            # Ensure that we're not at the first or second token of the document\n",
    "            if token.i > 0:\n",
    "                prev_token = token.doc[token.i - 1]  # Access from doc, not sentence\n",
    "                if prev_token.dep_ in {\"nsubj\", \"nsubjpass\"}:\n",
    "                    independent_clauses += 1\n",
    "            \n",
    "            if token.i > 1:\n",
    "                pprev_token = token.doc[token.i - 2]  # Access two tokens before, from doc\n",
    "                if pprev_token.dep_ in {\"nsubj\", \"nsubjpass\"}:\n",
    "                    independent_clauses += 1\n",
    "\n",
    "    # Find subordinate clauses\n",
    "    for token in sentence:\n",
    "        if is_subordinate_clause(token):  # You should define this function\n",
    "            subordinate_clauses += 1\n",
    "\n",
    "    return independent_clauses, subordinate_clauses"
   ]
  },
  {
   "cell_type": "code",
   "execution_count": 260,
   "id": "e6690451-57ab-4cbb-b868-a63718c719c9",
   "metadata": {},
   "outputs": [],
   "source": [
    "def complex_sent(text):\n",
    "    sent_count = 0\n",
    "    for sent in text.sents:\n",
    "        for token in sent:\n",
    "            if is_subordinate_clause(token):\n",
    "                sent_count += 1\n",
    "                break  # To avoid counting the same sentence multiple times\n",
    "    return sent_count"
   ]
  },
  {
   "cell_type": "code",
   "execution_count": 261,
   "id": "c590a3d8-e46c-4cf3-9559-93e4ff4d8cca",
   "metadata": {},
   "outputs": [],
   "source": [
    "def cc_sent(text):\n",
    "    sent_count = 0\n",
    "    cc_sentences = []\n",
    "    for sent in text.sents:\n",
    "        indep_count, sub_count = count_clauses_per_sentence(sent)\n",
    "        if indep_count >= 2 and sub_count >= 1:\n",
    "            sent_count += 1\n",
    "            cc_sentences.append(sent.text)\n",
    "    return cc_sentences, sent_count"
   ]
  },
  {
   "cell_type": "code",
   "execution_count": 275,
   "id": "758783e4-bc24-4621-9d76-bb882fdbb34d",
   "metadata": {},
   "outputs": [],
   "source": [
    "def is_simple_sentence(sentence):\n",
    "    # Count the number of ROOT verbs (should be 1 for a simple sentence)\n",
    "    root_count = sum(1 for token in sentence if token.dep_ == \"ROOT\" and token.pos_ == \"VERB\")\n",
    "\n",
    "    # Allow compound subjects and predicates but avoid dependent clauses\n",
    "    has_subordinate_clause = any(is_subordinate_clause(token) for token in sentence) # \"mark\" dependency is for subordinate markers like \"because\", \"when\", etc.\n",
    "    \n",
    "    # Return True if there's only one independent clause, no subordinate clauses\n",
    "    return root_count == 1 and not has_subordinate_clause\n",
    "    \n",
    "def count_simple_sentences(text):\n",
    "    # Process the entire text\n",
    "    doc = nlp(text)\n",
    "    #simple_sent= []\n",
    "  \n",
    "    simple_sentence_count = 0\n",
    "\n",
    "    # Loop through each sentence in the document\n",
    "    for sent in doc.sents:\n",
    "        if is_simple_sentence(sent):  # Pass the sentence object, not the text\n",
    "            simple_sentence_count += 1\n",
    "            #simple_sent.append(sent.text)\n",
    "\n",
    "    return simple_sentence_count #, simple_sent"
   ]
  },
  {
   "cell_type": "code",
   "execution_count": 267,
   "id": "0789614a-e073-485a-9621-03e9bef90530",
   "metadata": {},
   "outputs": [],
   "source": [
    "def sent_count(text):\n",
    "    sent_count = 0\n",
    "    for sent in text.sents:\n",
    "        sent_count += 1\n",
    "    return sent_count"
   ]
  },
  {
   "cell_type": "code",
   "execution_count": 278,
   "id": "c4293203-5da3-4123-9c25-24ab3734fdea",
   "metadata": {},
   "outputs": [
    {
     "name": "stdout",
     "output_type": "stream",
     "text": [
      "(['That is why tomorrow it will be moved to a new home, and I must ask you not to go looking for it again.', 'And now, as I understand it, the house cup needs awarded and the points stand thus.', 'They burst into flames when it is time for them to die, and then they are reborn from the ashes.'], 3)\n",
      "\n",
      "62\n",
      "\n",
      "168\n",
      "\n",
      "47\n"
     ]
    }
   ],
   "source": [
    "doc_AB = nlp(Dumbledore_dia)\n",
    "print(cc_sent(doc_AB))\n",
    "print()\n",
    "print(complex_sent(doc_AB))\n",
    "print()\n",
    "print(sent_count(doc_AB))\n",
    "print()\n",
    "print(count_simple_sentences(doc_AB))"
   ]
  },
  {
   "cell_type": "code",
   "execution_count": 277,
   "id": "526fa17d-726d-449f-a216-501879e1e3d0",
   "metadata": {},
   "outputs": [
    {
     "name": "stdout",
     "output_type": "stream",
     "text": [
      "([\"Don't you think it's a bit odd that what Hagrid wants more than anything is a dragon and a stranger turns up who just happens to have one?\", \"You'd better clear off before my bones come back, Dobby, or I might strangle you!\", \"I can't believe it's him, but if he did set the monster loose last time, he'll know how to get inside the Chamber of Secrets, and that's a start.\"], 3)\n",
      "\n",
      "156\n",
      "\n",
      "813\n",
      "\n",
      "297\n"
     ]
    }
   ],
   "source": [
    "doc_HP = nlp(Harry_dia)\n",
    "print(cc_sent(doc_HP))\n",
    "print()\n",
    "print(complex_sent(doc_HP))\n",
    "print()\n",
    "print(sent_count(doc_HP))\n",
    "print()\n",
    "print(count_simple_sentences(doc_HP))"
   ]
  },
  {
   "cell_type": "code",
   "execution_count": 276,
   "id": "12512869-5cb4-4a4c-98bb-a2b33e3c5022",
   "metadata": {},
   "outputs": [
    {
     "name": "stdout",
     "output_type": "stream",
     "text": [
      "([\"I'd always heard Hogwarts end of year exams were frightful, but I found they're rather enjoyable.\", 'You hear this voice, a voice only you can hear, and then Mrs. Norris turns up petrified.', \"I don't know, Harry, but it sounded like you were egging the snake on, or something.\"], 3)\n",
      "\n",
      "64\n",
      "\n",
      "306\n",
      "\n",
      "98\n"
     ]
    }
   ],
   "source": [
    "doc_HG = nlp(Hermione_dia)\n",
    "#compound-complex sentence count\n",
    "print(cc_sent(doc_HG))\n",
    "print()\n",
    "#complex sentence count\n",
    "print(complex_sent(doc_HG))\n",
    "print()\n",
    "#Total sentence count\n",
    "print(sent_count(doc_HG))\n",
    "print()\n",
    "#simple sentence count\n",
    "print(count_simple_sentences(doc_HG))"
   ]
  },
  {
   "cell_type": "code",
   "execution_count": 279,
   "id": "86c55cde-b00f-4a43-a4d3-ea3140d11d94",
   "metadata": {},
   "outputs": [
    {
     "name": "stdout",
     "output_type": "stream",
     "text": [
      "([], 0)\n",
      "\n",
      "74\n",
      "\n",
      "418\n",
      "\n",
      "134\n"
     ]
    }
   ],
   "source": [
    "doc_RW = nlp(Ron_dia)\n",
    "print(cc_sent(doc_RW))\n",
    "print()\n",
    "print(complex_sent(doc_RW))\n",
    "print()\n",
    "print(sent_count(doc_RW))\n",
    "print()\n",
    "#simple sentence count\n",
    "print(count_simple_sentences(doc_RW))"
   ]
  },
  {
   "cell_type": "code",
   "execution_count": 281,
   "id": "9f090263-7570-45e6-b884-ed4f279d4f61",
   "metadata": {},
   "outputs": [
    {
     "name": "stdout",
     "output_type": "stream",
     "text": [
      "([\"I knew it wouldn't be safe to open the Chamber again while I was still at school, so I decided to leave behind a diary preserving my sixteen-year-old self in its pages, so that one day I would be able to lead another to finish Salazar Slytherin's noble work.\"], 1)\n",
      "\n",
      "38\n",
      "\n",
      "104\n",
      "\n",
      "37\n"
     ]
    }
   ],
   "source": [
    "doc_V = nlp(Voldemort_dia)\n",
    "print(cc_sent(doc_V))\n",
    "print()\n",
    "print(complex_sent(doc_V))\n",
    "print()\n",
    "print(sent_count(doc_V))\n",
    "print()\n",
    "#simple sentence count\n",
    "print(count_simple_sentences(doc_V))"
   ]
  },
  {
   "cell_type": "code",
   "execution_count": null,
   "id": "4ac9e042-6393-4e7e-a8c0-9bf954067f8b",
   "metadata": {},
   "outputs": [],
   "source": []
  }
 ],
 "metadata": {
  "kernelspec": {
   "display_name": "Python 3 (ipykernel)",
   "language": "python",
   "name": "python3"
  },
  "language_info": {
   "codemirror_mode": {
    "name": "ipython",
    "version": 3
   },
   "file_extension": ".py",
   "mimetype": "text/x-python",
   "name": "python",
   "nbconvert_exporter": "python",
   "pygments_lexer": "ipython3",
   "version": "3.11.9"
  }
 },
 "nbformat": 4,
 "nbformat_minor": 5
}
