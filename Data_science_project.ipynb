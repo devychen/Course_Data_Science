{
 "cells": [
  {
   "cell_type": "code",
   "execution_count": 54,
   "id": "ecd73bcb-b566-4e27-8b40-7a7730818166",
   "metadata": {},
   "outputs": [],
   "source": [
    "#!python -m spacy download en_core_web_lg"
   ]
  },
  {
   "cell_type": "code",
   "execution_count": 78,
   "id": "4acb910c-8f24-4b77-a3ac-ba07e1855ad6",
   "metadata": {
    "scrolled": true
   },
   "outputs": [
    {
     "name": "stdout",
     "output_type": "stream",
     "text": [
      "          character_name                                           dialogue\n",
      "0       Albus Dumbledore  I should have known that you would be here, Pr...\n",
      "1            Argus Filch  Anyone here, my sweet? Come on. Who's there?! ...\n",
      "2           Bloody Baron                        Whoo-hoo-hoo! Whoo-hoo-hoo!\n",
      "3                  Class  Good afternoon, Madam Hooch. Swish and flick. ...\n",
      "4        Doris Crockford  Doris Crockford, Mr. Potter. I can't believe I...\n",
      "5           Draco Malfoy  It's true then, what they're saying on the tra...\n",
      "6         Dudley Dursley  Wake up, cousin! We're going to the zoo! How m...\n",
      "7        Filius Flitwick  One of a wizard's most rudimentary skills is l...\n",
      "8                Firenze  Harry Potter, you must leave. You are known to...\n",
      "9           Fred Weasley  Honestly, woman, you call yourself our mother....\n",
      "10    Garrick Ollivander  I wondered when I'd be seeing you, Mr. Potter....\n",
      "11        George Weasley  He's not Fred, I am! We got Potter! We got Pot...\n",
      "12         Ginny Weasley                              Good luck. Good luck.\n",
      "13                Goblin  And does Mr. Harry Potter have his key? Very w...\n",
      "14              Griphook  Vault six-hundred-and-eighty-seven. Lamp, plea...\n",
      "15                 Guard  Nine-and-three-quarters? Think you're being fu...\n",
      "16          Harry Potter  Yes, Aunt Petunia. Yes, Uncle Vernon. He's asl...\n",
      "17      Hermione Granger  Has anyone seen a toad? A boy named Neville's ...\n",
      "18            Lee Jordan  Hello, and welcome to Hogwarts' first Quidditc...\n",
      "19                   Man        Fire! You're on fire! Fire! You're on fire!\n",
      "20          Marcus Flint  Give me that! Take that side! Give me that! Ta...\n",
      "21    Minerva McGonagall  Good evening, Professor Dumbledore. Are the ru...\n",
      "22         Molly Weasley  It's the same year after year. Always packed w...\n",
      "23  Nearly Headless Nick  Hello! How are you? Welcome to Gryffindor. Dis...\n",
      "24    Neville Longbottom  Trevor! Sorry. Seamus, that picture's moving! ...\n",
      "25           Oliver Wood  Quidditch is easy enough to understand. Each t...\n",
      "26         Percy Weasley  Oh, that's Professor Snape, head of Slytherin ...\n",
      "27       Petunia Dursley  Up. Get up. Now! Oh, here he comes, the birthd...\n",
      "28     Quirinus Quirrell  Harry P-potter. C-can't tell you how pleased I...\n",
      "29         Rolanda Hooch  Good afternoon, class. Good afternoon, Amanda,...\n",
      "30           Ron Weasley  Excuse me, do you mind? Everywhere else is ful...\n",
      "31         Rubeus Hagrid  Professor Dumbledore, Sir. Professor McGonagal...\n",
      "32       Seamus Finnigan  I'm half and half. Me dad's a Muggle. Mam's a ...\n",
      "33         Severus Snape  There will be no foolish wand waving or silly ...\n",
      "34                 Snake                                    Thanks. Thanks.\n",
      "35           Sorting Hat  Ah, right thenhmmright. Okay, Gryffindor! SLYT...\n",
      "36          The Fat Lady                                Password? Password?\n",
      "37                   Tom  Ah, Hagrid! The usual, I presume? Bless my sou...\n",
      "38          Trolley lady  Anything off the trolley, dears? Anything off ...\n",
      "39        Vernon Dursley  Happy birthday, son. Hurry up! Bring my coffee...\n",
      "40             Voldemort  Use the boy. He lies. Let me speak to him. I h...\n"
     ]
    }
   ],
   "source": [
    "import pandas as pd\n",
    "with open('C:/Users/Jessi/Desktop/DS_project/hp_script.csv', encoding='latin1') as f, open('C:/Users/Jessi/Desktop/DS_project/hp_script2.csv', encoding='latin1') as g:\n",
    "    data = f.read()\n",
    "    data2 = g.read()\n",
    "latin1_encoded_data = data.encode('latin1')\n",
    "utf8_decoded_data = latin1_encoded_data.decode('utf-8', errors='ignore')\n",
    "latin1_encoded_data2 = data2.encode('latin1')\n",
    "utf8_decoded_data2 = latin1_encoded_data2.decode('utf-8', errors='ignore')\n",
    "\n",
    "from io import StringIO\n",
    "df = pd.read_csv(StringIO(utf8_decoded_data), delimiter=';')\n",
    "df2 = pd.read_csv(StringIO(utf8_decoded_data), delimiter=';')\n",
    " \n",
    "frames = [df, df2]\n",
    " \n",
    "result = pd.concat(frames)\n",
    "\n",
    "# group the dialogue by character_name\n",
    "grouped_dialogue = result.groupby('character_name')['dialogue'].apply(lambda x: ' '.join(x)).reset_index()\n",
    "\n",
    "# show the result\n",
    "print(grouped_dialogue)"
   ]
  },
  {
   "cell_type": "code",
   "execution_count": 75,
   "id": "cda6eeb7-d30e-43c1-8784-03cbb159acba",
   "metadata": {
    "scrolled": true
   },
   "outputs": [
    {
     "name": "stdout",
     "output_type": "stream",
     "text": [
      "          character_name                                           dialogue\n",
      "0       Albus Dumbledore  I should have known that you would be here, Pr...\n",
      "1            Argus Filch  Anyone here, my sweet? Come on. Who's there?! ...\n",
      "2           Bloody Baron                                      Whoo-hoo-hoo!\n",
      "3                  Class      Good afternoon, Madam Hooch. Swish and flick.\n",
      "4        Doris Crockford  Doris Crockford, Mr. Potter. I can't believe I...\n",
      "5           Draco Malfoy  It's true then, what they're saying on the tra...\n",
      "6         Dudley Dursley  Wake up, cousin! We're going to the zoo! How m...\n",
      "7        Filius Flitwick  One of a wizard's most rudimentary skills is l...\n",
      "8                Firenze  Harry Potter, you must leave. You are known to...\n",
      "9           Fred Weasley  Honestly, woman, you call yourself our mother....\n",
      "10    Garrick Ollivander  I wondered when I'd be seeing you, Mr. Potter....\n",
      "11        George Weasley  He's not Fred, I am! We got Potter! We got Pot...\n",
      "12         Ginny Weasley                                         Good luck.\n",
      "13                Goblin  And does Mr. Harry Potter have his key? Very w...\n",
      "14              Griphook  Vault six-hundred-and-eighty-seven. Lamp, plea...\n",
      "15                 Guard  Nine-and-three-quarters? Think you're being fu...\n",
      "16          Harry Potter  Yes, Aunt Petunia. Yes, Uncle Vernon. He's asl...\n",
      "17      Hermione Granger  Has anyone seen a toad? A boy named Neville's ...\n",
      "18            Lee Jordan  Hello, and welcome to Hogwarts' first Quidditc...\n",
      "19                   Man                              Fire! You're on fire!\n",
      "20          Marcus Flint                      Give me that! Take that side!\n",
      "21    Minerva McGonagall  Good evening, Professor Dumbledore. Are the ru...\n",
      "22         Molly Weasley  It's the same year after year. Always packed w...\n",
      "23  Nearly Headless Nick  Hello! How are you? Welcome to Gryffindor. Dis...\n",
      "24    Neville Longbottom  Trevor! Sorry. Seamus, that picture's moving! ...\n",
      "25           Oliver Wood  Quidditch is easy enough to understand. Each t...\n",
      "26         Percy Weasley  Oh, that's Professor Snape, head of Slytherin ...\n",
      "27       Petunia Dursley  Up. Get up. Now! Oh, here he comes, the birthd...\n",
      "28     Quirinus Quirrell  Harry P-potter. C-can't tell you how pleased I...\n",
      "29         Rolanda Hooch  Good afternoon, class. Good afternoon, Amanda,...\n",
      "30           Ron Weasley  Excuse me, do you mind? Everywhere else is ful...\n",
      "31         Rubeus Hagrid  Professor Dumbledore, Sir. Professor McGonagal...\n",
      "32       Seamus Finnigan  I'm half and half. Me dad's a Muggle. Mam's a ...\n",
      "33         Severus Snape  There will be no foolish wand waving or silly ...\n",
      "34                 Snake                                            Thanks.\n",
      "35           Sorting Hat  Ah, right thenhmmright. Okay, Gryffindor! SLYT...\n",
      "36          The Fat Lady                                          Password?\n",
      "37                   Tom  Ah, Hagrid! The usual, I presume? Bless my sou...\n",
      "38          Trolley lady                   Anything off the trolley, dears?\n",
      "39        Vernon Dursley  Happy birthday, son. Hurry up! Bring my coffee...\n",
      "40             Voldemort  Use the boy. He lies. Let me speak to him. I h...\n"
     ]
    }
   ],
   "source": [
    "\"\"\"import pandas as pd\n",
    "with open('C:/Users/Jessi/Desktop/DS_project/hp_script2.csv', encoding='latin1') as f:\n",
    "    data2 = f.read()\n",
    "\n",
    "latin1_encoded_data2 = data2.encode('latin1')\n",
    "utf8_decoded_data2 = latin1_encoded_data2.decode('utf-8', errors='ignore')\n",
    "\n",
    "from io import StringIO\n",
    "df2 = pd.read_csv(StringIO(utf8_decoded_data), delimiter=';')\n",
    "\n",
    "grouped_dialogue2 = df2.groupby('character_name')['dialogue'].apply(lambda x: ' '.join(x)).reset_index()\n",
    "\n",
    "# Show the result\n",
    "print(grouped_dialogue2)\"\"\""
   ]
  },
  {
   "cell_type": "code",
   "execution_count": 79,
   "id": "a3c0aae7-ab12-4d3b-840a-2a34ba1a4ca0",
   "metadata": {},
   "outputs": [],
   "source": [
    "import spacy\n",
    "nlp = spacy.load('en_core_web_lg')"
   ]
  },
  {
   "cell_type": "code",
   "execution_count": 80,
   "id": "6d3f3074-8e36-4152-aa24-34cf82328025",
   "metadata": {},
   "outputs": [
    {
     "name": "stdout",
     "output_type": "stream",
     "text": [
      "I should have known that you would be here, Professor McGonagall. I'm afraid so, Professor. The good, and the bad. Hagrid is bringing him. Ah, Professor, I would trust Hagrid with my life. No problems, I trust, Hagrid? The only family he has. Exactly. He's far better off growing up away from all of that. Until he is ready. There there, Hagrid. It's not really goodbye, after all. Good luck, Harry Potter. I have a few start of term notices I wish to announce. The first years please note that the Dark Forest is strictly forbidden to all students. Also, our caretaker, Mr. Filch has asked me to remind you that the third floor corridor on the right hand side is out of bounds to everyone who does not wish to die a most painful death. Thank you. Let the feast begin. SILENCE!!! Everyone will please, not panic. Back again, Harry? I see that you, like so many before you have discovered the delights of the Mirror of Erised. I trust by now you realise what it does. Let me give you a clue. The happiest man on earth would look into the mirror and see only himself, exactly as he is. Yesand no. It shows us nothing more or less than the deepest most desperate desires of our hearts. Now you, who have never known your family, you see them standing beside you. But remember this, Harry. This mirror gives us neither knowledge or truth. Men have wasted away in front of it, even gone mad. That is why tomorrow it will be moved to a new home, and I must ask you not to go looking for it again. It does not do to dwell on dreams, Harry, and forget to live. Good afternoon, Harry. Tokens from your admirers? What happened down in the dungeons beterrn you and Professor Quirrell is a complete secret. So naturally the whole school knows. I see that your friend Ronald has saved you the trouble of opening your chocolate frogs. Fine. They're both just fine. Relax, dear boy. The Stone has been destroyed. My friend Nicholas and I have had a little chat, and agreed it was best all around. He has enough Elixir to set his affairs in order. But yes, he will die. Ah. You see, only a person who wanted to find the Stone, but not use it, would be able to get it. That is one of my more brilliant ideas. And between you and me that is saying something. Ah, I'm afraid there are ways in which he can return. Harry, do you know why Professor Quirrell couldn't bear to have you touch him? It was because of your mother. She sacrificed herself for you, and that kind of act leaves a mark. No, no, this kind of mark cannot be seen. It lives in your very skin. Love, Harry, love. Ah. Bertie Bott's Every Flavour Beans. I was most unfortunate in my youth to come across a vomit flavoured one, and since then I'm afraid I have lost my liking for them. But I think I could be safe with a nice toffee Mm Alas. Earwax. Another year, gone! And now, as I understand it, the house cup needs awarded and the points stand thus. In fourth place, Gryffindor, with 312 points! In third place, Hufflepuff, with 352 points! Second, Ravenclaw, with 426 points!And in first place, with 472 points, Slytherin house!Yes, well done Slytherin, well done Slytherin. However, recent events must be taken into account and I have a few last minute points to award.To Miss Hermione Granger, for the cool use of intellect while others were in grave peril, fifty points!Second, to Mr. Ronald Weasley, for the best played game of chess that Hogwarts has seen these many years, fifty points! And third, to Mr. Harry Potter, for pure love and outstanding courage, I award Gryffindor house, sixty points! And finally, it takes a great deal of bravery to stand up to your enemies, but a great deal more to stand up to your friends. I award ten points to Neville Longbottom! Assuming my calculations are correct, I believe that a change of decoration is in order! Gryffindor wins the House Cup! I should have known that you would be here, Professor McGonagall. I'm afraid so, Professor. The good, and the bad. Hagrid is bringing him. Ah, Professor, I would trust Hagrid with my life. No problems, I trust, Hagrid? The only family he has. Exactly. He's far better off growing up away from all of that. Until he is ready. There there, Hagrid. It's not really goodbye, after all. Good luck, Harry Potter. I have a few start of term notices I wish to announce. The first years please note that the Dark Forest is strictly forbidden to all students. Also, our caretaker, Mr. Filch has asked me to remind you that the third floor corridor on the right hand side is out of bounds to everyone who does not wish to die a most painful death. Thank you. Let the feast begin. SILENCE!!! Everyone will please, not panic. Back again, Harry? I see that you, like so many before you have discovered the delights of the Mirror of Erised. I trust by now you realise what it does. Let me give you a clue. The happiest man on earth would look into the mirror and see only himself, exactly as he is. Yesand no. It shows us nothing more or less than the deepest most desperate desires of our hearts. Now you, who have never known your family, you see them standing beside you. But remember this, Harry. This mirror gives us neither knowledge or truth. Men have wasted away in front of it, even gone mad. That is why tomorrow it will be moved to a new home, and I must ask you not to go looking for it again. It does not do to dwell on dreams, Harry, and forget to live. Good afternoon, Harry. Tokens from your admirers? What happened down in the dungeons beterrn you and Professor Quirrell is a complete secret. So naturally the whole school knows. I see that your friend Ronald has saved you the trouble of opening your chocolate frogs. Fine. They're both just fine. Relax, dear boy. The Stone has been destroyed. My friend Nicholas and I have had a little chat, and agreed it was best all around. He has enough Elixir to set his affairs in order. But yes, he will die. Ah. You see, only a person who wanted to find the Stone, but not use it, would be able to get it. That is one of my more brilliant ideas. And between you and me that is saying something. Ah, I'm afraid there are ways in which he can return. Harry, do you know why Professor Quirrell couldn't bear to have you touch him? It was because of your mother. She sacrificed herself for you, and that kind of act leaves a mark. No, no, this kind of mark cannot be seen. It lives in your very skin. Love, Harry, love. Ah. Bertie Bott's Every Flavour Beans. I was most unfortunate in my youth to come across a vomit flavoured one, and since then I'm afraid I have lost my liking for them. But I think I could be safe with a nice toffee Mm Alas. Earwax. Another year, gone! And now, as I understand it, the house cup needs awarded and the points stand thus. In fourth place, Gryffindor, with 312 points! In third place, Hufflepuff, with 352 points! Second, Ravenclaw, with 426 points!And in first place, with 472 points, Slytherin house!Yes, well done Slytherin, well done Slytherin. However, recent events must be taken into account and I have a few last minute points to award.To Miss Hermione Granger, for the cool use of intellect while others were in grave peril, fifty points!Second, to Mr. Ronald Weasley, for the best played game of chess that Hogwarts has seen these many years, fifty points! And third, to Mr. Harry Potter, for pure love and outstanding courage, I award Gryffindor house, sixty points! And finally, it takes a great deal of bravery to stand up to your enemies, but a great deal more to stand up to your friends. I award ten points to Neville Longbottom! Assuming my calculations are correct, I believe that a change of decoration is in order! Gryffindor wins the House Cup!\n"
     ]
    }
   ],
   "source": [
    "Dumbledore_dia = grouped_dialogue[grouped_dialogue['character_name'] == 'Albus Dumbledore']['dialogue'].iloc[0]\n",
    "print(Dumbledore_dia)"
   ]
  },
  {
   "cell_type": "code",
   "execution_count": 81,
   "id": "4ffc78c3-3b20-4a17-9ff9-80e71bbc02a7",
   "metadata": {},
   "outputs": [
    {
     "name": "stdout",
     "output_type": "stream",
     "text": [
      "Yes, Aunt Petunia. Yes, Uncle Vernon. He's asleep! Sorry about him. He doesn't understand what it's like, lying there day after day, having people press their ugly faces in on you. Can you hear me? It's just I've never talked to a snake before. Do you I mean do you talk to people often? You're from Burma, aren't you? Was it nice there, do you miss your family? I see. That's me as well. I never knew my parents, either. Any time. Ow! I swear I don't know! One minute, the glass was there and then it was gone! It was like magic! Hey, give it back! It's mine! Because there's no post on Sunday? Get off! Ahh! They're my letters! Let go of me! Make a wish, Harry. I-I am. Thank you! Excuse me, who are you? Sorry, no. Learned what? I-I'm a what? No, you've made a mistake. I can't be a-a wizard. I mean, I'm just Harry. Just Harry. Dear, Mr. Potter. We are pleased to inform you that you have been accepted at Hogwarts' School of Witchcraft and Wizardry. You knew? You know all along and you never told me? Blown up? You told me my parents died in a car crash! Muggle? Okay. All students must be equipped with one standard size two pewter cauldron, and may bring if they desire, either an owl, a cat or a toad. Could we find all this in London? Oh, nice to meet you. Goodbye. But why am I famous, Hagrid? All those people back there, how is it they know who I am? But, Hagrid, how am I to pay for all this? I haven't any money. Uh, Hagrid, what exactly are these things? What's in there, Hagrid? I still need a wand. Hello? Hello? Sorry, but whats curious? And who owned that wand? Wow. He killed my parents, didn't he? The one who gave me this. You know, Hagrid, I know you do. Maybe if you wrote it down? Voldemort? Me? Voldemort tried to kill me? What happened toto You-Know-Who? Platform nine-and-three-quarters? But, Hagrid, there must be a mistake. This says Platform nine-and-three-quarters. There's no such thing is there?  Excuse me, excuse me. Excuse me, sir. Can you tell me where I might find Platform nine-and-three-quarters? Muggles? Excuse me! C-could you tell me how to- Not at all. I'm Harry. Harry Potter. The what? Oh. We'll take the lot! Bertie Bott's Every Flavour Beans? These aren't real chocolate frogs, are they? I got Dumbledore! Hey, he's gone! A little. Yeah! Hey, Hagrid. I think I can tell who the wrong sort are for myself, thanks. Ahh! Nothing nothing, I'm fine. Not Slytherin. Not Slytherin. Not Slytherin Anything but Slytherin. Wow. Say, Percy, who's that teacher talking to Professor Quirrell? What's he teach? I think she fancies you. We got lost. I don't know, sir. I don't know, sir. What's Seamus trying to do to that glass of water? Can I borrow this? Thanks. Hey, Ron, somebody broke into Gringotts, listen. Believed to be the work of dark witches or wizards unknown, Gringotts goblins, while acknowledging the breach, insist that nothing was taken. The vault in question, number seven-hundred-and-thirteen, had in fact been emptied earlier that same day. That's odd. That's the vault Hagrid and I went to. Up! Wow. Neville! Give it here, Malfoy. Give it here, Malfoy, or I'll knock you off your broom. A century! According to McGonagall. But I've never even played Quidditch. What if I make a fool of myself? I didn't know. Who doesn't? What's happening? Let's go this way. Does anyone feel like we shouldn't be here? Let's go. Run! Quick! Let's hide through that door! It's locked! And for good reason. AHHHHH! Guarding something? I think so. What are those? What is that? I like this ball. What do I do with it? Whoa. I think we're going to need another feather over here, Professor. I think she heard you. Where's Hermione? How could a troll get in? Hermione! She doesn't know! It's going into the girls' bathroom! Hermione, move! Whoa!! Whoa, whoa!  Whoa whoa whoa! Do something! Anything! Hurry up. I don't think so. Just knocked out. Ew. Troll bogies. Well, what it is I'm not hungry. That explains the blood. Listen, last night, I'm guessing Snape let the troll in as a diversion so he could try and get past that three headed dog. But, he got himself bitten. That's why he's limping. The day I was at Gringotts, Hagrid took something out of one of the vaults. He said it was Hogwarts business, very secret. That's what the dog's guarding. That's what Snape wants. But I-I never get mail. It's a broomstick! But who..? A little. What happened? Yes! Whoa! Yes! Whoa! Whoa! Who knows? Why was he trying to get past that three-headed dog on Halloween? Yes? But Hagrid, whatever Fluffy's guarding, Snape's trying to steal it. Exactly. Nicholas Flamel? Nicholas Flamel. Who's Nicholas Flamel? Knight to E5. Happy Christmas, Ron. What are you wearing? I-I've got presents? Your father left this in my possession before he died. It is time it was returned to you. Use it well. It's some kind of cloak. My body's gone! I'm invisible? There was no name. It just said use it well. Famous Fire EatersFifteenth-Century FiendsFlamelNicholas Flamelwhere are you? Mum? Dad? Ron! You've really got to see this! Ron! You've got to see this! Ron! Come on! Get out of bed! There's something you've got to see. Now, come on! Come on. Come on. Come look, it's my parents! Look in properly. Go on. Stand there. You see them, don't you? That's my dad. How can it? Both my parents are dead. So, then it shows us what we want? Whatever we want? The what? Sshhh! Hagrid! We know about the Philosopher's Stone! We think Snape's trying to steal it. Hagrid, we know he's after the stone. We just don't know why. What? Wait a minute. One of the teachers? Uh, Hagrid, what exactly is that? Norbert? Malfoy. Hagrid always wanted a dragon. He told me so the first time I met him. I don't understand. Is that bad? Fifty?! Hagrid, what's that? If I didn't know better, Draco, I'd say you were scared. What is it, Fang? But what was that thing you saved me from? But who would choose such a life? Do you mean to say that thing that killed the unicorn that was drinking its bloodthat was Voldemort? The Philosopher's Stone. But he's weak. He's living off the unicorns. Don't you see? We had it wrong! Snape doesn't want the Stone for himself. He wants the Stone for Voldemort. With the Elixir of Life, Voldemort will be strong again. He'll he'll come back. I think if he'd had the chance, he might've tried to kill me tonight. My scar. It keeps burning. Not like this. I think it's a warning. It means danger's coming. Oh. Of course. Don't you think it's a bit odd that what Hagrid wants more than anything is a dragon and a stranger turns up who just happens to have one? I mean, how many people wander around with dragon eggs in their pocket? Why didn't I see it before? Hagrid, who gave you the dragon egg? What did he look like? This stranger though, you and he must have talked? Did he seem interested in Fluffy? We have to see Professor Dumbledore, immediately! He's gone? But this is important! This is about the Philosopher's Stone. Someone's going to try and steal it. That was no stranger Hagrid met in the village. It was Snape, which means he knows how to get past Fluffy. We go down the trapdoor, tonight. No Neville, listen. We were- Let's go. Sorry. Wait a minute. He's snoring. Snape's already been here. He's put a spell on the harp. We have to move its paw. Come on! Okay. Push. I'll go first. Don't follow until I give you a sign. If something bad happens, get yourselves out. Does it seem a bit quiet to you? Jump!! Wow! Oh, ah! Hermione! Hermione, where are you? Yeah, yeah, I'm fine. Apparently not. What? Ron, you okay? Okay. Lucky Hermione pays attention in Herbology. I don't know. Sounds like wings. They're not birds. They're keys. And I bet one of them fits that door. I don't know. Strange. There! I see it! The one with the broken wing! It's too simple. Catch the key! Where are we? A graveyard? There's the door. Wait a minute. No, Ron, no! He's going to sacrifice himself. Ron! No! Don't move! Don't forget, we're still playing. Checkmate Take care of Ron. Then go to the owlery, send a message to Dumbledore. Ron's right. I have to go on. Not as good as you. Ow! You? N-no, it can't be! Snape, h-he w-was the- But that day, during the Quidditch match, Snape tried to kill me. Snape was trying to save me? Th-then you let the troll in! I'm shaking hands with Dumbledore. I've won the house cup. Voldemort. Never! You liar! Admirers? Ron was here? Is he all right? What about Hermione? But what happened to the Stone? But then Flamel, he'll die, won't he? How is it I got the stone, sir? One minute I was staring in the mirror and- Does that mean, with the Stone gone, that is, that Voldemort can never come back? What is it? All right there, Ron? All right. Hermione? One minute. Thanks, Hagrid. But Hagrid, we're not allowed to do magic away from Hogwarts. You know that. I'm not going home, not really. Yes, Aunt Petunia. Yes, Uncle Vernon. He's asleep! Sorry about him. He doesn't understand what it's like, lying there day after day, having people press their ugly faces in on you. Can you hear me? It's just I've never talked to a snake before. Do you I mean do you talk to people often? You're from Burma, aren't you? Was it nice there, do you miss your family? I see. That's me as well. I never knew my parents, either. Any time. Ow! I swear I don't know! One minute, the glass was there and then it was gone! It was like magic! Hey, give it back! It's mine! Because there's no post on Sunday? Get off! Ahh! They're my letters! Let go of me! Make a wish, Harry. I-I am. Thank you! Excuse me, who are you? Sorry, no. Learned what? I-I'm a what? No, you've made a mistake. I can't be a-a wizard. I mean, I'm just Harry. Just Harry. Dear, Mr. Potter. We are pleased to inform you that you have been accepted at Hogwarts' School of Witchcraft and Wizardry. You knew? You know all along and you never told me? Blown up? You told me my parents died in a car crash! Muggle? Okay. All students must be equipped with one standard size two pewter cauldron, and may bring if they desire, either an owl, a cat or a toad. Could we find all this in London? Oh, nice to meet you. Goodbye. But why am I famous, Hagrid? All those people back there, how is it they know who I am? But, Hagrid, how am I to pay for all this? I haven't any money. Uh, Hagrid, what exactly are these things? What's in there, Hagrid? I still need a wand. Hello? Hello? Sorry, but whats curious? And who owned that wand? Wow. He killed my parents, didn't he? The one who gave me this. You know, Hagrid, I know you do. Maybe if you wrote it down? Voldemort? Me? Voldemort tried to kill me? What happened toto You-Know-Who? Platform nine-and-three-quarters? But, Hagrid, there must be a mistake. This says Platform nine-and-three-quarters. There's no such thing is there?  Excuse me, excuse me. Excuse me, sir. Can you tell me where I might find Platform nine-and-three-quarters? Muggles? Excuse me! C-could you tell me how to- Not at all. I'm Harry. Harry Potter. The what? Oh. We'll take the lot! Bertie Bott's Every Flavour Beans? These aren't real chocolate frogs, are they? I got Dumbledore! Hey, he's gone! A little. Yeah! Hey, Hagrid. I think I can tell who the wrong sort are for myself, thanks. Ahh! Nothing nothing, I'm fine. Not Slytherin. Not Slytherin. Not Slytherin Anything but Slytherin. Wow. Say, Percy, who's that teacher talking to Professor Quirrell? What's he teach? I think she fancies you. We got lost. I don't know, sir. I don't know, sir. What's Seamus trying to do to that glass of water? Can I borrow this? Thanks. Hey, Ron, somebody broke into Gringotts, listen. Believed to be the work of dark witches or wizards unknown, Gringotts goblins, while acknowledging the breach, insist that nothing was taken. The vault in question, number seven-hundred-and-thirteen, had in fact been emptied earlier that same day. That's odd. That's the vault Hagrid and I went to. Up! Wow. Neville! Give it here, Malfoy. Give it here, Malfoy, or I'll knock you off your broom. A century! According to McGonagall. But I've never even played Quidditch. What if I make a fool of myself? I didn't know. Who doesn't? What's happening? Let's go this way. Does anyone feel like we shouldn't be here? Let's go. Run! Quick! Let's hide through that door! It's locked! And for good reason. AHHHHH! Guarding something? I think so. What are those? What is that? I like this ball. What do I do with it? Whoa. I think we're going to need another feather over here, Professor. I think she heard you. Where's Hermione? How could a troll get in? Hermione! She doesn't know! It's going into the girls' bathroom! Hermione, move! Whoa!! Whoa, whoa!  Whoa whoa whoa! Do something! Anything! Hurry up. I don't think so. Just knocked out. Ew. Troll bogies. Well, what it is I'm not hungry. That explains the blood. Listen, last night, I'm guessing Snape let the troll in as a diversion so he could try and get past that three headed dog. But, he got himself bitten. That's why he's limping. The day I was at Gringotts, Hagrid took something out of one of the vaults. He said it was Hogwarts business, very secret. That's what the dog's guarding. That's what Snape wants. But I-I never get mail. It's a broomstick! But who..? A little. What happened? Yes! Whoa! Yes! Whoa! Whoa! Who knows? Why was he trying to get past that three-headed dog on Halloween? Yes? But Hagrid, whatever Fluffy's guarding, Snape's trying to steal it. Exactly. Nicholas Flamel? Nicholas Flamel. Who's Nicholas Flamel? Knight to E5. Happy Christmas, Ron. What are you wearing? I-I've got presents? Your father left this in my possession before he died. It is time it was returned to you. Use it well. It's some kind of cloak. My body's gone! I'm invisible? There was no name. It just said use it well. Famous Fire EatersFifteenth-Century FiendsFlamelNicholas Flamelwhere are you? Mum? Dad? Ron! You've really got to see this! Ron! You've got to see this! Ron! Come on! Get out of bed! There's something you've got to see. Now, come on! Come on. Come on. Come look, it's my parents! Look in properly. Go on. Stand there. You see them, don't you? That's my dad. How can it? Both my parents are dead. So, then it shows us what we want? Whatever we want? The what? Sshhh! Hagrid! We know about the Philosopher's Stone! We think Snape's trying to steal it. Hagrid, we know he's after the stone. We just don't know why. What? Wait a minute. One of the teachers? Uh, Hagrid, what exactly is that? Norbert? Malfoy. Hagrid always wanted a dragon. He told me so the first time I met him. I don't understand. Is that bad? Fifty?! Hagrid, what's that? If I didn't know better, Draco, I'd say you were scared. What is it, Fang? But what was that thing you saved me from? But who would choose such a life? Do you mean to say that thing that killed the unicorn that was drinking its bloodthat was Voldemort? The Philosopher's Stone. But he's weak. He's living off the unicorns. Don't you see? We had it wrong! Snape doesn't want the Stone for himself. He wants the Stone for Voldemort. With the Elixir of Life, Voldemort will be strong again. He'll he'll come back. I think if he'd had the chance, he might've tried to kill me tonight. My scar. It keeps burning. Not like this. I think it's a warning. It means danger's coming. Oh. Of course. Don't you think it's a bit odd that what Hagrid wants more than anything is a dragon and a stranger turns up who just happens to have one? I mean, how many people wander around with dragon eggs in their pocket? Why didn't I see it before? Hagrid, who gave you the dragon egg? What did he look like? This stranger though, you and he must have talked? Did he seem interested in Fluffy? We have to see Professor Dumbledore, immediately! He's gone? But this is important! This is about the Philosopher's Stone. Someone's going to try and steal it. That was no stranger Hagrid met in the village. It was Snape, which means he knows how to get past Fluffy. We go down the trapdoor, tonight. No Neville, listen. We were- Let's go. Sorry. Wait a minute. He's snoring. Snape's already been here. He's put a spell on the harp. We have to move its paw. Come on! Okay. Push. I'll go first. Don't follow until I give you a sign. If something bad happens, get yourselves out. Does it seem a bit quiet to you? Jump!! Wow! Oh, ah! Hermione! Hermione, where are you? Yeah, yeah, I'm fine. Apparently not. What? Ron, you okay? Okay. Lucky Hermione pays attention in Herbology. I don't know. Sounds like wings. They're not birds. They're keys. And I bet one of them fits that door. I don't know. Strange. There! I see it! The one with the broken wing! It's too simple. Catch the key! Where are we? A graveyard? There's the door. Wait a minute. No, Ron, no! He's going to sacrifice himself. Ron! No! Don't move! Don't forget, we're still playing. Checkmate Take care of Ron. Then go to the owlery, send a message to Dumbledore. Ron's right. I have to go on. Not as good as you. Ow! You? N-no, it can't be! Snape, h-he w-was the- But that day, during the Quidditch match, Snape tried to kill me. Snape was trying to save me? Th-then you let the troll in! I'm shaking hands with Dumbledore. I've won the house cup. Voldemort. Never! You liar! Admirers? Ron was here? Is he all right? What about Hermione? But what happened to the Stone? But then Flamel, he'll die, won't he? How is it I got the stone, sir? One minute I was staring in the mirror and- Does that mean, with the Stone gone, that is, that Voldemort can never come back? What is it? All right there, Ron? All right. Hermione? One minute. Thanks, Hagrid. But Hagrid, we're not allowed to do magic away from Hogwarts. You know that. I'm not going home, not really.\n"
     ]
    }
   ],
   "source": [
    "Harry_dia = grouped_dialogue[grouped_dialogue['character_name'] == 'Harry Potter']['dialogue'].iloc[0]\n",
    "print(Harry_dia)"
   ]
  },
  {
   "cell_type": "code",
   "execution_count": 82,
   "id": "95da342b-52e5-4ac8-ae71-723c5cd1e9c2",
   "metadata": {},
   "outputs": [
    {
     "name": "stdout",
     "output_type": "stream",
     "text": [
      "Has anyone seen a toad? A boy named Neville's lost one. Oh, are you doing magic? Let's see, then. Are you sure that's a real spell? Well, it's not very good, is it? Of course I've only tried a few simple spells myself, and they've all worked for me. For example Oculus Reparo. That's better, isn't it? Holy Cricket, you're Harry Potter! I'm Hermione Granger, and you are..? Pleasure. You two better change into your robes. I expect we'll be arriving soon. You've got dirt, on your nose, by the way, did you know? Just there. It's not real, the ceiling. It's just bewitched to look like the night sky. I read about it in Hogwarts: A History. Oh no. Okay, relax. Nearly headless? How can you be nearly headless? I've read about those. When the smoke turns red, it means you've forgotten something. Up. Up. Up. Up. Harry, no way! You heard what Madam Hooch said! Besides, you don't even know how to fly! What an idiot. You won't make a fool of yourself. It's in your blood. The staircases change, remember? We're not supposed to be here. This is the third floor. It's forbidden. Oh, move over! Alohomora. Get in. Standard Book of Spells, Chapter Seven. Filch is gone. It was locked. AHHHHH! You don't use your eyes, do you? Didn't you see what it was standing on? It was standing on a trap door. Which means it wasn't there by accident. It's guarding something. That's right. Now, if you two don't mind, I'm going to bed, before either of you come up with another clever idea to get us killed or worse, expelled! Stop, stop, stop. You're going to take someone's eye out. Besides, you're saying it wrong. It's Leviosa, not Leviosar. Wingardium Leviosa. Help! Help! Ahhhh! Help! Swish and flick! Is it dead? It's my fault, Professor McGonagall. I went looking for the troll. I'd read about them and thought I could handle it. But I was wrong. If Harry and Ron hadn't come and found me, I'd probably be dead. Ron's right, Harry. You're going to need your strength today. Blood? But why would anyone go near that dog? So you're saying Bit early for mail, isn't it? It's Snape! He's jinxing the broom! Leave it to me. Lacarnum Inflamarae. Whoo-hoo!! That thing has a name? Hogwarts teacher or not, I know a spell when I see one. I've read all about them. You've got to keep eye contact and Snape wasn't blinking. I don't know. That's totally barbaric! I see you haven't. Good. You can help Harry then. He's going to go and look in the library for information on Nicholas Flamel. Not in the restricted section. Happy Christmas. I had you looking in the wrong section! How could I be so stupid? I checked this out a few weeks ago for a bit of light reading. Of course! Here it is! Nicholas Flamel is the only known maker of the Philosopher's Stone! Honestly, dont you two read? The Philosopher's Stone is a legendary substance with astonishing powers. It will turn any metal into pure gold and produces the Elixir of Life, which will make the drinker immortal. It means you never die. The only stone currently in existence belongs to Mr. Nicholas Flamel, the noted alchemist, who last year celebrated his six-hundred-and-sixty-fifth birthday! That's what Fluffy's guarding on the third floor. That's what's under the trapdoor the Philosopher's Stone! We know about the Philosopher's Stone! Of course! There are other things defending the Stone, aren't there? Spells, enchantments! Is that a dragon? Well, that's good, isn't it? He'll be with his own kind. Harry! You mean You-Know-Who's out there right now, in the forest? Hang on a minute. We're forgetting one thing. Who's the one wizard Voldemort always feared? Dumbledore. As long as Dumbledore's around, Harry, you're safe. As long as Dumbledore's around, you can't be touched. I'd always heard Hogwarts end of year exams were frightful, but I found they're rather enjoyable. It's happened before. What is it? And with Dumbledore gone- Uh, uh, w-w-we were just- Now what do we do? Neville, I'm really really sorry about this. Petrificus Totalus. Sorry. Ow, you stood on my foot! Alohomora. The harp. It's stopped playing. Stop moving, both of you. This is Devil's Snare. You have to relax. If you don't, it will only kill you faster. Just relax! Do what I say! Trust me! Are you okay? He's not relaxing, is he? We've gotta do something! Eugh, I remember reading something in Herbology. Um, Devil's Snare, Devil's Snare. It's deadly fun, but will sulk in the Sun. That's IT! Devil's Snare hates sunlight! Lumus Solem. What is that? Curious. I've never seen birds like these. What's this all about? Eugh! What are we going to do? There must be a thousand keys up there. What's wrong, Harry? I don't like this. I don't like this at all. Now what do we do? What happens now? Ron, you don't suppose this is going to be like real wizard's chess, do you? What is it? No you can't! There must be another way! You'll be okay, Harry. You're a great wizard. You really are. Heh, me? Books and cleverness. There are more important things. Friendship and bravery. And Harry, just be careful. Never better. We're tied with Slytherin! Come on, Harry. Feels strange to be going home, doesn't it? Has anyone seen a toad? A boy named Neville's lost one. Oh, are you doing magic? Let's see, then. Are you sure that's a real spell? Well, it's not very good, is it? Of course I've only tried a few simple spells myself, and they've all worked for me. For example Oculus Reparo. That's better, isn't it? Holy Cricket, you're Harry Potter! I'm Hermione Granger, and you are..? Pleasure. You two better change into your robes. I expect we'll be arriving soon. You've got dirt, on your nose, by the way, did you know? Just there. It's not real, the ceiling. It's just bewitched to look like the night sky. I read about it in Hogwarts: A History. Oh no. Okay, relax. Nearly headless? How can you be nearly headless? I've read about those. When the smoke turns red, it means you've forgotten something. Up. Up. Up. Up. Harry, no way! You heard what Madam Hooch said! Besides, you don't even know how to fly! What an idiot. You won't make a fool of yourself. It's in your blood. The staircases change, remember? We're not supposed to be here. This is the third floor. It's forbidden. Oh, move over! Alohomora. Get in. Standard Book of Spells, Chapter Seven. Filch is gone. It was locked. AHHHHH! You don't use your eyes, do you? Didn't you see what it was standing on? It was standing on a trap door. Which means it wasn't there by accident. It's guarding something. That's right. Now, if you two don't mind, I'm going to bed, before either of you come up with another clever idea to get us killed or worse, expelled! Stop, stop, stop. You're going to take someone's eye out. Besides, you're saying it wrong. It's Leviosa, not Leviosar. Wingardium Leviosa. Help! Help! Ahhhh! Help! Swish and flick! Is it dead? It's my fault, Professor McGonagall. I went looking for the troll. I'd read about them and thought I could handle it. But I was wrong. If Harry and Ron hadn't come and found me, I'd probably be dead. Ron's right, Harry. You're going to need your strength today. Blood? But why would anyone go near that dog? So you're saying Bit early for mail, isn't it? It's Snape! He's jinxing the broom! Leave it to me. Lacarnum Inflamarae. Whoo-hoo!! That thing has a name? Hogwarts teacher or not, I know a spell when I see one. I've read all about them. You've got to keep eye contact and Snape wasn't blinking. I don't know. That's totally barbaric! I see you haven't. Good. You can help Harry then. He's going to go and look in the library for information on Nicholas Flamel. Not in the restricted section. Happy Christmas. I had you looking in the wrong section! How could I be so stupid? I checked this out a few weeks ago for a bit of light reading. Of course! Here it is! Nicholas Flamel is the only known maker of the Philosopher's Stone! Honestly, dont you two read? The Philosopher's Stone is a legendary substance with astonishing powers. It will turn any metal into pure gold and produces the Elixir of Life, which will make the drinker immortal. It means you never die. The only stone currently in existence belongs to Mr. Nicholas Flamel, the noted alchemist, who last year celebrated his six-hundred-and-sixty-fifth birthday! That's what Fluffy's guarding on the third floor. That's what's under the trapdoor the Philosopher's Stone! We know about the Philosopher's Stone! Of course! There are other things defending the Stone, aren't there? Spells, enchantments! Is that a dragon? Well, that's good, isn't it? He'll be with his own kind. Harry! You mean You-Know-Who's out there right now, in the forest? Hang on a minute. We're forgetting one thing. Who's the one wizard Voldemort always feared? Dumbledore. As long as Dumbledore's around, Harry, you're safe. As long as Dumbledore's around, you can't be touched. I'd always heard Hogwarts end of year exams were frightful, but I found they're rather enjoyable. It's happened before. What is it? And with Dumbledore gone- Uh, uh, w-w-we were just- Now what do we do? Neville, I'm really really sorry about this. Petrificus Totalus. Sorry. Ow, you stood on my foot! Alohomora. The harp. It's stopped playing. Stop moving, both of you. This is Devil's Snare. You have to relax. If you don't, it will only kill you faster. Just relax! Do what I say! Trust me! Are you okay? He's not relaxing, is he? We've gotta do something! Eugh, I remember reading something in Herbology. Um, Devil's Snare, Devil's Snare. It's deadly fun, but will sulk in the Sun. That's IT! Devil's Snare hates sunlight! Lumus Solem. What is that? Curious. I've never seen birds like these. What's this all about? Eugh! What are we going to do? There must be a thousand keys up there. What's wrong, Harry? I don't like this. I don't like this at all. Now what do we do? What happens now? Ron, you don't suppose this is going to be like real wizard's chess, do you? What is it? No you can't! There must be another way! You'll be okay, Harry. You're a great wizard. You really are. Heh, me? Books and cleverness. There are more important things. Friendship and bravery. And Harry, just be careful. Never better. We're tied with Slytherin! Come on, Harry. Feels strange to be going home, doesn't it?\n"
     ]
    }
   ],
   "source": [
    "Hermione_dia = grouped_dialogue[grouped_dialogue['character_name'] == 'Hermione Granger']['dialogue'].iloc[0]\n",
    "print(Hermione_dia)"
   ]
  },
  {
   "cell_type": "code",
   "execution_count": 83,
   "id": "0cf6b478-04f7-45aa-93c8-5c3a073f4dfd",
   "metadata": {},
   "outputs": [
    {
     "name": "stdout",
     "output_type": "stream",
     "text": [
      "Excuse me, do you mind? Everywhere else is full. I'm Ron, by the way. Ron Weasley. So-so it's true? I mean, do you really have the the Scar? Wicked. No, thanks, I'm all set. Whoa! They mean every flavour! There's chocolate and peppermint, and there's also spinach, liver and tripe. George sweared he got a bogey-flavoured one once! It's just a spell. Besides, it's the cards you want. Each pack's got a famous witch or wizard. I got about five-hundred myself. Watch it! Oh, that's rotten luck. They've only got one good jump in them to begin with. I got about six of him. Well, you can't expect him to hang around all day, can you? This is Scabbers by the way, pathetic isn't he? Fred gave me a spell as to turn him yellow. Want to see? Ahem. Sun No. Sunshine, daisies, butter mellow, turn this stupid fat rat yellow! I'm Ron Weasley. Whoa! Wicked. Mental, that one, I'm telling you. There isn't a witch or wizard who went bad who wasn't in Slytherin. Harry, what is it? Ahhh! I know you! You're Nearly Headless Nick! Ahhh! Look at that one, Harry! Whew, made it. Can you imagine the look on old McGonagall's face if we were late? That was bloody brilliant. Turn it into rum. Actually managed a weak tea yesterday, before- Ah! Mail's here! Up! Ow! Shut up, Harry. Seeker? But first years never make their house teams! You must be the youngest Quidditch player in- Fred and George are on the team too. Beaters. Oh, go on, Harry, Quidditch is great. Best game there is! And you'll be great too! Whoa. Harry, you never told me your father was a Seeker too! I'm telling you, it's spooky. She knows more about you than you do. Ahhh! Before the staircase moves again. It's Filch's cat! That's it! We're done for! Alohomora? Probably thinks this door's locked. AHHHHH! What do they think they're doing? Keeping a thing like that locked up in a school. I wasn't looking at its feet! I was a bit preoccupied with its heads! Or maybe you didn't notice, there were three! She needs to sort out her priorities. Wingardium Leviosar! You do it then if you're so clever. Go on, go on. It's Levioooosa, not Leviosaaar. She's a nightmare, honestly. No wonder she hasn't got any friends. Not by itself. Trolls are really stupid. Probably people playing jokes. What? I think the troll's left the dungeon. Hey, pea brain! Ew. What? Wingardium Leviosa! Well, what it is Take a bit of toast, mate, go on. Let's open it. That's not just any broomstick, Harry! It's a Nimbus two-thousand! Yay! Jinxing the broom? What do we do? Come on, Hermione! Go! Fluffy? Queen to E5. That's wizard's chess. I see you've packed. Change of plans. My parents decided to go to Romania to visit my brother Charlie. He's studying dragons there. We've looked a hundred times. I think we've had a bad influence on her. Harry, wake up! Come on Harry, wake up! Happy Christmas, Harry. Oh. My mum made it. It looks like you've got one too. Yeah! There they are. What is it? Well, let's see then, put it on. Whoa! I know what that is. That's an invisibility cloak. They're really rare. I wonder who gave it to you. Why? I only see me. That's me! Only, I'm head boy and I'm holding the Quidditch cup! And bloody hell, I'm Quidditch Captain too! I look good. Harry, do you think this mirror shows the future? This is light? The what? Immortal? I know what it means! We know about the Philosopher's Stone! I know what that is! But Hagrid, how did you get one? That's not just a dragon. That's a Norwegian Ridgeback! My brother Charlie works with these in Romania. It's crazy. And worse, Malfoy knows. It's bad. Okay. But, if he comes back, you don't think he'll try to kill you, do you? And to think, I've been worrying about my Potions final. Speak for yourself. All right there Harry? Perhaps you should see the nurse. Trevor. Trevor, sshh, go! You shouldn't be here! You're a little scary sometimes, you know that? Brilliant, but scary. It's for your own good, you know. Sorry. Eugh. It's got horrible breath. What? Euuugh! Yuck! Eugh. Ahhhhhhh!! Wow. Lucky this plant thing's here, really. Kill us faster? Oh, now I can relax! Hermione! Now what are we gonna do? Ahhhhh!! Harry! Harry! Ahhhh! Help! Ahhhhhhhhh! Yeah. Phew! Lucky we didn't panic. Alohomora! Well, it was worth a try. We want a big, old-fashioned one. Probably rusty, like the handle. Oh go on Harry! If Snape can catch it on that old broomstick, you can. You're the youngest Seeker in a century! This complicates things a bit. Hurry up! This is no graveyard. It's a chessboard. It's obvious, isn't it? We've got to play our way across the room. All right, Harry, you take the empty bishop's square. Hermione, you'll be the queen-side castle. And as for me, I'll be a knight. Well, white moves first. And thenwe play. You there, D-5! Yes Hermione, I think this is going to be exactly like wizard chess. Castle to E-4! Pawn to C-3!  You understand right, Harry. Once I make my move, the queen will take me. Then you're free to check the king. Do you wanna stop Snape from getting that stone or not? Harry, it's you that has to go on. I know it. Not me. Not Hermione. You. Knight to H-3. Check All right. You? Excuse me, do you mind? Everywhere else is full. I'm Ron, by the way. Ron Weasley. So-so it's true? I mean, do you really have the the Scar? Wicked. No, thanks, I'm all set. Whoa! They mean every flavour! There's chocolate and peppermint, and there's also spinach, liver and tripe. George sweared he got a bogey-flavoured one once! It's just a spell. Besides, it's the cards you want. Each pack's got a famous witch or wizard. I got about five-hundred myself. Watch it! Oh, that's rotten luck. They've only got one good jump in them to begin with. I got about six of him. Well, you can't expect him to hang around all day, can you? This is Scabbers by the way, pathetic isn't he? Fred gave me a spell as to turn him yellow. Want to see? Ahem. Sun No. Sunshine, daisies, butter mellow, turn this stupid fat rat yellow! I'm Ron Weasley. Whoa! Wicked. Mental, that one, I'm telling you. There isn't a witch or wizard who went bad who wasn't in Slytherin. Harry, what is it? Ahhh! I know you! You're Nearly Headless Nick! Ahhh! Look at that one, Harry! Whew, made it. Can you imagine the look on old McGonagall's face if we were late? That was bloody brilliant. Turn it into rum. Actually managed a weak tea yesterday, before- Ah! Mail's here! Up! Ow! Shut up, Harry. Seeker? But first years never make their house teams! You must be the youngest Quidditch player in- Fred and George are on the team too. Beaters. Oh, go on, Harry, Quidditch is great. Best game there is! And you'll be great too! Whoa. Harry, you never told me your father was a Seeker too! I'm telling you, it's spooky. She knows more about you than you do. Ahhh! Before the staircase moves again. It's Filch's cat! That's it! We're done for! Alohomora? Probably thinks this door's locked. AHHHHH! What do they think they're doing? Keeping a thing like that locked up in a school. I wasn't looking at its feet! I was a bit preoccupied with its heads! Or maybe you didn't notice, there were three! She needs to sort out her priorities. Wingardium Leviosar! You do it then if you're so clever. Go on, go on. It's Levioooosa, not Leviosaaar. She's a nightmare, honestly. No wonder she hasn't got any friends. Not by itself. Trolls are really stupid. Probably people playing jokes. What? I think the troll's left the dungeon. Hey, pea brain! Ew. What? Wingardium Leviosa! Well, what it is Take a bit of toast, mate, go on. Let's open it. That's not just any broomstick, Harry! It's a Nimbus two-thousand! Yay! Jinxing the broom? What do we do? Come on, Hermione! Go! Fluffy? Queen to E5. That's wizard's chess. I see you've packed. Change of plans. My parents decided to go to Romania to visit my brother Charlie. He's studying dragons there. We've looked a hundred times. I think we've had a bad influence on her. Harry, wake up! Come on Harry, wake up! Happy Christmas, Harry. Oh. My mum made it. It looks like you've got one too. Yeah! There they are. What is it? Well, let's see then, put it on. Whoa! I know what that is. That's an invisibility cloak. They're really rare. I wonder who gave it to you. Why? I only see me. That's me! Only, I'm head boy and I'm holding the Quidditch cup! And bloody hell, I'm Quidditch Captain too! I look good. Harry, do you think this mirror shows the future? This is light? The what? Immortal? I know what it means! We know about the Philosopher's Stone! I know what that is! But Hagrid, how did you get one? That's not just a dragon. That's a Norwegian Ridgeback! My brother Charlie works with these in Romania. It's crazy. And worse, Malfoy knows. It's bad. Okay. But, if he comes back, you don't think he'll try to kill you, do you? And to think, I've been worrying about my Potions final. Speak for yourself. All right there Harry? Perhaps you should see the nurse. Trevor. Trevor, sshh, go! You shouldn't be here! You're a little scary sometimes, you know that? Brilliant, but scary. It's for your own good, you know. Sorry. Eugh. It's got horrible breath. What? Euuugh! Yuck! Eugh. Ahhhhhhh!! Wow. Lucky this plant thing's here, really. Kill us faster? Oh, now I can relax! Hermione! Now what are we gonna do? Ahhhhh!! Harry! Harry! Ahhhh! Help! Ahhhhhhhhh! Yeah. Phew! Lucky we didn't panic. Alohomora! Well, it was worth a try. We want a big, old-fashioned one. Probably rusty, like the handle. Oh go on Harry! If Snape can catch it on that old broomstick, you can. You're the youngest Seeker in a century! This complicates things a bit. Hurry up! This is no graveyard. It's a chessboard. It's obvious, isn't it? We've got to play our way across the room. All right, Harry, you take the empty bishop's square. Hermione, you'll be the queen-side castle. And as for me, I'll be a knight. Well, white moves first. And thenwe play. You there, D-5! Yes Hermione, I think this is going to be exactly like wizard chess. Castle to E-4! Pawn to C-3!  You understand right, Harry. Once I make my move, the queen will take me. Then you're free to check the king. Do you wanna stop Snape from getting that stone or not? Harry, it's you that has to go on. I know it. Not me. Not Hermione. You. Knight to H-3. Check All right. You?\n"
     ]
    }
   ],
   "source": [
    "Ron_dia = grouped_dialogue[grouped_dialogue['character_name'] == 'Ron Weasley']['dialogue'].iloc[0]\n",
    "print(Ron_dia)"
   ]
  },
  {
   "cell_type": "code",
   "execution_count": 84,
   "id": "0b978de3-126d-4b18-8a41-febb60b8e166",
   "metadata": {},
   "outputs": [
    {
     "name": "stdout",
     "output_type": "stream",
     "text": [
      "Use the boy. He lies. Let me speak to him. I have strength enough for this. Harry Potter, we meet again. Yes, you see what I've become? See what I must do to survive? Live off another, a mere parasite. Unicorn blood can sustain me, but it cannot give me a body of my own. But there is something that can. Something that, conveniently enough, lies in your pocket. Stop him! Don't be a fool. Why suffer an horrific death, when you can join me, and live. Haha. Bravery. Your parents had it too. Tell me, Harry, would you like to see your mother and father again, together? We can bring them back. All I ask is for something in return. That's it, Harry. There is no good and evil, there is only power, and those too weak to see it. Together, we'll do extraordinary things. Just give me the stone. Kill him! Fool! Get the stone! Use the boy. He lies. Let me speak to him. I have strength enough for this. Harry Potter, we meet again. Yes, you see what I've become? See what I must do to survive? Live off another, a mere parasite. Unicorn blood can sustain me, but it cannot give me a body of my own. But there is something that can. Something that, conveniently enough, lies in your pocket. Stop him! Don't be a fool. Why suffer an horrific death, when you can join me, and live. Haha. Bravery. Your parents had it too. Tell me, Harry, would you like to see your mother and father again, together? We can bring them back. All I ask is for something in return. That's it, Harry. There is no good and evil, there is only power, and those too weak to see it. Together, we'll do extraordinary things. Just give me the stone. Kill him! Fool! Get the stone!\n"
     ]
    }
   ],
   "source": [
    "Voldemort_dia = grouped_dialogue[grouped_dialogue['character_name'] == 'Voldemort']['dialogue'].iloc[0]\n",
    "print(Voldemort_dia)"
   ]
  },
  {
   "cell_type": "code",
   "execution_count": 117,
   "id": "f1e6b77c-e3a3-42e2-9a1e-4c93935d5ea6",
   "metadata": {},
   "outputs": [],
   "source": [
    "#testing \n",
    "#some compound-complex sentences\n",
    "sentence = \"\"\"We told her to wait in the car while we bought food, but she was gone when we came back. \n",
    "              After a long time, I still don’t understand her reason for leaving, but I guess it’s for the best. \n",
    "              Until we realize the gravity of climate change, we’ll continue with our detrimental acts as if the world is alright, \n",
    "              for we often care only when it’s too late.\n",
    "              Some new clothes were sitting in the cabinet, and because they’re unused, Mom wants to sell them.\n",
    "              Sam and Alex only knew each other for a year, but they decided to get married before Sam goes abroad, \n",
    "              and that was the best decision they’ve ever made.\"\"\"\n",
    "\n",
    "doc = nlp(sentence)"
   ]
  },
  {
   "cell_type": "code",
   "execution_count": 30,
   "id": "68332b7e-01bd-46d3-8088-9aa2cc4c2426",
   "metadata": {},
   "outputs": [
    {
     "name": "stdout",
     "output_type": "stream",
     "text": [
      "We         nsubj      PRON      \n",
      "told       ROOT       VERB      \n",
      "her        dobj       PRON      \n",
      "to         aux        PART      \n",
      "wait       xcomp      VERB      \n",
      "in         prep       ADP       \n",
      "the        det        DET       \n",
      "car        pobj       NOUN      \n",
      "while      mark       SCONJ     \n",
      "we         nsubj      PRON      \n",
      "bought     advcl      VERB      \n",
      "food       dobj       NOUN      \n",
      ",          punct      PUNCT     \n",
      "but        cc         CCONJ     \n",
      "she        nsubjpass  PRON      \n",
      "was        auxpass    AUX       \n",
      "gone       conj       VERB      \n",
      "when       advmod     SCONJ     \n",
      "we         nsubj      PRON      \n",
      "came       advcl      VERB      \n",
      "back       advmod     ADV       \n",
      ".          punct      PUNCT     \n",
      "\n",
      "               dep        SPACE     \n",
      "After      prep       ADP       \n",
      "a          det        DET       \n",
      "long       amod       ADJ       \n",
      "time       pobj       NOUN      \n",
      ",          punct      PUNCT     \n",
      "I          nsubj      PRON      \n",
      "still      advmod     ADV       \n",
      "do         aux        AUX       \n",
      "n’t        neg        PART      \n",
      "understand ROOT       VERB      \n",
      "her        poss       PRON      \n",
      "reason     dobj       NOUN      \n",
      "for        prep       ADP       \n",
      "leaving    pobj       VERB      \n",
      ",          punct      PUNCT     \n",
      "but        cc         CCONJ     \n",
      "I          nsubj      PRON      \n",
      "guess      conj       VERB      \n",
      "it         nsubj      PRON      \n",
      "’s         ccomp      VERB      \n",
      "for        prep       ADP       \n",
      "the        det        DET       \n",
      "best       pobj       ADJ       \n",
      ".          punct      PUNCT     \n",
      "\n",
      "               dep        SPACE     \n",
      "Until      mark       SCONJ     \n",
      "we         nsubj      PRON      \n",
      "realize    advcl      VERB      \n",
      "the        det        DET       \n",
      "gravity    dobj       NOUN      \n",
      "of         prep       ADP       \n",
      "climate    compound   NOUN      \n",
      "change     pobj       NOUN      \n",
      ",          punct      PUNCT     \n",
      "we         nsubj      PRON      \n",
      "’ll        aux        AUX       \n",
      "continue   ROOT       VERB      \n",
      "with       prep       ADP       \n",
      "our        poss       PRON      \n",
      "detrimental amod       ADJ       \n",
      "acts       pobj       NOUN      \n",
      "as         mark       SCONJ     \n",
      "if         mark       SCONJ     \n",
      "the        det        DET       \n",
      "world      nsubj      NOUN      \n",
      "is         advcl      AUX       \n",
      "alright    acomp      ADJ       \n",
      ",          punct      PUNCT     \n",
      "\n",
      "               dep        SPACE     \n",
      "for        mark       SCONJ     \n",
      "we         nsubj      PRON      \n",
      "often      advmod     ADV       \n",
      "care       advcl      VERB      \n",
      "only       advmod     ADV       \n",
      "when       advmod     SCONJ     \n",
      "it         nsubj      PRON      \n",
      "’s         advcl      VERB      \n",
      "too        advmod     ADV       \n",
      "late       acomp      ADJ       \n",
      ".          punct      PUNCT     \n",
      "\n",
      "               dep        SPACE     \n",
      "Some       det        DET       \n",
      "new        amod       ADJ       \n",
      "clothes    nsubj      NOUN      \n",
      "were       aux        AUX       \n",
      "sitting    ROOT       VERB      \n",
      "in         prep       ADP       \n",
      "the        det        DET       \n",
      "cabinet    pobj       NOUN      \n",
      ",          punct      PUNCT     \n",
      "and        cc         CCONJ     \n",
      "because    mark       SCONJ     \n",
      "they       nsubj      PRON      \n",
      "’re        advcl      VERB      \n",
      "unused     acomp      ADJ       \n",
      ",          punct      PUNCT     \n",
      "Mom        nsubj      PROPN     \n",
      "wants      conj       VERB      \n",
      "to         aux        PART      \n",
      "sell       xcomp      VERB      \n",
      "them       dobj       PRON      \n",
      ".          punct      PUNCT     \n",
      "\n",
      "               dep        SPACE     \n",
      "Sam        nsubj      PROPN     \n",
      "and        cc         CCONJ     \n",
      "Alex       conj       PROPN     \n",
      "only       advmod     ADV       \n",
      "knew       ROOT       VERB      \n",
      "each       det        DET       \n",
      "other      dobj       ADJ       \n",
      "for        prep       ADP       \n",
      "a          det        DET       \n",
      "year       pobj       NOUN      \n",
      ",          punct      PUNCT     \n",
      "but        cc         CCONJ     \n",
      "they       nsubj      PRON      \n",
      "decided    conj       VERB      \n",
      "to         aux        PART      \n",
      "get        auxpass    AUX       \n",
      "married    xcomp      VERB      \n",
      "before     mark       SCONJ     \n",
      "Sam        nsubj      PROPN     \n",
      "goes       advcl      VERB      \n",
      "abroad     advmod     ADV       \n",
      ",          punct      PUNCT     \n",
      "\n",
      "               dep        SPACE     \n",
      "and        cc         CCONJ     \n",
      "that       nsubj      PRON      \n",
      "was        conj       AUX       \n",
      "the        det        DET       \n",
      "best       amod       ADJ       \n",
      "decision   attr       NOUN      \n",
      "they       nsubj      PRON      \n",
      "’ve        aux        AUX       \n",
      "ever       advmod     ADV       \n",
      "made       relcl      VERB      \n",
      ".          punct      PUNCT     \n"
     ]
    }
   ],
   "source": [
    "for token in doc:\n",
    "    print(f\"{token.text:10} {token.dep_:10} {token.pos_:10}\")"
   ]
  },
  {
   "cell_type": "code",
   "execution_count": 158,
   "id": "ab79406d-a7f7-4564-b371-39cc332ea34b",
   "metadata": {},
   "outputs": [],
   "source": [
    "def is_subordinate_clause(token):\n",
    "    subordinate_tags = {\"advcl\", \"ccomp\", \"relcl\", \"acl\"}\n",
    "    \n",
    "    return token.dep_ in subordinate_tags\n",
    "\n",
    "# Function to count independent and subordinate clauses per sentence\n",
    "def count_clauses_per_sentence(sentence):\n",
    "    independent_clauses = 0\n",
    "    subordinate_clauses = 0\n",
    "    nsubj_pron_pos = -1  # Position of nsubj PRON\n",
    "    conj_verb_pos = -1   # Position of conj VERB\n",
    "\n",
    "    root = None\n",
    "    # Find independent clause\n",
    "    for token in sentence:\n",
    "        if token.dep_ == \"ROOT\":\n",
    "            root = token\n",
    "            independent_clauses += 1  # Found the independent clause\n",
    "        if token.dep_ == \"nsubj\" or \"nsubjpass\" and token.pos_ == \"PRON\":\n",
    "            nsubj_pron_pos = token.i\n",
    "            # Find the first conj VERB\n",
    "        if token.dep_ == \"conj\" and token.pos_ == \"VERB\":\n",
    "                conj_verb_pos = token.i\n",
    "            # If nsubj PRON was found before conj VERB\n",
    "        if nsubj_pron_pos != -1 and conj_verb_pos - nsubj_pron_pos <= 2:\n",
    "             independent_clauses += 1 \n",
    " \n",
    "\n",
    "    # Find subordinate clauses related to the root\n",
    "    for token in sentence:\n",
    "        if is_subordinate_clause(token):\n",
    "            subordinate_clauses += 1\n",
    "\n",
    "    return independent_clauses, subordinate_clauses"
   ]
  },
  {
   "cell_type": "code",
   "execution_count": 139,
   "id": "e6690451-57ab-4cbb-b868-a63718c719c9",
   "metadata": {},
   "outputs": [],
   "source": [
    "def complex_sent(text):\n",
    "    sent_count = 0\n",
    "    for token in text:        \n",
    "        if is_subordinate_clause(token):\n",
    "                sent_count += 1\n",
    "                return sent_count"
   ]
  },
  {
   "cell_type": "code",
   "execution_count": 151,
   "id": "c590a3d8-e46c-4cf3-9559-93e4ff4d8cca",
   "metadata": {},
   "outputs": [],
   "source": [
    "def cc_sent(text):\n",
    "    sent_count = 0\n",
    "    for sent in text.sents:\n",
    "        indep_count, sub_count = count_clauses_per_sentence(sent)\n",
    "        if indep_count >= 2 and sub_count >= 1:\n",
    "            sent_count +=1 \n",
    "            return sent.text, sent_count"
   ]
  },
  {
   "cell_type": "code",
   "execution_count": 156,
   "id": "c4293203-5da3-4123-9c25-24ab3734fdea",
   "metadata": {},
   "outputs": [
    {
     "name": "stdout",
     "output_type": "stream",
     "text": [
      "('We told her to wait in the car while we bought food, but she was gone when we came back. \\n              ', 1)\n",
      "\n",
      "1\n"
     ]
    }
   ],
   "source": [
    "doc_AB = nlp(Dumbledore_dia)\n",
    "print(cc_sent(doc))\n",
    "print()\n",
    "print(complex_sent(doc))"
   ]
  },
  {
   "cell_type": "code",
   "execution_count": 157,
   "id": "526fa17d-726d-449f-a216-501879e1e3d0",
   "metadata": {},
   "outputs": [
    {
     "name": "stdout",
     "output_type": "stream",
     "text": [
      "(\"He doesn't understand what it's like, lying there day after day, having people press their ugly faces in on you.\", 1)\n",
      "\n",
      "1\n"
     ]
    }
   ],
   "source": [
    "doc_HP = nlp(Harry_dia)\n",
    "print(cc_sent(doc_HP))\n",
    "print()\n",
    "print(complex_sent(doc_HP))"
   ]
  },
  {
   "cell_type": "code",
   "execution_count": 107,
   "id": "12512869-5cb4-4a4c-98bb-a2b33e3c5022",
   "metadata": {},
   "outputs": [
    {
     "name": "stdout",
     "output_type": "stream",
     "text": [
      "(\"I'd always heard Hogwarts end of year exams were frightful, but I found they're rather enjoyable.\", 1)\n",
      "\n",
      "(\"A boy named Neville's lost one.\", 1)\n"
     ]
    }
   ],
   "source": [
    "doc_HG = nlp(Hermione_dia)\n",
    "print(cc_sent(doc_HG))\n",
    "print()\n",
    "print(complex_sent(doc_HG))"
   ]
  },
  {
   "cell_type": "code",
   "execution_count": 108,
   "id": "86c55cde-b00f-4a43-a4d3-ea3140d11d94",
   "metadata": {},
   "outputs": [
    {
     "name": "stdout",
     "output_type": "stream",
     "text": [
      "None\n",
      "\n",
      "('Excuse me, do you mind?', 1)\n"
     ]
    }
   ],
   "source": [
    "doc_RW = nlp(Ron_dia)\n",
    "print(cc_sent(doc_RW))\n",
    "print()\n",
    "print(complex_sent(doc_RW))"
   ]
  },
  {
   "cell_type": "code",
   "execution_count": null,
   "id": "9f090263-7570-45e6-b884-ed4f279d4f61",
   "metadata": {},
   "outputs": [],
   "source": []
  }
 ],
 "metadata": {
  "kernelspec": {
   "display_name": "Python 3 (ipykernel)",
   "language": "python",
   "name": "python3"
  },
  "language_info": {
   "codemirror_mode": {
    "name": "ipython",
    "version": 3
   },
   "file_extension": ".py",
   "mimetype": "text/x-python",
   "name": "python",
   "nbconvert_exporter": "python",
   "pygments_lexer": "ipython3",
   "version": "3.11.9"
  }
 },
 "nbformat": 4,
 "nbformat_minor": 5
}
