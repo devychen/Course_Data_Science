{
 "cells": [
  {
   "cell_type": "code",
   "execution_count": null,
   "id": "f30f6b65-95d1-44ca-942c-767d81190ce9",
   "metadata": {},
   "outputs": [],
   "source": [
    "!pip install pandas # prep"
   ]
  },
  {
   "cell_type": "code",
   "execution_count": 74,
   "id": "6abc4bdd-4d6e-449a-aa8e-d6c6aed34262",
   "metadata": {},
   "outputs": [
    {
     "name": "stdout",
     "output_type": "stream",
     "text": [
      "  glottocode        name isocodes     level  macroarea  latitude  longitude\n",
      "0   3adt1234  3Ad-Tekles      NaN   dialect     Africa       NaN        NaN\n",
      "1   aala1237      Aalawa      NaN   dialect  Papunesia       NaN        NaN\n",
      "2   aant1238  Aantantara      NaN   dialect  Papunesia       NaN        NaN\n",
      "3   aari1239        Aari      aiw  language     Africa   5.95034    36.5721\n",
      "4   aari1240      Aariya      aay  language    Eurasia       NaN        NaN\n",
      "5   aasa1238       Aasax      aas  language     Africa  -4.00679    36.8648\n",
      "6   aasd1234    Aasdring      NaN   dialect    Eurasia       NaN        NaN\n",
      "7   aata1238   Aatasaara      NaN   dialect  Papunesia       NaN        NaN\n",
      "8   abab1239      Ababda      NaN   dialect     Africa       NaN        NaN\n",
      "9   abad1243     Abadani      NaN   dialect    Eurasia       NaN        NaN\n",
      "\n",
      "Different values in level ：\n",
      "['dialect' 'language']\n",
      "\n",
      "\n",
      "Different values in macroarea ：\n",
      "['Africa' 'Papunesia' 'Eurasia' 'South America' 'North America'\n",
      " 'Australia' nan]\n",
      "\n",
      "Selected rows value：           latitude    longitude\n",
      "count  8813.000000  8813.000000\n",
      "mean      8.971587    50.516983\n",
      "std      19.608848    80.944193\n",
      "min     -55.274800  -178.785000\n",
      "25%      -5.034710     7.116710\n",
      "50%       6.880390    47.438800\n",
      "75%      21.552000   122.968000\n",
      "max      73.135400   179.306000\n",
      "\n",
      "Selected rows value: 21957\n"
     ]
    }
   ],
   "source": [
    "## Question 1, 2 & 3\n",
    "\n",
    "import pandas as pd # import pandas.\n",
    "\n",
    "# loading database\n",
    "file_path = '/Users/ychen/wise24homework/languages_and_dialects_geo.csv'\n",
    "# use read.csv function to load file into dataframe.\n",
    "df = pd.read_csv(file_path, encoding = 'utf-8') \n",
    "print(df.head(10)) # display the first few rows, gain a first overview.\n",
    "\n",
    "# We can tell that the columns are: \"glottocode, name, isocodes, level, macroarea, latitude, longitude\".\n",
    "# Among them, \"glottocode\", \"isocodes\", \"latitude\", \"longtitude\" are numeric. \"name\", \"level\", \"macroarea\" are categorical. \n",
    "# Therefore -\n",
    "\n",
    "selected_cat_columns = ['level','macroarea']\n",
    "\n",
    "unique_values = {\n",
    "    'level': df['level'].unique(),\n",
    "    'macroarea': df['macroarea'].unique()\n",
    "}\n",
    "\n",
    "for column, values in unique_values.items():\n",
    "    print(f\"\\nDifferent values in {column} ：\")\n",
    "    print(values)\n",
    "    print() # print different values in \"level\", \"macroarea\" columns, \"name\" excluded as there are too many of them.\n",
    "    # this also solve the Question 3. \n",
    "\n",
    "selected_num_columns = ['isocodes', 'latitude', 'longitude']\n",
    "selected_columns_stats = df[selected_num_columns].describe()\n",
    "\n",
    "print(\"Selected rows value：\", selected_columns_stats) # print descriptives of \"glottocode\", \"isocodes\", \"latitude\", \"longtitude\".\n",
    "\n",
    "# How many entities does this database of langauages and dialects have?\n",
    "num_entities = df.shape[0]\n",
    "print(\"\\nSelected rows value:\", num_entities)"
   ]
  },
  {
   "cell_type": "code",
   "execution_count": 69,
   "id": "e3461854-7281-4f9a-8e6b-0bc47d214ad3",
   "metadata": {},
   "outputs": [
    {
     "name": "stdout",
     "output_type": "stream",
     "text": [
      "Number of languages and dialect with 1SO 639-3 code: 8122\n",
      "\n",
      "Number of languages and dialect with latitude and longitude data: 8813\n"
     ]
    }
   ],
   "source": [
    "# Question 4 & 5\n",
    "\n",
    "# NaN in Pandas means \"Not a Number\", namely the value is missing.\n",
    "# From the list, we could tell the solution is to find the non-NaN value, namely notnull value.\n",
    "\n",
    "lang_isocodes = df[df['isocodes'].notnull()] # will return TRUE if non-NaN.\n",
    "num_lang_isocodes = lang_isocodes.shape[0]\n",
    "print(\"Number of languages and dialect with 1SO 639-3 code:\", num_lang_isocodes)\n",
    "\n",
    "# those have latitued and longitude data:\n",
    "lang_location = df[df['latitude'].notnull() & df['longitude'].notnull()]\n",
    "num_lang_location = lang_location.shape[0]\n",
    "print(\"\\nNumber of languages and dialect with latitude and longitude data:\", num_lang_location)"
   ]
  },
  {
   "cell_type": "code",
   "execution_count": 70,
   "id": "b6b7cad8-8969-4a99-a057-41ad49e17b6b",
   "metadata": {},
   "outputs": [
    {
     "name": "stdout",
     "output_type": "stream",
     "text": [
      "Most northern language names and microarea: Nganasan Eurasia\n"
     ]
    }
   ],
   "source": [
    "# Question 6\n",
    "\n",
    "mostnorth_lang = df['latitude'].idxmax()\n",
    "mostnorth_lang_name = df.at[mostnorth_lang, 'name']\n",
    "mostnorth_lang_macroarea = df.at[mostnorth_lang, 'macroarea']\n",
    "\n",
    "print(\"Most northern language names and microarea:\", mostnorth_lang_name, mostnorth_lang_macroarea)"
   ]
  },
  {
   "cell_type": "code",
   "execution_count": 71,
   "id": "f2daef6b-6ff0-435b-b27e-dd7e489e3860",
   "metadata": {},
   "outputs": [
    {
     "name": "stdout",
     "output_type": "stream",
     "text": [
      "Latitude range: -5.03471 to 21.552\n",
      "\n",
      "Not symmetric.\n"
     ]
    }
   ],
   "source": [
    "# Question 7\n",
    "\n",
    "# Central half means divided into 1/4 and focus on the central 1/2 - namely 1/4-3/4.\n",
    "lat1 = df['latitude'].quantile(0.25)\n",
    "lat3 = df['latitude'].quantile(0.75)\n",
    "print(\"Latitude range:\", lat1, \"to\", lat3)\n",
    "\n",
    "# symmetric around equator or not (equator has latitude 0)\n",
    "lat_midpoint = (lat1 + lat3) / 2\n",
    "if lat_midpoint.round(2) == 0:\n",
    "    print(\"\\nYes symmetric.\")\n",
    "else: \n",
    "    print(\"\\nNot symmetric.\")"
   ]
  },
  {
   "cell_type": "code",
   "execution_count": 72,
   "id": "66aa9d06-b9cc-414e-abb1-ec7337ed1d23",
   "metadata": {},
   "outputs": [
    {
     "name": "stdout",
     "output_type": "stream",
     "text": [
      "The largest gap in longitide is between language Lomaiviti and Tuvalu\n",
      "\n",
      "The largest gap in longitide (southern hemisphare) is between language Lomaiviti and Tuvalu\n"
     ]
    }
   ],
   "source": [
    "# Question 8 & 9\n",
    "# I am not sure about Q8 as the longitude does not seem to have W,E,N,S indicators.\n",
    "# And the answer appears to be the same, which also does not seem to be correct.\n",
    "\n",
    "df['longitude'].fillna(0, inplace=True) # replace NaN with 0\n",
    "\n",
    "df['longit_range'] = df['longitude'].apply(lambda x: float(x))\n",
    "\n",
    "# Question 8\n",
    "max_gap = df.nlargest(2, 'longit_range')\n",
    "lang1 = max_gap.iloc[0]['name']\n",
    "lang2 = max_gap.iloc[1]['name']\n",
    "\n",
    "print(\"The largest gap in longitide is between language\", lang1, \"and\", lang2)\n",
    "\n",
    "# Question 9\n",
    "south_lang = df[df['latitude'] < 0].copy()\n",
    "south_lang['longit_range'] = south_lang['longitude'].apply(lambda x: float(x))\n",
    "max_gap_south = south_lang.nlargest(2, 'longit_range')\n",
    "\n",
    "lang3 = max_gap_south.iloc[0]['name']\n",
    "lang4 = max_gap_south.iloc[1]['name']\n",
    "\n",
    "print(\"\\nThe largest gap in longitide (southern hemisphare) is between language\", lang3, \"and\", lang4)"
   ]
  }
 ],
 "metadata": {
  "kernelspec": {
   "display_name": "Python 3 (ipykernel)",
   "language": "python",
   "name": "python3"
  },
  "language_info": {
   "codemirror_mode": {
    "name": "ipython",
    "version": 3
   },
   "file_extension": ".py",
   "mimetype": "text/x-python",
   "name": "python",
   "nbconvert_exporter": "python",
   "pygments_lexer": "ipython3",
   "version": "3.11.6"
  }
 },
 "nbformat": 4,
 "nbformat_minor": 5
}
