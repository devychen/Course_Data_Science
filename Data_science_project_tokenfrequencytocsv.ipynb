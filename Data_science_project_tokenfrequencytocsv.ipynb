{
 "cells": [
  {
   "cell_type": "code",
   "execution_count": 35,
   "id": "4acb910c-8f24-4b77-a3ac-ba07e1855ad6",
   "metadata": {
    "scrolled": true
   },
   "outputs": [
    {
     "name": "stdout",
     "output_type": "stream",
     "text": [
      "          character_name                                           dialogue\n",
      "0       Albus Dumbledore  I should have known that you would be here, Pr...\n",
      "1            Argus Filch  Anyone here, my sweet? Come on. Who's there?! ...\n",
      "2           Bloody Baron                                      Whoo-hoo-hoo!\n",
      "3                  Class      Good afternoon, Madam Hooch. Swish and flick.\n",
      "4        Doris Crockford  Doris Crockford, Mr. Potter. I can't believe I...\n",
      "5           Draco Malfoy  It's true then, what they're saying on the tra...\n",
      "6         Dudley Dursley  Wake up, cousin! We're going to the zoo! How m...\n",
      "7        Filius Flitwick  One of a wizard's most rudimentary skills is l...\n",
      "8                Firenze  Harry Potter, you must leave. You are known to...\n",
      "9           Fred Weasley  Honestly, woman, you call yourself our mother....\n",
      "10    Garrick Ollivander  I wondered when I'd be seeing you, Mr. Potter....\n",
      "11        George Weasley  He's not Fred, I am! We got Potter! We got Pot...\n",
      "12         Ginny Weasley                                         Good luck.\n",
      "13                Goblin  And does Mr. Harry Potter have his key? Very w...\n",
      "14              Griphook  Vault six-hundred-and-eighty-seven. Lamp, plea...\n",
      "15                 Guard  Nine-and-three-quarters? Think you're being fu...\n",
      "16          Harry Potter  Yes, Aunt Petunia. Yes, Uncle Vernon. He's asl...\n",
      "17      Hermione Granger  Has anyone seen a toad? A boy named Neville's ...\n",
      "18            Lee Jordan  Hello, and welcome to Hogwarts' first Quidditc...\n",
      "19                   Man                              Fire! You're on fire!\n",
      "20          Marcus Flint                      Give me that! Take that side!\n",
      "21    Minerva McGonagall  Good evening, Professor Dumbledore. Are the ru...\n",
      "22         Molly Weasley  It's the same year after year. Always packed w...\n",
      "23  Nearly Headless Nick  Hello! How are you? Welcome to Gryffindor. Dis...\n",
      "24    Neville Longbottom  Trevor! Sorry. Seamus, that picture's moving! ...\n",
      "25           Oliver Wood  Quidditch is easy enough to understand. Each t...\n",
      "26         Percy Weasley  Oh, that's Professor Snape, head of Slytherin ...\n",
      "27       Petunia Dursley  Up. Get up. Now! Oh, here he comes, the birthd...\n",
      "28     Quirinus Quirrell  Harry P-potter. C-can't tell you how pleased I...\n",
      "29         Rolanda Hooch  Good afternoon, class. Good afternoon, Amanda,...\n",
      "30           Ron Weasley  Excuse me, do you mind? Everywhere else is ful...\n",
      "31         Rubeus Hagrid  Professor Dumbledore, Sir. Professor McGonagal...\n",
      "32       Seamus Finnigan  I'm half and half. Me dad's a Muggle. Mam's a ...\n",
      "33         Severus Snape  There will be no foolish wand waving or silly ...\n",
      "34                 Snake                                            Thanks.\n",
      "35           Sorting Hat  Ah, right thenhmmright. Okay, Gryffindor! SLYT...\n",
      "36          The Fat Lady                                          Password?\n",
      "37                   Tom  Ah, Hagrid! The usual, I presume? Bless my sou...\n",
      "38          Trolley lady                   Anything off the trolley, dears?\n",
      "39        Vernon Dursley  Happy birthday, son. Hurry up! Bring my coffee...\n",
      "40             Voldemort  Use the boy. He lies. Let me speak to him. I h...\n"
     ]
    }
   ],
   "source": [
    "import pandas as pd\n",
    "with open('C:/Users/Jessi/Desktop/DS_project/hp_script.csv', encoding='latin1') as f:\n",
    "    data = f.read()\n",
    "\n",
    "latin1_encoded_data = data.encode('latin1')\n",
    "utf8_decoded_data = latin1_encoded_data.decode('utf-8', errors='ignore')\n",
    "\n",
    "from io import StringIO\n",
    "df = pd.read_csv(StringIO(utf8_decoded_data), delimiter=';')\n",
    "\n",
    "# Group the dialogue by character_name\n",
    "grouped_dialogue = df.groupby('character_name')['dialogue'].apply(lambda x: ' '.join(x)).reset_index()\n",
    "\n",
    "# Show the result\n",
    "print(grouped_dialogue)"
   ]
  },
  {
   "cell_type": "code",
   "execution_count": 53,
   "id": "a3c0aae7-ab12-4d3b-840a-2a34ba1a4ca0",
   "metadata": {},
   "outputs": [],
   "source": [
    "import spacy\n",
    "nlp = spacy.load('en_core_web_lg')"
   ]
  },
  {
   "cell_type": "code",
   "execution_count": 40,
   "id": "0edbe8fc-1e87-481b-bce7-9beeb71511e6",
   "metadata": {},
   "outputs": [],
   "source": [
    "def clean_text(d):\n",
    "    d = re.sub(r'([,.;@#?!&$]+)(?=[^\\s])', r' ', d)\n",
    "    return d"
   ]
  },
  {
   "cell_type": "code",
   "execution_count": 41,
   "id": "19d6d5ac-9b33-4799-9ac1-9924c08bfc1c",
   "metadata": {
    "scrolled": true
   },
   "outputs": [
    {
     "name": "stdout",
     "output_type": "stream",
     "text": [
      "i should have known that you would be here, professor mcgonagall. i'm afraid so, professor. the good, and the bad. hagrid is bringing him. ah, professor, i would trust hagrid with my life. no problems, i trust, hagrid? the only family he has. exactly. he's far better off growing up away from all of that. until he is ready. there there, hagrid. it's not really goodbye, after all. good luck, harry potter. i have a few start of term notices i wish to announce. the first years please note that the dark forest is strictly forbidden to all students. also, our caretaker, mr. filch has asked me to remind you that the third floor corridor on the right hand side is out of bounds to everyone who does not wish to die a most painful death. thank you. let the feast begin. silence ! everyone will please, not panic. back again, harry? i see that you, like so many before you have discovered the delights of the mirror of erised. i trust by now you realise what it does. let me give you a clue. the happiest man on earth would look into the mirror and see only himself, exactly as he is. yesand no. it shows us nothing more or less than the deepest most desperate desires of our hearts. now you, who have never known your family, you see them standing beside you. but remember this, harry. this mirror gives us neither knowledge or truth. men have wasted away in front of it, even gone mad. that is why tomorrow it will be moved to a new home, and i must ask you not to go looking for it again. it does not do to dwell on dreams, harry, and forget to live. good afternoon, harry. tokens from your admirers? what happened down in the dungeons beterrn you and professor quirrell is a complete secret. so naturally the whole school knows. i see that your friend ronald has saved you the trouble of opening your chocolate frogs. fine. they're both just fine. relax, dear boy. the stone has been destroyed. my friend nicholas and i have had a little chat, and agreed it was best all around. he has enough elixir to set his affairs in order. but yes, he will die. ah. you see, only a person who wanted to find the stone, but not use it, would be able to get it. that is one of my more brilliant ideas. and between you and me that is saying something. ah, i'm afraid there are ways in which he can return. harry, do you know why professor quirrell couldn't bear to have you touch him? it was because of your mother. she sacrificed herself for you, and that kind of act leaves a mark. no, no, this kind of mark cannot be seen. it lives in your very skin. love, harry, love. ah. bertie bott's every flavour beans. i was most unfortunate in my youth to come across a vomit flavoured one, and since then i'm afraid i have lost my liking for them. but i think i could be safe with a nice toffee mm alas. earwax. another year, gone! and now, as i understand it, the house cup needs awarded and the points stand thus. in fourth place, gryffindor, with 312 points! in third place, hufflepuff, with 352 points! second, ravenclaw, with 426 points and in first place, with 472 points, slytherin house yes, well done slytherin, well done slytherin. however, recent events must be taken into account and i have a few last minute points to award to miss hermione granger, for the cool use of intellect while others were in grave peril, fifty points second, to mr. ronald weasley, for the best played game of chess that hogwarts has seen these many years, fifty points! and third, to mr. harry potter, for pure love and outstanding courage, i award gryffindor house, sixty points! and finally, it takes a great deal of bravery to stand up to your enemies, but a great deal more to stand up to your friends. i award ten points to neville longbottom! assuming my calculations are correct, i believe that a change of decoration is in order! gryffindor wins the house cup!\n"
     ]
    }
   ],
   "source": [
    "Dumbledore_dia = grouped_dialogue[grouped_dialogue['character_name'] == 'Albus Dumbledore']['dialogue'].iloc[0]\n",
    "#print(Dumbledore_dia)\n",
    "import re\n",
    "AB_dia = Dumbledore_dia.lower() \n",
    "clean_AB_dia = clean_text(AB_dia)\n",
    "print(clean_AB_dia)\n",
    "\n",
    "import pandas as pd\n",
    "\n",
    "# load to model\n",
    "nlp = spacy.load('en_core_web_lg')\n",
    "doc_AB = nlp(clean_AB_dia)\n",
    "\n",
    "# extract tokens and their POS tags\n",
    "tokens = [(token.text, token.pos_) for token in doc_AB]\n",
    "\n",
    "# create a pandas DataFrame from the tokens\n",
    "df = pd.DataFrame(tokens, columns=['Token', 'POS'])\n",
    "\n",
    "# count the frequency of each token and POS pair\n",
    "token_freq = df.value_counts(subset=['Token', 'POS']).reset_index(name='Frequency')\n",
    "\n",
    "# save the result to a CSV file\n",
    "csv_path = 'C:/Users/Jessi/Desktop/DS_project/Dumbledore_1.csv'\n",
    "token_freq.to_csv(csv_path, encoding='utf-8', index=False, header=True)"
   ]
  },
  {
   "cell_type": "code",
   "execution_count": 45,
   "id": "4ffc78c3-3b20-4a17-9ff9-80e71bbc02a7",
   "metadata": {},
   "outputs": [
    {
     "name": "stdout",
     "output_type": "stream",
     "text": [
      "yes, aunt petunia. yes, uncle vernon. he's asleep! sorry about him. he doesn't understand what it's like, lying there day after day, having people press their ugly faces in on you. can you hear me? it's just i've never talked to a snake before. do you i mean do you talk to people often? you're from burma, aren't you? was it nice there, do you miss your family? i see. that's me as well. i never knew my parents, either. any time. ow! i swear i don't know! one minute, the glass was there and then it was gone! it was like magic! hey, give it back! it's mine! because there's no post on sunday? get off! ahh! they're my letters! let go of me! make a wish, harry. i-i am. thank you! excuse me, who are you? sorry, no. learned what? i-i'm a what? no, you've made a mistake. i can't be a-a wizard. i mean, i'm just harry. just harry. dear, mr. potter. we are pleased to inform you that you have been accepted at hogwarts' school of witchcraft and wizardry. you knew? you know all along and you never told me? blown up? you told me my parents died in a car crash! muggle? okay. all students must be equipped with one standard size two pewter cauldron, and may bring if they desire, either an owl, a cat or a toad. could we find all this in london? oh, nice to meet you. goodbye. but why am i famous, hagrid? all those people back there, how is it they know who i am? but, hagrid, how am i to pay for all this? i haven't any money. uh, hagrid, what exactly are these things? what's in there, hagrid? i still need a wand. hello? hello? sorry, but whats curious? and who owned that wand? wow. he killed my parents, didn't he? the one who gave me this. you know, hagrid, i know you do. maybe if you wrote it down? voldemort? me? voldemort tried to kill me? what happened toto you-know-who? platform nine-and-three-quarters? but, hagrid, there must be a mistake. this says platform nine-and-three-quarters. there's no such thing is there?  excuse me, excuse me. excuse me, sir. can you tell me where i might find platform nine-and-three-quarters? muggles? excuse me! c-could you tell me how to- not at all. i'm harry. harry potter. the what? oh. we'll take the lot! bertie bott's every flavour beans? these aren't real chocolate frogs, are they? i got dumbledore! hey, he's gone! a little. yeah! hey, hagrid. i think i can tell who the wrong sort are for myself, thanks. ahh! nothing nothing, i'm fine. not slytherin. not slytherin. not slytherin anything but slytherin. wow. say, percy, who's that teacher talking to professor quirrell? what's he teach? i think she fancies you. we got lost. i don't know, sir. i don't know, sir. what's seamus trying to do to that glass of water? can i borrow this? thanks. hey, ron, somebody broke into gringotts, listen. believed to be the work of dark witches or wizards unknown, gringotts goblins, while acknowledging the breach, insist that nothing was taken. the vault in question, number seven-hundred-and-thirteen, had in fact been emptied earlier that same day. that's odd. that's the vault hagrid and i went to. up! wow. neville! give it here, malfoy. give it here, malfoy, or i'll knock you off your broom. a century! according to mcgonagall. but i've never even played quidditch. what if i make a fool of myself? i didn't know. who doesn't? what's happening? let's go this way. does anyone feel like we shouldn't be here? let's go. run! quick! let's hide through that door! it's locked! and for good reason. ahhhhh! guarding something? i think so. what are those? what is that? i like this ball. what do i do with it? whoa. i think we're going to need another feather over here, professor. i think she heard you. where's hermione? how could a troll get in? hermione! she doesn't know! it's going into the girls' bathroom! hermione, move! whoa ! whoa, whoa!  whoa whoa whoa! do something! anything! hurry up. i don't think so. just knocked out. ew. troll bogies. well, what it is i'm not hungry. that explains the blood. listen, last night, i'm guessing snape let the troll in as a diversion so he could try and get past that three headed dog. but, he got himself bitten. that's why he's limping. the day i was at gringotts, hagrid took something out of one of the vaults. he said it was hogwarts business, very secret. that's what the dog's guarding. that's what snape wants. but i-i never get mail. it's a broomstick! but who ? a little. what happened? yes! whoa! yes! whoa! whoa! who knows? why was he trying to get past that three-headed dog on halloween? yes? but hagrid, whatever fluffy's guarding, snape's trying to steal it. exactly. nicholas flamel? nicholas flamel. who's nicholas flamel? knight to e5. happy christmas, ron. what are you wearing? i-i've got presents? your father left this in my possession before he died. it is time it was returned to you. use it well. it's some kind of cloak. my body's gone! i'm invisible? there was no name. it just said use it well. famous fire eatersfifteenth-century fiendsflamelnicholas flamelwhere are you? mum? dad? ron! you've really got to see this! ron! you've got to see this! ron! come on! get out of bed! there's something you've got to see. now, come on! come on. come on. come look, it's my parents! look in properly. go on. stand there. you see them, don't you? that's my dad. how can it? both my parents are dead. so, then it shows us what we want? whatever we want? the what? sshhh! hagrid! we know about the philosopher's stone! we think snape's trying to steal it. hagrid, we know he's after the stone. we just don't know why. what? wait a minute. one of the teachers? uh, hagrid, what exactly is that? norbert? malfoy. hagrid always wanted a dragon. he told me so the first time i met him. i don't understand. is that bad? fifty ! hagrid, what's that? if i didn't know better, draco, i'd say you were scared. what is it, fang? but what was that thing you saved me from? but who would choose such a life? do you mean to say that thing that killed the unicorn that was drinking its bloodthat was voldemort? the philosopher's stone. but he's weak. he's living off the unicorns. don't you see? we had it wrong! snape doesn't want the stone for himself. he wants the stone for voldemort. with the elixir of life, voldemort will be strong again. he'll he'll come back. i think if he'd had the chance, he might've tried to kill me tonight. my scar. it keeps burning. not like this. i think it's a warning. it means danger's coming. oh. of course. don't you think it's a bit odd that what hagrid wants more than anything is a dragon and a stranger turns up who just happens to have one? i mean, how many people wander around with dragon eggs in their pocket? why didn't i see it before? hagrid, who gave you the dragon egg? what did he look like? this stranger though, you and he must have talked? did he seem interested in fluffy? we have to see professor dumbledore, immediately! he's gone? but this is important! this is about the philosopher's stone. someone's going to try and steal it. that was no stranger hagrid met in the village. it was snape, which means he knows how to get past fluffy. we go down the trapdoor, tonight. no neville, listen. we were- let's go. sorry. wait a minute. he's snoring. snape's already been here. he's put a spell on the harp. we have to move its paw. come on! okay. push. i'll go first. don't follow until i give you a sign. if something bad happens, get yourselves out. does it seem a bit quiet to you? jump ! wow! oh, ah! hermione! hermione, where are you? yeah, yeah, i'm fine. apparently not. what? ron, you okay? okay. lucky hermione pays attention in herbology. i don't know. sounds like wings. they're not birds. they're keys. and i bet one of them fits that door. i don't know. strange. there! i see it! the one with the broken wing! it's too simple. catch the key! where are we? a graveyard? there's the door. wait a minute. no, ron, no! he's going to sacrifice himself. ron! no! don't move! don't forget, we're still playing. checkmate take care of ron. then go to the owlery, send a message to dumbledore. ron's right. i have to go on. not as good as you. ow! you? n-no, it can't be! snape, h-he w-was the- but that day, during the quidditch match, snape tried to kill me. snape was trying to save me? th-then you let the troll in! i'm shaking hands with dumbledore. i've won the house cup. voldemort. never! you liar! admirers? ron was here? is he all right? what about hermione? but what happened to the stone? but then flamel, he'll die, won't he? how is it i got the stone, sir? one minute i was staring in the mirror and- does that mean, with the stone gone, that is, that voldemort can never come back? what is it? all right there, ron? all right. hermione? one minute. thanks, hagrid. but hagrid, we're not allowed to do magic away from hogwarts. you know that. i'm not going home, not really.\n"
     ]
    }
   ],
   "source": [
    "Harry_dia = grouped_dialogue[grouped_dialogue['character_name'] == 'Harry Potter']['dialogue'].iloc[0]\n",
    "#print(Harry_dia)\n",
    "\n",
    "HP_dia = Harry_dia.lower() \n",
    "clean_HP_dia = clean_text(HP_dia)\n",
    "print(clean_HP_dia)\n",
    "\n",
    "#load to model\n",
    "nlp = spacy.load('en_core_web_lg')\n",
    "doc_HP = nlp(clean_HP_dia)\n",
    "\n",
    "# Extract tokens and their POS tags\n",
    "tokens = [(token.text, token.pos_) for token in doc_HP]\n",
    "\n",
    "# Create a pandas DataFrame from the tokens\n",
    "df = pd.DataFrame(tokens, columns=['Token', 'POS'])\n",
    "\n",
    "# Count the frequency of each token and POS combination\n",
    "token_freq = df.value_counts(subset=['Token', 'POS']).reset_index(name='Frequency')\n",
    "\n",
    "# Save the result to a CSV file\n",
    "csv_path = 'C:/Users/Jessi/Desktop/DS_project/Harry_1.csv'\n",
    "token_freq.to_csv(csv_path, encoding='utf-8', index=False, header=True)"
   ]
  },
  {
   "cell_type": "code",
   "execution_count": 44,
   "id": "95da342b-52e5-4ac8-ae71-723c5cd1e9c2",
   "metadata": {},
   "outputs": [
    {
     "name": "stdout",
     "output_type": "stream",
     "text": [
      "has anyone seen a toad? a boy named neville's lost one. oh, are you doing magic? let's see, then. are you sure that's a real spell? well, it's not very good, is it? of course i've only tried a few simple spells myself, and they've all worked for me. for example oculus reparo. that's better, isn't it? holy cricket, you're harry potter! i'm hermione granger, and you are ? pleasure. you two better change into your robes. i expect we'll be arriving soon. you've got dirt, on your nose, by the way, did you know? just there. it's not real, the ceiling. it's just bewitched to look like the night sky. i read about it in hogwarts: a history. oh no. okay, relax. nearly headless? how can you be nearly headless? i've read about those. when the smoke turns red, it means you've forgotten something. up. up. up. up. harry, no way! you heard what madam hooch said! besides, you don't even know how to fly! what an idiot. you won't make a fool of yourself. it's in your blood. the staircases change, remember? we're not supposed to be here. this is the third floor. it's forbidden. oh, move over! alohomora. get in. standard book of spells, chapter seven. filch is gone. it was locked. ahhhhh! you don't use your eyes, do you? didn't you see what it was standing on? it was standing on a trap door. which means it wasn't there by accident. it's guarding something. that's right. now, if you two don't mind, i'm going to bed, before either of you come up with another clever idea to get us killed or worse, expelled! stop, stop, stop. you're going to take someone's eye out. besides, you're saying it wrong. it's leviosa, not leviosar. wingardium leviosa. help! help! ahhhh! help! swish and flick! is it dead? it's my fault, professor mcgonagall. i went looking for the troll. i'd read about them and thought i could handle it. but i was wrong. if harry and ron hadn't come and found me, i'd probably be dead. ron's right, harry. you're going to need your strength today. blood? but why would anyone go near that dog? so you're saying bit early for mail, isn't it? it's snape! he's jinxing the broom! leave it to me. lacarnum inflamarae. whoo-hoo ! that thing has a name? hogwarts teacher or not, i know a spell when i see one. i've read all about them. you've got to keep eye contact and snape wasn't blinking. i don't know. that's totally barbaric! i see you haven't. good. you can help harry then. he's going to go and look in the library for information on nicholas flamel. not in the restricted section. happy christmas. i had you looking in the wrong section! how could i be so stupid? i checked this out a few weeks ago for a bit of light reading. of course! here it is! nicholas flamel is the only known maker of the philosopher's stone! honestly, dont you two read? the philosopher's stone is a legendary substance with astonishing powers. it will turn any metal into pure gold and produces the elixir of life, which will make the drinker immortal. it means you never die. the only stone currently in existence belongs to mr. nicholas flamel, the noted alchemist, who last year celebrated his six-hundred-and-sixty-fifth birthday! that's what fluffy's guarding on the third floor. that's what's under the trapdoor the philosopher's stone! we know about the philosopher's stone! of course! there are other things defending the stone, aren't there? spells, enchantments! is that a dragon? well, that's good, isn't it? he'll be with his own kind. harry! you mean you-know-who's out there right now, in the forest? hang on a minute. we're forgetting one thing. who's the one wizard voldemort always feared? dumbledore. as long as dumbledore's around, harry, you're safe. as long as dumbledore's around, you can't be touched. i'd always heard hogwarts end of year exams were frightful, but i found they're rather enjoyable. it's happened before. what is it? and with dumbledore gone- uh, uh, w-w-we were just- now what do we do? neville, i'm really really sorry about this. petrificus totalus. sorry. ow, you stood on my foot! alohomora. the harp. it's stopped playing. stop moving, both of you. this is devil's snare. you have to relax. if you don't, it will only kill you faster. just relax! do what i say! trust me! are you okay? he's not relaxing, is he? we've gotta do something! eugh, i remember reading something in herbology. um, devil's snare, devil's snare. it's deadly fun, but will sulk in the sun. that's it! devil's snare hates sunlight! lumus solem. what is that? curious. i've never seen birds like these. what's this all about? eugh! what are we going to do? there must be a thousand keys up there. what's wrong, harry? i don't like this. i don't like this at all. now what do we do? what happens now? ron, you don't suppose this is going to be like real wizard's chess, do you? what is it? no you can't! there must be another way! you'll be okay, harry. you're a great wizard. you really are. heh, me? books and cleverness. there are more important things. friendship and bravery. and harry, just be careful. never better. we're tied with slytherin! come on, harry. feels strange to be going home, doesn't it?\n"
     ]
    }
   ],
   "source": [
    "Hermione_dia = grouped_dialogue[grouped_dialogue['character_name'] == 'Hermione Granger']['dialogue'].iloc[0]\n",
    "#print(Hermione_dia)\n",
    "\n",
    "HG_dia = Hermione_dia.lower() \n",
    "clean_HG_dia = clean_text(HG_dia)\n",
    "print(clean_HG_dia)\n",
    "\n",
    "# load to model\n",
    "nlp = spacy.load('en_core_web_lg')\n",
    "doc_HG = nlp(clean_HG_dia)\n",
    "\n",
    "# extract tokens and their POS tags\n",
    "tokens = [(token.text, token.pos_) for token in doc_HG]\n",
    "\n",
    "# create a pandas DataFrame from the tokens\n",
    "df = pd.DataFrame(tokens, columns=['Token', 'POS'])\n",
    "\n",
    "# count the frequency of each token and POS pair\n",
    "token_freq = df.value_counts(subset=['Token', 'POS']).reset_index(name='Frequency')\n",
    "\n",
    "# save the result to a CSV file\n",
    "csv_path = 'C:/Users/Jessi/Desktop/DS_project/Hermione_1.csv'\n",
    "token_freq.to_csv(csv_path, encoding='utf-8', index=False, header=True)\n"
   ]
  },
  {
   "cell_type": "code",
   "execution_count": 43,
   "id": "0cf6b478-04f7-45aa-93c8-5c3a073f4dfd",
   "metadata": {},
   "outputs": [
    {
     "name": "stdout",
     "output_type": "stream",
     "text": [
      "excuse me, do you mind? everywhere else is full. i'm ron, by the way. ron weasley. so-so it's true? i mean, do you really have the the scar? wicked. no, thanks, i'm all set. whoa! they mean every flavour! there's chocolate and peppermint, and there's also spinach, liver and tripe. george sweared he got a bogey-flavoured one once! it's just a spell. besides, it's the cards you want. each pack's got a famous witch or wizard. i got about five-hundred myself. watch it! oh, that's rotten luck. they've only got one good jump in them to begin with. i got about six of him. well, you can't expect him to hang around all day, can you? this is scabbers by the way, pathetic isn't he? fred gave me a spell as to turn him yellow. want to see? ahem. sun no. sunshine, daisies, butter mellow, turn this stupid fat rat yellow! i'm ron weasley. whoa! wicked. mental, that one, i'm telling you. there isn't a witch or wizard who went bad who wasn't in slytherin. harry, what is it? ahhh! i know you! you're nearly headless nick! ahhh! look at that one, harry! whew, made it. can you imagine the look on old mcgonagall's face if we were late? that was bloody brilliant. turn it into rum. actually managed a weak tea yesterday, before- ah! mail's here! up! ow! shut up, harry. seeker? but first years never make their house teams! you must be the youngest quidditch player in- fred and george are on the team too. beaters. oh, go on, harry, quidditch is great. best game there is! and you'll be great too! whoa. harry, you never told me your father was a seeker too! i'm telling you, it's spooky. she knows more about you than you do. ahhh! before the staircase moves again. it's filch's cat! that's it! we're done for! alohomora? probably thinks this door's locked. ahhhhh! what do they think they're doing? keeping a thing like that locked up in a school. i wasn't looking at its feet! i was a bit preoccupied with its heads! or maybe you didn't notice, there were three! she needs to sort out her priorities. wingardium leviosar! you do it then if you're so clever. go on, go on. it's levioooosa, not leviosaaar. she's a nightmare, honestly. no wonder she hasn't got any friends. not by itself. trolls are really stupid. probably people playing jokes. what? i think the troll's left the dungeon. hey, pea brain! ew. what? wingardium leviosa! well, what it is take a bit of toast, mate, go on. let's open it. that's not just any broomstick, harry! it's a nimbus two-thousand! yay! jinxing the broom? what do we do? come on, hermione! go! fluffy? queen to e5. that's wizard's chess. i see you've packed. change of plans. my parents decided to go to romania to visit my brother charlie. he's studying dragons there. we've looked a hundred times. i think we've had a bad influence on her. harry, wake up! come on harry, wake up! happy christmas, harry. oh. my mum made it. it looks like you've got one too. yeah! there they are. what is it? well, let's see then, put it on. whoa! i know what that is. that's an invisibility cloak. they're really rare. i wonder who gave it to you. why? i only see me. that's me! only, i'm head boy and i'm holding the quidditch cup! and bloody hell, i'm quidditch captain too! i look good. harry, do you think this mirror shows the future? this is light? the what? immortal? i know what it means! we know about the philosopher's stone! i know what that is! but hagrid, how did you get one? that's not just a dragon. that's a norwegian ridgeback! my brother charlie works with these in romania. it's crazy. and worse, malfoy knows. it's bad. okay. but, if he comes back, you don't think he'll try to kill you, do you? and to think, i've been worrying about my potions final. speak for yourself. all right there harry? perhaps you should see the nurse. trevor. trevor, sshh, go! you shouldn't be here! you're a little scary sometimes, you know that? brilliant, but scary. it's for your own good, you know. sorry. eugh. it's got horrible breath. what? euuugh! yuck! eugh. ahhhhhhh ! wow. lucky this plant thing's here, really. kill us faster? oh, now i can relax! hermione! now what are we gonna do? ahhhhh ! harry! harry! ahhhh! help! ahhhhhhhhh! yeah. phew! lucky we didn't panic. alohomora! well, it was worth a try. we want a big, old-fashioned one. probably rusty, like the handle. oh go on harry! if snape can catch it on that old broomstick, you can. you're the youngest seeker in a century! this complicates things a bit. hurry up! this is no graveyard. it's a chessboard. it's obvious, isn't it? we've got to play our way across the room. all right, harry, you take the empty bishop's square. hermione, you'll be the queen-side castle. and as for me, i'll be a knight. well, white moves first. and thenwe play. you there, d-5! yes hermione, i think this is going to be exactly like wizard chess. castle to e-4! pawn to c-3!  you understand right, harry. once i make my move, the queen will take me. then you're free to check the king. do you wanna stop snape from getting that stone or not? harry, it's you that has to go on. i know it. not me. not hermione. you. knight to h-3. check all right. you?\n"
     ]
    }
   ],
   "source": [
    "Ron_dia = grouped_dialogue[grouped_dialogue['character_name'] == 'Ron Weasley']['dialogue'].iloc[0]\n",
    "#print(Ron_dia)\n",
    "\n",
    "RW_dia = Ron_dia.lower() \n",
    "clean_RW_dia = clean_text(RW_dia)\n",
    "print(clean_RW_dia)\n",
    "\n",
    "# load to model\n",
    "nlp = spacy.load('en_core_web_lg')\n",
    "doc_RW = nlp(clean_RW_dia)\n",
    "\n",
    "# extract tokens and their POS tags\n",
    "tokens = [(token.text, token.pos_) for token in doc_RW]\n",
    "\n",
    "# create a pandas DataFrame from the tokens\n",
    "df = pd.DataFrame(tokens, columns=['Token', 'POS'])\n",
    "\n",
    "# count the frequency of each token and POS pair\n",
    "token_freq = df.value_counts(subset=['Token', 'POS']).reset_index(name='Frequency')\n",
    "\n",
    "# save the result to a CSV file\n",
    "csv_path = 'C:/Users/Jessi/Desktop/DS_project/RON_1.csv'\n",
    "token_freq.to_csv(csv_path, encoding='utf-8', index=False, header=True)\n",
    "\n"
   ]
  },
  {
   "cell_type": "code",
   "execution_count": 42,
   "id": "0b978de3-126d-4b18-8a41-febb60b8e166",
   "metadata": {},
   "outputs": [
    {
     "name": "stdout",
     "output_type": "stream",
     "text": [
      "use the boy. he lies. let me speak to him. i have strength enough for this. harry potter, we meet again. yes, you see what i've become? see what i must do to survive? live off another, a mere parasite. unicorn blood can sustain me, but it cannot give me a body of my own. but there is something that can. something that, conveniently enough, lies in your pocket. stop him! don't be a fool. why suffer an horrific death, when you can join me, and live. haha. bravery. your parents had it too. tell me, harry, would you like to see your mother and father again, together? we can bring them back. all i ask is for something in return. that's it, harry. there is no good and evil, there is only power, and those too weak to see it. together, we'll do extraordinary things. just give me the stone. kill him! fool! get the stone!\n"
     ]
    }
   ],
   "source": [
    "Voldemort_dia = grouped_dialogue[grouped_dialogue['character_name'] == 'Voldemort']['dialogue'].iloc[0]\n",
    "#print(Voldemort_dia)\n",
    "\n",
    "V_dia = Voldemort_dia.lower() \n",
    "clean_V_dia =clean_text(V_dia)\n",
    "print(V_dia)\n",
    "\n",
    "# load to model\n",
    "nlp = spacy.load('en_core_web_lg')\n",
    "doc_V = nlp(V_dia)\n",
    "\n",
    "# extract tokens and their POS tags\n",
    "tokens = [(token.text, token.pos_) for token in doc_V]\n",
    "\n",
    "# create a pandas DataFrame from the tokens\n",
    "df = pd.DataFrame(tokens, columns=['Token', 'POS'])\n",
    "\n",
    "# count the frequency of each token and POS pair\n",
    "token_freq = df.value_counts(subset=['Token', 'POS']).reset_index(name='Frequency')\n",
    "\n",
    "# save the result to a CSV file\n",
    "csv_path = 'C:/Users/Jessi/Desktop/DS_project/Voldemort_1.csv'\n",
    "token_freq.to_csv(csv_path, encoding='utf-8', index=False, header=True)"
   ]
  }
 ],
 "metadata": {
  "kernelspec": {
   "display_name": "Python 3 (ipykernel)",
   "language": "python",
   "name": "python3"
  },
  "language_info": {
   "codemirror_mode": {
    "name": "ipython",
    "version": 3
   },
   "file_extension": ".py",
   "mimetype": "text/x-python",
   "name": "python",
   "nbconvert_exporter": "python",
   "pygments_lexer": "ipython3",
   "version": "3.11.9"
  }
 },
 "nbformat": 4,
 "nbformat_minor": 5
}
