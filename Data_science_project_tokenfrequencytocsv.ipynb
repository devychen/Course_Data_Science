{
 "cells": [
  {
   "cell_type": "code",
   "execution_count": 8,
   "id": "4acb910c-8f24-4b77-a3ac-ba07e1855ad6",
   "metadata": {
    "scrolled": true
   },
   "outputs": [
    {
     "name": "stdout",
     "output_type": "stream",
     "text": [
      "         character_name                                           dialogue\n",
      "0      Albus Dumbledore  I should have known that you would be here, Pr...\n",
      "1    Minerva McGonagall  Good evening, Professor Dumbledore. Are the ru...\n",
      "2      Albus Dumbledore   I'm afraid so, Professor. The good, and the bad.\n",
      "3    Minerva McGonagall                                       And the boy?\n",
      "4      Albus Dumbledore                            Hagrid is bringing him.\n",
      "..                  ...                                                ...\n",
      "915    Albus Dumbledore  Before we begin the feast, let us have a round...\n",
      "916    Hermione Granger                                             Oh no!\n",
      "917       Rubeus Hagrid  Sorry I'm late! The owl that delivered my rele...\n",
      "918        Harry Potter      Well there's no Hogwarts without you, Hagrid.\n",
      "919       Rubeus Hagrid                                                Oh!\n",
      "\n",
      "[1713 rows x 2 columns]\n",
      "      character_name                                           dialogue\n",
      "0   Albus Dumbledore  I should have known that you would be here, Pr...\n",
      "1          Announcer       Ladies and gentleman, Mr. Gilderoy Lockhart.\n",
      "2             Aragog  Who is it? Hagrid? Is that you? Yes. Hagrid ha...\n",
      "3        Argus Filch  Anyone here, my sweet? Come on. Who's there?! ...\n",
      "4     Arthur Weasley  Morning, Weasleys. What a night. Nine raids. N...\n",
      "..               ...                                                ...\n",
      "56      Trolley lady                   Anything off the trolley, dears?\n",
      "57    Vernon Dursley  Happy birthday, son. Hurry up! Bring my coffee...\n",
      "58    Vincent Crabbe  Ha ha ha ha ha! It's good, right? Ah cool! Nom...\n",
      "59         Voldemort  Use the boy. He lies. Let me speak to him. I h...\n",
      "60      harry Potter                                           Get off!\n",
      "\n",
      "[61 rows x 2 columns]\n"
     ]
    }
   ],
   "source": [
    "import pandas as pd\n",
    "\n",
    "# Load the CSV files directly with encoding\n",
    "df = pd.read_csv('C:/Users/Jessi/Desktop/DS_project/hp_script.csv', delimiter=';', encoding='latin1')\n",
    "df2 = pd.read_csv('C:/Users/Jessi/Desktop/DS_project/hp_script2.csv', delimiter=';', encoding='latin1')\n",
    "\n",
    "df = df.drop(columns=['ID_number', 'scene'])\n",
    "df2 = df2.drop(columns=['ID_number', 'scene'])\n",
    "\n",
    "# Concatenate the two dataframes\n",
    "result = pd.concat([df, df2])\n",
    "print(result)\n",
    "\n",
    "# Decode the dialogue column to UTF-8 for proper display\n",
    "result['dialogue'] = result['dialogue'].str.encode('latin1', errors='ignore').str.decode('utf-8', errors='ignore')\n",
    "\n",
    "# Group the dialogue by character_name and join the dialogue for each character\n",
    "grouped_dialogue = result.groupby('character_name')['dialogue'].apply(lambda x: ' '.join(x)).reset_index()\n",
    "\n",
    "# Show the result\n",
    "print(grouped_dialogue)"
   ]
  },
  {
   "cell_type": "code",
   "execution_count": 9,
   "id": "a3c0aae7-ab12-4d3b-840a-2a34ba1a4ca0",
   "metadata": {},
   "outputs": [],
   "source": [
    "import spacy\n",
    "nlp = spacy.load('en_core_web_lg')"
   ]
  },
  {
   "cell_type": "code",
   "execution_count": 10,
   "id": "0edbe8fc-1e87-481b-bce7-9beeb71511e6",
   "metadata": {},
   "outputs": [],
   "source": [
    "def clean_text(d):\n",
    "    d = re.sub(r'([,.;@#?!&$]+)(?=[^\\s])', r' ', d)\n",
    "    return d"
   ]
  },
  {
   "cell_type": "code",
   "execution_count": 11,
   "id": "19d6d5ac-9b33-4799-9ac1-9924c08bfc1c",
   "metadata": {
    "scrolled": true
   },
   "outputs": [
    {
     "name": "stdout",
     "output_type": "stream",
     "text": [
      "i should have known that you would be here, professor mcgonagall. i'm afraid so, professor. the good, and the bad. hagrid is bringing him. ah, professor, i would trust hagrid with my life. no problems, i trust, hagrid? the only family he has. exactly. he's far better off growing up away from all of that. until he is ready. there there, hagrid. it's not really goodbye, after all. good luck, harry potter. i have a few start of term notices i wish to announce. the first years please note that the dark forest is strictly forbidden to all students. also, our caretaker, mr. filch has asked me to remind you that the third floor corridor on the right hand side is out of bounds to everyone who does not wish to die a most painful death. thank you. let the feast begin. silence ! everyone will please, not panic. back again, harry? i see that you, like so many before you have discovered the delights of the mirror of erised. i trust by now you realise what it does. let me give you a clue. the happiest man on earth would look into the mirror and see only himself, exactly as he is. yesand no. it shows us nothing more or less than the deepest most desperate desires of our hearts. now you, who have never known your family, you see them standing beside you. but remember this, harry. this mirror gives us neither knowledge or truth. men have wasted away in front of it, even gone mad. that is why tomorrow it will be moved to a new home, and i must ask you not to go looking for it again. it does not do to dwell on dreams, harry, and forget to live. good afternoon, harry. tokens from your admirers? what happened down in the dungeons beterrn you and professor quirrell is a complete secret. so naturally the whole school knows. i see that your friend ronald has saved you the trouble of opening your chocolate frogs. fine. they're both just fine. relax, dear boy. the stone has been destroyed. my friend nicholas and i have had a little chat, and agreed it was best all around. he has enough elixir to set his affairs in order. but yes, he will die. ah. you see, only a person who wanted to find the stone, but not use it, would be able to get it. that is one of my more brilliant ideas. and between you and me that is saying something. ah, i'm afraid there are ways in which he can return. harry, do you know why professor quirrell couldn't bear to have you touch him? it was because of your mother. she sacrificed herself for you, and that kind of act leaves a mark. no, no, this kind of mark cannot be seen. it lives in your very skin. love, harry, love. ah. bertie bott's every flavour beans. i was most unfortunate in my youth to come across a vomit flavoured one, and since then i'm afraid i have lost my liking for them. but i think i could be safe with a nice toffee mm alas. earwax. another year, gone! and now, as i understand it, the house cup needs awarded and the points stand thus. in fourth place, gryffindor, with 312 points! in third place, hufflepuff, with 352 points! second, ravenclaw, with 426 points and in first place, with 472 points, slytherin house yes, well done slytherin, well done slytherin. however, recent events must be taken into account and i have a few last minute points to award to miss hermione granger, for the cool use of intellect while others were in grave peril, fifty points second, to mr. ronald weasley, for the best played game of chess that hogwarts has seen these many years, fifty points! and third, to mr. harry potter, for pure love and outstanding courage, i award gryffindor house, sixty points! and finally, it takes a great deal of bravery to stand up to your enemies, but a great deal more to stand up to your friends. i award ten points to neville longbottom! assuming my calculations are correct, i believe that a change of decoration is in order! gryffindor wins the house cup! they are not. i am well aware of our bylaws, severus, having written quite a few of them myself. however, as head of gryffindor house, it is for professor mcgonagall to determine the appropriate action. argus! argus! i everyone will proceed to their dormitories immediately. everyone except you three. she's not dead argus. she has been petrified. but how she has been petrified, i cannot say. innocent until proven guilty, severus. we will be able to cure her, argus. as i understand it, madame sprout has a very healthy growth of mandrakes. when matured, a potion will be made which will revive mrs. norris. and in the meantime, i strongly recommend caution to all. there's been another attack. it means that our students are in great danger. the truth. tell them hogwarts is no longer safe. it is as we feared, minerva. the chamber of secrets has indeed been opened again. harry? oh, and about time too. he's been looking dreadful for days. pity you had to see him on a burning day. fawkes is a phoenix, harry. they burst into flames when it is time for them to die, and then they are reborn from the ashes. ah, fascinating creatures, phoenixes. they can carry immensely heavy loads, and their tears have healing powers. hagrid. hagrid! relax. i do not believe that harry attacked anyone. yes. no, harry. i do not think it was you but i must ask you, is there something you wish to tell me? very well, then. off you go. riddle! come. it is not wise to be wandering around at this late hour, tom. i'm afraid they are, tom. they are true. i understand, tom. but i'm afraid headmaster dippet may have no choice. is there something you wish to tell me? very well, then. off you go. good evening, hagrid. i wonder, could we? i want it understood, cornelius, that hagrid has my full confidence. well, what exactly is it that you want with me? calm yourself, hagrid. if the governors desire my removal, i will, of course, step aside. however, you will find that help will always be given at hogwarts to those who ask for it. you both realise, of course, that in the past few hours you have broken perhaps a dozen school rules? and there is sufficient evidence to have you both expelled. therefore, it is only fitting that you both receive special awards for services to the school. and now, mr. weasley, if you would, have an owl deliver these release papers to azkaban? i believe we- we want our gamekeeper back. harry first, i want to thank you, harry. you must have shown me real loyalty down in the chamber. nothing but that could have called fawkes to you. and, um . second, i sense something is troubling you. am i right, harry? i see. well, you can speak parseltongue, harry. why? because lord voldemort can speak parseltongue. if i'm not mistaken, harry, he transferred some of his powers to you the night he gave you that scar. not intentionally, but yes. it's true, harry. you possess many of the qualities that voldemort himself prizes. determination, resourcefulness, and if i may say so, a certain disregard for the rules. why then, did the sorting hat place you in gryffindor? exactly, harry! exactly! which makes you different from voldemort. it is not our abilities that show what we truly are. it is our choices. if you want proof why you belong in gryffindor, then i suggest that you look more closely at this. be careful. ah, it would take a true gryffindor to pull that out of the hat. when the governors learned that arthur weasley's daughter was taken into the chamber, they saw fit to summon me back. curiously, lucius, several of them were under the impression that you would curse their families, if they did not agree to suspend me in the first place. i beg your pardon? oh, yes. voldemort. only, this time, he chose to act through somebody else, by means of this. fortunately, our young mr. potter discovered it. one hopes that no more of lord voldemort's old school things should find their way into innocent hands. the consequences for the one responsible would be severe. before we begin the feast, let us have a round of applause for professor sprout and madame pomfrey, whose mandrake juice has been so successfully administered to all who had been petrified. also, in light of the recent events, as a school treat, all exams have been cancelled!\n"
     ]
    }
   ],
   "source": [
    "Dumbledore_dia = grouped_dialogue[grouped_dialogue['character_name'] == 'Albus Dumbledore']['dialogue'].iloc[0]\n",
    "#print(Dumbledore_dia)\n",
    "import re\n",
    "AB_dia = Dumbledore_dia.lower() \n",
    "clean_AB_dia = clean_text(AB_dia)\n",
    "print(clean_AB_dia)\n",
    "\n",
    "import pandas as pd\n",
    "\n",
    "# load to model\n",
    "nlp = spacy.load('en_core_web_lg')\n",
    "doc_AB = nlp(clean_AB_dia)\n",
    "\n",
    "# extract tokens and their POS tags\n",
    "tokens = [(token.text, token.pos_) for token in doc_AB]\n",
    "\n",
    "# create a pandas DataFrame from the tokens\n",
    "df = pd.DataFrame(tokens, columns=['Token', 'POS'])\n",
    "\n",
    "# count the frequency of each token and POS pair\n",
    "token_freq = df.value_counts(subset=['Token', 'POS']).reset_index(name='Frequency')\n",
    "\n",
    "# save the result to a CSV file\n",
    "csv_path = 'C:/Users/Jessi/Desktop/DS_project/Dumbledore_all.csv'\n",
    "token_freq.to_csv(csv_path, encoding='utf-8', index=False, header=True)"
   ]
  },
  {
   "cell_type": "code",
   "execution_count": 12,
   "id": "4ffc78c3-3b20-4a17-9ff9-80e71bbc02a7",
   "metadata": {},
   "outputs": [
    {
     "name": "stdout",
     "output_type": "stream",
     "text": [
      "yes, aunt petunia. yes, uncle vernon. he's asleep! sorry about him. he doesn't understand what it's like, lying there day after day, having people press their ugly faces in on you. can you hear me? it's just i've never talked to a snake before. do you i mean do you talk to people often? you're from burma, aren't you? was it nice there, do you miss your family? i see. that's me as well. i never knew my parents, either. any time. ow! i swear i don't know! one minute, the glass was there and then it was gone! it was like magic! hey, give it back! it's mine! because there's no post on sunday? get off! ahh! they're my letters! let go of me! make a wish, harry. i-i am. thank you! excuse me, who are you? sorry, no. learned what? i-i'm a what? no, you've made a mistake. i can't be a-a wizard. i mean, i'm just harry. just harry. dear, mr. potter. we are pleased to inform you that you have been accepted at hogwarts' school of witchcraft and wizardry. you knew? you know all along and you never told me? blown up? you told me my parents died in a car crash! muggle? okay. all students must be equipped with one standard size two pewter cauldron, and may bring if they desire, either an owl, a cat or a toad. could we find all this in london? oh, nice to meet you. goodbye. but why am i famous, hagrid? all those people back there, how is it they know who i am? but, hagrid, how am i to pay for all this? i haven't any money. uh, hagrid, what exactly are these things? what's in there, hagrid? i still need a wand. hello? hello? sorry, but whats curious? and who owned that wand? wow. he killed my parents, didn't he? the one who gave me this. you know, hagrid, i know you do. maybe if you wrote it down? voldemort? me? voldemort tried to kill me? what happened toto you-know-who? platform nine-and-three-quarters? but, hagrid, there must be a mistake. this says platform nine-and-three-quarters. there's no such thing is there?  excuse me, excuse me. excuse me, sir. can you tell me where i might find platform nine-and-three-quarters? muggles? excuse me! c-could you tell me how to- not at all. i'm harry. harry potter. the what? oh. we'll take the lot! bertie bott's every flavour beans? these aren't real chocolate frogs, are they? i got dumbledore! hey, he's gone! a little. yeah! hey, hagrid. i think i can tell who the wrong sort are for myself, thanks. ahh! nothing nothing, i'm fine. not slytherin. not slytherin. not slytherin anything but slytherin. wow. say, percy, who's that teacher talking to professor quirrell? what's he teach? i think she fancies you. we got lost. i don't know, sir. i don't know, sir. what's seamus trying to do to that glass of water? can i borrow this? thanks. hey, ron, somebody broke into gringotts, listen. believed to be the work of dark witches or wizards unknown, gringotts goblins, while acknowledging the breach, insist that nothing was taken. the vault in question, number seven-hundred-and-thirteen, had in fact been emptied earlier that same day. that's odd. that's the vault hagrid and i went to. up! wow. neville! give it here, malfoy. give it here, malfoy, or i'll knock you off your broom. a century! according to mcgonagall. but i've never even played quidditch. what if i make a fool of myself? i didn't know. who doesn't? what's happening? let's go this way. does anyone feel like we shouldn't be here? let's go. run! quick! let's hide through that door! it's locked! and for good reason. ahhhhh! guarding something? i think so. what are those? what is that? i like this ball. what do i do with it? whoa. i think we're going to need another feather over here, professor. i think she heard you. where's hermione? how could a troll get in? hermione! she doesn't know! it's going into the girls' bathroom! hermione, move! whoa ! whoa, whoa!  whoa whoa whoa! do something! anything! hurry up. i don't think so. just knocked out. ew. troll bogies. well, what it is i'm not hungry. that explains the blood. listen, last night, i'm guessing snape let the troll in as a diversion so he could try and get past that three headed dog. but, he got himself bitten. that's why he's limping. the day i was at gringotts, hagrid took something out of one of the vaults. he said it was hogwarts business, very secret. that's what the dog's guarding. that's what snape wants. but i-i never get mail. it's a broomstick! but who ? a little. what happened? yes! whoa! yes! whoa! whoa! who knows? why was he trying to get past that three-headed dog on halloween? yes? but hagrid, whatever fluffy's guarding, snape's trying to steal it. exactly. nicholas flamel? nicholas flamel. who's nicholas flamel? knight to e5. happy christmas, ron. what are you wearing? i-i've got presents? your father left this in my possession before he died. it is time it was returned to you. use it well. it's some kind of cloak. my body's gone! i'm invisible? there was no name. it just said use it well. famous fire eatersfifteenth-century fiendsflamelnicholas flamelwhere are you? mum? dad? ron! you've really got to see this! ron! you've got to see this! ron! come on! get out of bed! there's something you've got to see. now, come on! come on. come on. come look, it's my parents! look in properly. go on. stand there. you see them, don't you? that's my dad. how can it? both my parents are dead. so, then it shows us what we want? whatever we want? the what? sshhh! hagrid! we know about the philosopher's stone! we think snape's trying to steal it. hagrid, we know he's after the stone. we just don't know why. what? wait a minute. one of the teachers? uh, hagrid, what exactly is that? norbert? malfoy. hagrid always wanted a dragon. he told me so the first time i met him. i don't understand. is that bad? fifty ! hagrid, what's that? if i didn't know better, draco, i'd say you were scared. what is it, fang? but what was that thing you saved me from? but who would choose such a life? do you mean to say that thing that killed the unicorn that was drinking its bloodthat was voldemort? the philosopher's stone. but he's weak. he's living off the unicorns. don't you see? we had it wrong! snape doesn't want the stone for himself. he wants the stone for voldemort. with the elixir of life, voldemort will be strong again. he'll he'll come back. i think if he'd had the chance, he might've tried to kill me tonight. my scar. it keeps burning. not like this. i think it's a warning. it means danger's coming. oh. of course. don't you think it's a bit odd that what hagrid wants more than anything is a dragon and a stranger turns up who just happens to have one? i mean, how many people wander around with dragon eggs in their pocket? why didn't i see it before? hagrid, who gave you the dragon egg? what did he look like? this stranger though, you and he must have talked? did he seem interested in fluffy? we have to see professor dumbledore, immediately! he's gone? but this is important! this is about the philosopher's stone. someone's going to try and steal it. that was no stranger hagrid met in the village. it was snape, which means he knows how to get past fluffy. we go down the trapdoor, tonight. no neville, listen. we were- let's go. sorry. wait a minute. he's snoring. snape's already been here. he's put a spell on the harp. we have to move its paw. come on! okay. push. i'll go first. don't follow until i give you a sign. if something bad happens, get yourselves out. does it seem a bit quiet to you? jump ! wow! oh, ah! hermione! hermione, where are you? yeah, yeah, i'm fine. apparently not. what? ron, you okay? okay. lucky hermione pays attention in herbology. i don't know. sounds like wings. they're not birds. they're keys. and i bet one of them fits that door. i don't know. strange. there! i see it! the one with the broken wing! it's too simple. catch the key! where are we? a graveyard? there's the door. wait a minute. no, ron, no! he's going to sacrifice himself. ron! no! don't move! don't forget, we're still playing. checkmate take care of ron. then go to the owlery, send a message to dumbledore. ron's right. i have to go on. not as good as you. ow! you? n-no, it can't be! snape, h-he w-was the- but that day, during the quidditch match, snape tried to kill me. snape was trying to save me? th-then you let the troll in! i'm shaking hands with dumbledore. i've won the house cup. voldemort. never! you liar! admirers? ron was here? is he all right? what about hermione? but what happened to the stone? but then flamel, he'll die, won't he? how is it i got the stone, sir? one minute i was staring in the mirror and- does that mean, with the stone gone, that is, that voldemort can never come back? what is it? all right there, ron? all right. hermione? one minute. thanks, hagrid. but hagrid, we're not allowed to do magic away from hogwarts. you know that. i'm not going home, not really. i can't let you out, hedwig. i'm not allowed to use magic outside of school. besides, if uncle vernon- now you've done it. but she's bored. if i could only let her out for an hour or two. but i haven't had any messages from any of my friends. not one. all summer. i'll be in my bedroom, making no noise and pretending that i don't exist. who are you? not to be rude or anything, but this isn't a great time for me to have a house elf in my bedroom. why don't you sit down? dobby, sshh ! i'm sorry! i didn't mean to offend you or anything. you can't have met many decent wizards then. stop, dobby! dobby, shh ! dobby, please stop! dobby, stop! please be quiet. are you all right? your family? what terrible things? who's plotting them? okay, i understand. you can't say. dobby? dobby, put the lamp down. give me the lamp! dobby, stop! get in there and keep quiet! i was just sorry. yes sir. see why i've got to go back ! i don't belong here. i belong in your world, at hogwarts. it's the only place i've got friends. well i expect they've been hang on, how did you know my friends haven't been writing to me? give me those, now. dobby, get back here. dobby, please, no.  i can't. hogwarts is my home. ron, fred, george, what are you all doing here? ahh! ahh! let go of me! i think it's brilliant. hello. w-what did i do? raids? oh, sorry sir. i'm harry sir, harry potter. oh. um floo powder? diagonally. ahh! ah! i'm fine, thank you. i-i was just no. please. hagrid! i was lost! hang on, what were you doing down there, then? oh it's great to see you too. i definitely need to remember that one. thank you. bye. voldemort killed my parents. he was nothing more than a murderer. let's go. ahhhh! sorry. lost- lost control of the trolley. why can't we get through? the train leaves at exactly eleven o'clock. we've missed it! maybe we should just go and wait by the car. ron, i should tell you, most muggles aren't accustomed to seeing a flying car. now all we need to do is catch up with the train. do you hear that? hold on wha-aahhhhh! i'm trying. your hand's all sweaty. i think we found the train. up! up! up! up! ron! mind that tree! ahhhhh! be thankful it's not your neck. i don't know. ahhhhh! ahhhhh! ahhhhh! come on! go! fast! see you, hedwig. so, a house elf shows up in my bedroom, we can't get through the barrier to platform nine and three-quarters, we almost get killed by a tree clearly someone doesn't want me here this year. professor dumbledore. professor mcgonagall. you're doomed. oh, hi, colin. nice to meet you. stop! stop! hold still! malfoy? no, colin! get out of the way! let's take him to hagrid's. he'll know what to do. ah! oh, okay. malfoy. he called hermione um, well, i don't- i dont know exactly what it means. what's a mudblood? that's horrible! not really. what? that voice. didn't you hear it? spooky. did you hear it? that voice. i heard it first in lockhart's office. and then again just- it's moving . i think it's going to kill. strange. i've never seen spiders act like that. oh no. it's filch's cat. it's mrs. norris. no. no. it's not true, sir, i swear. i never touched mrs. norris. when i said i wasn't hungry. we were heading back to the common room when we found mrs. norris. strange? do you think i should have told them? dumbledore and the others, i mean? well, if there really is a chamber of secrets, a-and it really has been opened, then that means well, maybe ron's right, hermione. i mean, look at his family. the whole lot of them have been in slytherin for centuries. well, how long will it take to make? a month? but, hermione, if malfoy is the heir of slytherin, he could attack half the muggle-borns in the school by then. wood! look out! thank you. no, i think my i think my arm's broken. no, not you. ugh! ugh! dobby? it was you you stopped the barrier from letting ron and me through. you nearly got ron and me expelled! your bludger? you made that bludger chase after me? you'd better clear off before my bones come back, dobby, or i might strangle you! i don't suppose you could tell me why you're trying to kill me? why do you wear that thing, dobby? repeat itself? you mean this has happened before? dobby, stop it! stop it! stop, dobby! tell me, dobby. when did this happen before? who's doing it now? no, dobby. tell me. who is it? thank you, sir. you wish. rictusempra! sya hassa she. sya hasi heth. sya hasi heth. i'm a what? i know. i mean, i accidentally set a python on my cousin dudley at the zoo once. uh, once! but, so what? i bet loads of people here can do it. what's bad? if i hadn't told that snake not to attack justin- you were there! you heard me! i spoke a different language? but i didn't realise i- how can i speak a language without knowing i can? but i'm not. i can't be. i'll see you back in the common room. no! mr. filch! y-you-you don't understand! professor i swear i didn't! professor dumbledore? i i-i was - i was just wondering if you'd put me in the right house. you're wrong. professor! sir, your bird there was nothing i could do! he- he just caught fire! you don't think it was me, professor? no sir, nothing. crabbe and goyle. ron, maybe i should do it? wingardium leviosa. here they come. come on. let's get em. eughhh! ron! we still sound like ourselves. you need to sound more like crabbe. excellent. hermione, are you okay? come on. i think the slytherin common room's this way. i'm ah um reading. uh huh. you're wrong! harry potter? but then you must have some idea who's behind it all. it's his stomachache. calm down. hair! hermione, come out! we've got loads to tell you! hermione? are you okay? she should be out of hospital in a few days, when she stops coughing up fur balls. what's this? looks like moaning myrtle's flooded the bathroom. why would i throw something at you? but, who threw it at you anyway? tom marvolo riddle. my name is harry potter. do you know anything about the chamber of secrets? can you tell me? excuse me. could you tell me what's going on here? are you tom riddle? hello? can you hear me? dumbledore? hagrid! hagrid! wow! it was hagrid. hagrid opened the chamber of secrets fifty years go. the monster had killed somebody, ron. what would any of us have done? no! what's that you've got, hagrid? and they found it. tom riddle's diary is gone. no. we've got to talk to hagrid, ron. i can't believe it's him, but if he did set the monster loose last time, he'll know how to get inside the chamber of secrets, and that's a start. i think it's time to get my dad's old cloak out again. what's that for? hagrid, are you okay? did you hear about hermione? look, we have to ask you something. do you know who's opened the chamber of secrets? look! well, come on. come on, fang! come on! you heard what hagrid said. follow the spiders. shush! come on! don't panic. we're friends of hagrid's. and you? y-y-you're aragog aren't you? he's in trouble. up at the school, there have been attacks. they think it's hagrid. they think he opened the chamber of secrets, like before. then you're not the monster. shush. but if you're not the monster, then- then what did kill that girl fifty years ago? but have you seen it? what? well, thank you. we'll just go. one, but it's not powerful enough for all of them. let's go! arania exumai! go! woah! arania exumai! don't mention it. get us out of here. now! come on! come on! move faster! ahhh! go on! go! get us in the air. come on! pull! we know one thing. hagrid never opened the chamber of secrets. he was innocent. wish you were here hermione. we need you now, more than ever. ron, this is why hermione was in the library the day she was attacked. come on! of the many fearsome beasts that roam our land, none is more deadly than the basilisk. capable of living for hundreds of years, instant death awaits any who meet this giant serpent's eye. spiders flee before it. ron, this is it! the monster in the chamber of secrets is a basilisk. that's why i can hear it speak. it's a snake! because no one did look it in the eye. not directly, at least. colin saw it through his camera. justin must have seen the basilisk through nearly headless nick. nick got the full blast of it, but he's a ghost, he can't die again. and hermione had the mirror. i bet you anything she was using it to look around corners, in case it came along. the water. there was water on the floor that night. she only saw the basilisk's reflection. spiders flee before it. it all fits! hermione's answered that too. remember what aragog said, about that girl fifty years ago? she died in a bathroom? what if she never left? lockhart may be useless, but he's going to try and get into the chamber. at least we can tell him what we know. professor, we have some information for you! are you going somewhere? you're running away? after all that stuff you did in your books? you wrote them! you're a fraud! you've just been taking credit for what other wizards have done! don't even think about it. to ask you how you died. who was it, myrtle? just like that? how? this is it. this is it, ron. i think this is the entrance to the chamber of secrets. hesha hassah. oh yes there is! you first. all right. let's go. uh thanks, myrtle. ahhhh! now remember, any sign of movement, close your eyes straightaway. this way. it's a snakeskin. ron! ron, are you okay? you wait here and try and shift some of this rock so we can get back through! i'll go on and find ginny! hesha hassah. ginny ginny! oh, ginny, please don't be dead. wake up. wake up! please, wake up! tom. tom riddle! what do you mean, she won't wake? she's not? are you a ghost? she's cold as ice. ginny, please don't be dead. wake up! you've got to help me, tom. there's a basilisk. give me my wand, tom. listen, we've got to go! we've got to save her! no. she couldn't. she wouldn't! but why? but, why did you want to meet me? hagrid's my friend! and you framed him, didn't you? i'll bet dumbledore saw right through you. well, you haven't finished it this time. in a few hours, the mandrake draught will be ready, and everyone who was petrified will be all right again. why do you care how i escaped? voldemort was after your time. you! you're the heir of slytherin. you're voldemort. albus dumbledore is the greatest sorcerer in the world! he'll never be gone! not as long as those who remain are loyal to him! fawkes? ginny. ginny. don't worry. ginny, you need to get yourself out. follow the chamber, and you'll find ron. you were brilliant, fawkes. i just wasn't quick enough of course! phoenix tears have healing powers. thanks! it's alright, ginny. it's over. it's just a memory. yes, sir. yes, sir. it's just you see, sir, i- i couldn't help but notice certain things, certain- certain similarities between tom riddle and me. voldemort transferred some of his powers to me? so the sorting hat was right! i should be in slytherin. because i asked it to. godric gryffindor. dobby! so this is your master! the family you serve is the malfoys. don't worry. i will be. sir, i wonder if i could have that? mr. malfoy! mr. malfoy! i have something of yours. oh i think you do, sir. i think you slipped the diary into ginny weasley's cauldron, that day at diagon alley. open it. just promise me something. never try to save me life again. well, we had loads of help from you. we couldn't have done it without you. well there's no hogwarts without you, hagrid.\n"
     ]
    }
   ],
   "source": [
    "Harry_dia = grouped_dialogue[grouped_dialogue['character_name'] == 'Harry Potter']['dialogue'].iloc[0]\n",
    "#print(Harry_dia)\n",
    "\n",
    "HP_dia = Harry_dia.lower() \n",
    "clean_HP_dia = clean_text(HP_dia)\n",
    "print(clean_HP_dia)\n",
    "\n",
    "#load to model\n",
    "nlp = spacy.load('en_core_web_lg')\n",
    "doc_HP = nlp(clean_HP_dia)\n",
    "\n",
    "# Extract tokens and their POS tags\n",
    "tokens = [(token.text, token.pos_) for token in doc_HP]\n",
    "\n",
    "# Create a pandas DataFrame from the tokens\n",
    "df = pd.DataFrame(tokens, columns=['Token', 'POS'])\n",
    "\n",
    "# Count the frequency of each token and POS combination\n",
    "token_freq = df.value_counts(subset=['Token', 'POS']).reset_index(name='Frequency')\n",
    "\n",
    "# Save the result to a CSV file\n",
    "csv_path = 'C:/Users/Jessi/Desktop/DS_project/Harry_all.csv'\n",
    "token_freq.to_csv(csv_path, encoding='utf-8', index=False, header=True)"
   ]
  },
  {
   "cell_type": "code",
   "execution_count": 13,
   "id": "95da342b-52e5-4ac8-ae71-723c5cd1e9c2",
   "metadata": {},
   "outputs": [
    {
     "name": "stdout",
     "output_type": "stream",
     "text": [
      "has anyone seen a toad? a boy named neville's lost one. oh, are you doing magic? let's see, then. are you sure that's a real spell? well, it's not very good, is it? of course i've only tried a few simple spells myself, and they've all worked for me. for example oculus reparo. that's better, isn't it? holy cricket, you're harry potter! i'm hermione granger, and you are ? pleasure. you two better change into your robes. i expect we'll be arriving soon. you've got dirt, on your nose, by the way, did you know? just there. it's not real, the ceiling. it's just bewitched to look like the night sky. i read about it in hogwarts: a history. oh no. okay, relax. nearly headless? how can you be nearly headless? i've read about those. when the smoke turns red, it means you've forgotten something. up. up. up. up. harry, no way! you heard what madam hooch said! besides, you don't even know how to fly! what an idiot. you won't make a fool of yourself. it's in your blood. the staircases change, remember? we're not supposed to be here. this is the third floor. it's forbidden. oh, move over! alohomora. get in. standard book of spells, chapter seven. filch is gone. it was locked. ahhhhh! you don't use your eyes, do you? didn't you see what it was standing on? it was standing on a trap door. which means it wasn't there by accident. it's guarding something. that's right. now, if you two don't mind, i'm going to bed, before either of you come up with another clever idea to get us killed or worse, expelled! stop, stop, stop. you're going to take someone's eye out. besides, you're saying it wrong. it's leviosa, not leviosar. wingardium leviosa. help! help! ahhhh! help! swish and flick! is it dead? it's my fault, professor mcgonagall. i went looking for the troll. i'd read about them and thought i could handle it. but i was wrong. if harry and ron hadn't come and found me, i'd probably be dead. ron's right, harry. you're going to need your strength today. blood? but why would anyone go near that dog? so you're saying bit early for mail, isn't it? it's snape! he's jinxing the broom! leave it to me. lacarnum inflamarae. whoo-hoo ! that thing has a name? hogwarts teacher or not, i know a spell when i see one. i've read all about them. you've got to keep eye contact and snape wasn't blinking. i don't know. that's totally barbaric! i see you haven't. good. you can help harry then. he's going to go and look in the library for information on nicholas flamel. not in the restricted section. happy christmas. i had you looking in the wrong section! how could i be so stupid? i checked this out a few weeks ago for a bit of light reading. of course! here it is! nicholas flamel is the only known maker of the philosopher's stone! honestly, dont you two read? the philosopher's stone is a legendary substance with astonishing powers. it will turn any metal into pure gold and produces the elixir of life, which will make the drinker immortal. it means you never die. the only stone currently in existence belongs to mr. nicholas flamel, the noted alchemist, who last year celebrated his six-hundred-and-sixty-fifth birthday! that's what fluffy's guarding on the third floor. that's what's under the trapdoor the philosopher's stone! we know about the philosopher's stone! of course! there are other things defending the stone, aren't there? spells, enchantments! is that a dragon? well, that's good, isn't it? he'll be with his own kind. harry! you mean you-know-who's out there right now, in the forest? hang on a minute. we're forgetting one thing. who's the one wizard voldemort always feared? dumbledore. as long as dumbledore's around, harry, you're safe. as long as dumbledore's around, you can't be touched. i'd always heard hogwarts end of year exams were frightful, but i found they're rather enjoyable. it's happened before. what is it? and with dumbledore gone- uh, uh, w-w-we were just- now what do we do? neville, i'm really really sorry about this. petrificus totalus. sorry. ow, you stood on my foot! alohomora. the harp. it's stopped playing. stop moving, both of you. this is devil's snare. you have to relax. if you don't, it will only kill you faster. just relax! do what i say! trust me! are you okay? he's not relaxing, is he? we've gotta do something! eugh, i remember reading something in herbology. um, devil's snare, devil's snare. it's deadly fun, but will sulk in the sun. that's it! devil's snare hates sunlight! lumus solem. what is that? curious. i've never seen birds like these. what's this all about? eugh! what are we going to do? there must be a thousand keys up there. what's wrong, harry? i don't like this. i don't like this at all. now what do we do? what happens now? ron, you don't suppose this is going to be like real wizard's chess, do you? what is it? no you can't! there must be another way! you'll be okay, harry. you're a great wizard. you really are. heh, me? books and cleverness. there are more important things. friendship and bravery. and harry, just be careful. never better. we're tied with slytherin! come on, harry. feels strange to be going home, doesn't it? harry! hagrid!  oh it's so good to see you! what did you do to your glasses? oculus reparo. okay, bye! come on. everyone's been so worried. fear of a name only increases fear of the thing itself. mandrake, or mandragora, is used to return those who have been petrified to their original state. it's also quite dangerous. the mandrake's cry is fatal to anyone who hears it. get off me! immobulus! at least no one on the gryffindor team had to buy their way in. they got in on pure talent. you okay, ron? say something! he called me a mudblood. it means dirty blood. mudblood's a really foul name for someone who is muggle-born. someone with non-magic parents. someone like me. it's not a term one usually hears in civilized conversation. harry! voice? what voice? harry, wait! not so fast! the chamber of secrets has been opened. enemies of the heir, beware. it's written in blood. that's why ron and i went looking for him, professor. we'd just found him when he said it's a bit strange, isn't it? you hear this voice, a voice only you can hear, and then mrs. norris turns up petrified. it's just . strange. no, harry. even in the wizarding world, hearing voices isn't a good sign. professor, i was wondering if you could tell us about the chamber of secrets? muggle-borns. professor? what exactly does legend tell us lies within the chamber? yes. couldn't you tell? mcgonagall's worried. all the teachers are. the heir of slytherin has returned to hogwarts. the question is, who is it? if you're talking about malfoy. i heard him. but malfoy, the heir of slytherin? even they aren't that thick. but there might be another way. mind you, it would be difficult. not to mention, we would be breaking about fifty school rules. and, it'll be dangerous. very dangerous. here it is. the polyjuice potion. properly brewed, the polyjuice potion allows the drinker to transform himself temporarily into the physical form of another.  yes. exactly. but it's tricky. i've never seen a more complicated potion. a month. i know. but it's the only plan we've got. no! even with a proper wand it's too risky. you could hit harry! let's go. finite incantatem. are you okay? you will be able to, won't you? again? you mean the chamber of secrets has been opened before? maybe. we'll have to wait for the polyjuice potion to know for sure. heh no. no one ever comes in here. moaning myrtle. moaning myrtle. she's a little sensitive. do you think he's all right? oh! you can talk to snakes. no, they can't. it's not a very common gift harry. this is bad. i don't know, harry, but it sounded like you were egging the snake on, or something. harry, listen to me. there's a reason the symbol of slytherin house is a serpent. salazar slytherin was a parselmouth. he could talk to snakes, too. he lived a thousand years ago. for all we know, you could be. everything's set. we just need a bit of who you're changing into. we also need to make sure that the real crabbe and goyle can't burst in on us while we're interrogating malfoy. i've got it all worked out. i filled these with a simple sleeping draught. simple, but powerful. now, once they're asleep, hide them in the broomstick cupboard and pull out a few of their hairs, and put on their uniforms. i've already got mine. millicent bulstrode, slytherin, i got this off her robes. i'm going to go check on the polyjuice potion. make sure that crabbe and goyle find these. we'll have exactly one hour before we change back into ourselves. add the hairs. cheers! me too. i- i don't think i'm going. you go on without me. just go. you're wasting time! go away! do you remember me telling you that the polyjuice potion was only for human transformations? it was cat's hair i plucked off millicent bulstrode's robes. look at my face. it can't be hagrid. it just can't be. look, hagrid's our friend. why don't we just go and ask him about it? no! it had to be a gryffindor. nobody else knows our password, unless it wasn't a student. thanks, sir nicholas! it's good to be back! congratulations! i can't believe you solved it! thanks. oh no!\n"
     ]
    }
   ],
   "source": [
    "Hermione_dia = grouped_dialogue[grouped_dialogue['character_name'] == 'Hermione Granger']['dialogue'].iloc[0]\n",
    "#print(Hermione_dia)\n",
    "\n",
    "HG_dia = Hermione_dia.lower() \n",
    "clean_HG_dia = clean_text(HG_dia)\n",
    "print(clean_HG_dia)\n",
    "\n",
    "# load to model\n",
    "nlp = spacy.load('en_core_web_lg')\n",
    "doc_HG = nlp(clean_HG_dia)\n",
    "\n",
    "# extract tokens and their POS tags\n",
    "tokens = [(token.text, token.pos_) for token in doc_HG]\n",
    "\n",
    "# create a pandas DataFrame from the tokens\n",
    "df = pd.DataFrame(tokens, columns=['Token', 'POS'])\n",
    "\n",
    "# count the frequency of each token and POS pair\n",
    "token_freq = df.value_counts(subset=['Token', 'POS']).reset_index(name='Frequency')\n",
    "\n",
    "# save the result to a CSV file\n",
    "csv_path = 'C:/Users/Jessi/Desktop/DS_project/Hermione_all.csv'\n",
    "token_freq.to_csv(csv_path, encoding='utf-8', index=False, header=True)\n"
   ]
  },
  {
   "cell_type": "code",
   "execution_count": 17,
   "id": "0cf6b478-04f7-45aa-93c8-5c3a073f4dfd",
   "metadata": {},
   "outputs": [
    {
     "name": "stdout",
     "output_type": "stream",
     "text": [
      "excuse me, do you mind? everywhere else is full. i'm ron, by the way. ron weasley. so-so it's true? i mean, do you really have the the scar? wicked. no, thanks, i'm all set. whoa! they mean every flavour! there's chocolate and peppermint, and there's also spinach, liver and tripe. george sweared he got a bogey-flavoured one once! it's just a spell. besides, it's the cards you want. each pack's got a famous witch or wizard. i got about five-hundred myself. watch it! oh, that's rotten luck. they've only got one good jump in them to begin with. i got about six of him. well, you can't expect him to hang around all day, can you? this is scabbers by the way, pathetic isn't he? fred gave me a spell as to turn him yellow. want to see? ahem. sun no. sunshine, daisies, butter mellow, turn this stupid fat rat yellow! i'm ron weasley. whoa! wicked. mental, that one, i'm telling you. there isn't a witch or wizard who went bad who wasn't in slytherin. harry, what is it? ahhh! i know you! you're nearly headless nick! ahhh! look at that one, harry! whew, made it. can you imagine the look on old mcgonagall's face if we were late? that was bloody brilliant. turn it into rum. actually managed a weak tea yesterday, before- ah! mail's here! up! ow! shut up, harry. seeker? but first years never make their house teams! you must be the youngest quidditch player in- fred and george are on the team too. beaters. oh, go on, harry, quidditch is great. best game there is! and you'll be great too! whoa. harry, you never told me your father was a seeker too! i'm telling you, it's spooky. she knows more about you than you do. ahhh! before the staircase moves again. it's filch's cat! that's it! we're done for! alohomora? probably thinks this door's locked. ahhhhh! what do they think they're doing? keeping a thing like that locked up in a school. i wasn't looking at its feet! i was a bit preoccupied with its heads! or maybe you didn't notice, there were three! she needs to sort out her priorities. wingardium leviosar! you do it then if you're so clever. go on, go on. it's levioooosa, not leviosaaar. she's a nightmare, honestly. no wonder she hasn't got any friends. not by itself. trolls are really stupid. probably people playing jokes. what? i think the troll's left the dungeon. hey, pea brain! ew. what? wingardium leviosa! well, what it is take a bit of toast, mate, go on. let's open it. that's not just any broomstick, harry! it's a nimbus two-thousand! yay! jinxing the broom? what do we do? come on, hermione! go! fluffy? queen to e5. that's wizard's chess. i see you've packed. change of plans. my parents decided to go to romania to visit my brother charlie. he's studying dragons there. we've looked a hundred times. i think we've had a bad influence on her. harry, wake up! come on harry, wake up! happy christmas, harry. oh. my mum made it. it looks like you've got one too. yeah! there they are. what is it? well, let's see then, put it on. whoa! i know what that is. that's an invisibility cloak. they're really rare. i wonder who gave it to you. why? i only see me. that's me! only, i'm head boy and i'm holding the quidditch cup! and bloody hell, i'm quidditch captain too! i look good. harry, do you think this mirror shows the future? this is light? the what? immortal? i know what it means! we know about the philosopher's stone! i know what that is! but hagrid, how did you get one? that's not just a dragon. that's a norwegian ridgeback! my brother charlie works with these in romania. it's crazy. and worse, malfoy knows. it's bad. okay. but, if he comes back, you don't think he'll try to kill you, do you? and to think, i've been worrying about my potions final. speak for yourself. all right there harry? perhaps you should see the nurse. trevor. trevor, sshh, go! you shouldn't be here! you're a little scary sometimes, you know that? brilliant, but scary. it's for your own good, you know. sorry. eugh. it's got horrible breath. what? euuugh! yuck! eugh. ahhhhhhh ! wow. lucky this plant thing's here, really. kill us faster? oh, now i can relax! hermione! now what are we gonna do? ahhhhh ! harry! harry! ahhhh! help! ahhhhhhhhh! yeah. phew! lucky we didn't panic. alohomora! well, it was worth a try. we want a big, old-fashioned one. probably rusty, like the handle. oh go on harry! if snape can catch it on that old broomstick, you can. you're the youngest seeker in a century! this complicates things a bit. hurry up! this is no graveyard. it's a chessboard. it's obvious, isn't it? we've got to play our way across the room. all right, harry, you take the empty bishop's square. hermione, you'll be the queen-side castle. and as for me, i'll be a knight. well, white moves first. and thenwe play. you there, d-5! yes hermione, i think this is going to be exactly like wizard chess. castle to e-4! pawn to c-3!  you understand right, harry. once i make my move, the queen will take me. then you're free to check the king. do you wanna stop snape from getting that stone or not? harry, it's you that has to go on. i know it. not me. not hermione. you. knight to h-3. check all right. you? hiya, harry. rescuing you, of course. now, come on. get your trunk! you'd better stand back. let's go! come on. come on, harry! hurry up! i've got you harry! drive! by the way, harry, happy birthday! do you think it'd be all right if we had some of this? it's not much, but it's home. they were starving him, mum. there were bars on his window! ginny. she's been talking about you all summer. bit annoying really. morning, dad. dad works in the ministry of magic, in the misuse of muggle artifacts office. dad loves muggles. thinks they're fascinating. he's always doing that. but harry's never travelled by floo powder before, mum. diagon alley. mum fancies him. whoaa! i don't know. the gateway's sealed itself for some reason. harry, if we can't get through, maybe mum and dad can't get back! the car uh, right. okay. we can't be far behind. we must be getting close. ahhhhh! ahhhhh! ahhhhh! harry! hold on! take my hand! hold on! yeah. welcome home. it's not working! ahhhhh! stop! stop! stop! huh ahhhhh! ahhahh! my wand! look at my wand! what's happening? ahhhhh! ahhhhh! ahhhhh! ahhhhh! scabbers, you okay? the car! dad's gonna kill me. honestly, professor snape, i think it did more damage to us. we'll go and get our stuff, then. you're going to expel us, aren't you? huh say it, i'm doomed. bloody bird's a menace! oh, no! what do we do now? uh-oh. i smell trouble. those are nimbus two thousand and ones! how did you get those? you'll pay for that one malfoy! eat slugs! it's disgusting. hear what? kill? i don't like spiders. what's that? are you mad? ahem. vera verto! three guesses who. do you think it's true? do you think there really is a chamber of secrets? let's think. who do we know who thinks all muggle-borns are scum? of course! you heard him! you'll be next mudbloods. crabbe and goyle must know. maybe we could trick them into telling. do you mean, if harry and i drink that stuff, we'll turn into crabbe and goyle? wicked! malfoy will tell us anything. i'll stop it. of course. don't you see? lucius malfoy must have opened it when he was at school here. and now he's taught draco how to do it. enlighten me. why are we brewing this potion in broad daylight, in the middle of a girl's lavatory? don't you think we'll get caught? why? who? who's moaning myrtle? who cares? you're a parselmouth? why didn't you tell us? oh, that's what you said to it! i heard you speaking parseltongue. snake language? exactly! now the whole school's gonna think you're his great-great-great grandson or something. how? whose hair are you ripping out then? ahem yeah. right. how thick could you get? ugh! essence of crabbe. i think i'm gonna be sick! uh harry? bloody hell! uh bloody hell. but where's hermione? okay. what are you doing uh, i mean what are you doing down here? uhh ahem stomachache. s-scar. that was close! look at your tail! have you spoken to hermione? yuck! but it can't hurt if someone throws something at you. i mean, it'll just go right through you. we don't even know this tom riddle. he sounds like a dirty, rotten snitch to me. that'll be a cheerful visit! hello hagrid. tell us, have you been setting anything mad and hairy loose in the castle lately? no! whoever it was, they must have been looking for something. hermione! but you heard mcgonagall! we're not allowed to leave the tower except for class. that's dad's boss! cornelius fudge, minister of magic! hagrid's right! with dumbledore gone, there'll be an attack a day! what ! they're headed to the dark forest! why spiders ! why couldn't it be follow the butterflies ! harry, i don't like this harry, i don't like this at all! can we go back now? harry. harry! ahh can we panic now? know any spells? where's hermione when you need her? woah! glad we're out of there! ahhhhh! thanks for that. the flying gear's jammed! i'm trying! follow the spiders! follow the spiders! if hagrid ever gets out of azkaban, i'll kill him! i mean, what was the point of sending us in there? what have we found out? what's that? but if it kills by looking people in the eye, why is no one dead? and mrs. norris? i'm pretty sure she didn't have a camera or a mirror, harry. but how's a basilisk been getting around? a dirty great snake, someone would have seen it. pipes? it's using the plumbing! moaning myrtle. her skeleton will lie in the chamber forever. ginny what about my sister ! you're the defense against the dark arts teacher! you can't go now! is there anything you can do? say something, harry! say something in parseltongue! better you than us. ahhhhh! ugh!  go on. what's this? bloody hell. whatever shed this must be sixty feet long, or more! heart of a lion, this one. harry! harry! i'm fine! um ron weasley. lockhart's memory charm backfired! he hasn't got a clue who he is! no. what do i do now? okay! yes, sir. yes, sir. thanks, sir! uhh umm wel- welcome back, hermione.\n"
     ]
    }
   ],
   "source": [
    "Ron_dia = grouped_dialogue[grouped_dialogue['character_name'] == 'Ron Weasley']['dialogue'].iloc[0]\n",
    "#print(Ron_dia)\n",
    "\n",
    "RW_dia = Ron_dia.lower() \n",
    "clean_RW_dia = clean_text(RW_dia)\n",
    "print(clean_RW_dia)\n",
    "\n",
    "# load to model\n",
    "nlp = spacy.load('en_core_web_lg')\n",
    "doc_RW = nlp(clean_RW_dia)\n",
    "\n",
    "# extract tokens and their POS tags\n",
    "tokens = [(token.text, token.pos_) for token in doc_RW]\n",
    "\n",
    "# create a pandas DataFrame from the tokens\n",
    "df = pd.DataFrame(tokens, columns=['Token', 'POS'])\n",
    "\n",
    "# count the frequency of each token and POS pair\n",
    "token_freq = df.value_counts(subset=['Token', 'POS']).reset_index(name='Frequency')\n",
    "\n",
    "# save the result to a CSV file\n",
    "csv_path = 'C:/Users/Jessi/Desktop/DS_project/RON_all.csv'\n",
    "token_freq.to_csv(csv_path, encoding='utf-8', index=False, header=True)\n",
    "\n"
   ]
  },
  {
   "cell_type": "code",
   "execution_count": 18,
   "id": "0b978de3-126d-4b18-8a41-febb60b8e166",
   "metadata": {},
   "outputs": [
    {
     "name": "stdout",
     "output_type": "stream",
     "text": [
      "use the boy. he lies. let me speak to him. i have strength enough for this. harry potter, we meet again. yes, you see what i've become? see what i must do to survive? live off another, a mere parasite. unicorn blood can sustain me, but it cannot give me a body of my own. but there is something that can. something that, conveniently enough, lies in your pocket. stop him! don't be a fool. why suffer an horrific death, when you can join me, and live. haha. bravery. your parents had it too. tell me, harry, would you like to see your mother and father again, together? we can bring them back. all i ask is for something in return. that's it, harry. there is no good and evil, there is only power, and those too weak to see it. together, we'll do extraordinary things. just give me the stone. kill him! fool! get the stone! professor dumbledore. yes, professor. i-i suppose i had to see for myself if the rumours were true. about the school, as well? i don't have a home to go to. they wouldn't really close hogwarts, would they professor? sir- if it all stopped- if the person responsible was caught- no, sir. nothing. good night, sir. evening, hagrid. i'm going to have to turn you in, hagrid. i don't think you meant it to kill anyone, but- the dead girl's parents will be here tomorrow. the least hogwarts can do is make sure the thing that killed their daughter is slaughtered. monsters don't make good pets, hagrid. now, stand aside. stand aside, hagrid! cistem aperio! arania exumai! i can't let you go. they'll have your wand for this, hagrid. you'll be expelled. she won't wake. she's still alive, but only just. a memory, preserved in a diary for fifty years. it won't come until it's called. you won't be needing it. i'm afraid i can't do that, harry. you see, as poor ginny grows weaker, i grow stronger. yes harry, it was ginny weasley who opened the chamber of secrets. it was ginny who set the basilisk on the mudbloods and filch's cat, ginny who wrote the threatening messages on the walls. because i told her to. you'll find that i can be very persuasive. not that she knew what she was doing. she was, shall we say, in a kind of trance. still, the power of the diary began to scare her. and she tried to dispose of it in the girl's bathroom. and then, who should find it, but you? the very person i was most anxious to meet. i knew i had to talk to you, meet you if i could. so i decided to show you my capture of that brainless oaf, hagrid, to gain your trust. it was my word against hagrid's. only dumbledore seemed to think he was innocent. he certainly kept an annoyingly close watch on me after that. i knew it wouldn't be safe to open the chamber again while i was still at school, so i decided to leave behind a diary preserving my sixteen-year-old self in its pages, so that one day i would be able to lead another to finish salazar slytherin's noble work. haven't i told you? killing mudbloods doesn't matter to me anymore. for many months now, my new target has been you. how is it that a baby, with no extraordinary magical talent, was able to defeat the greatest wizard of all time? how did you escape with nothing but a scar, while lord voldemort's powers were destroyed? voldemort is my past, present, and future. surely, you didn't think i was going to keep my filthy muggle father's name? no. i fashioned a new name, a name i knew wizards everywhere would one day fear to speak, when i became the greatest sorcerer in the world. dumbledore's been driven out of this castle by the mere memory of me! so, this is what dumbledore sends his great defender. a songbird and an old hat. shearhas samnathas selithaine. let's match the power of lord voldemort, heir of salazar slytherin, against the famous harry potter. sethae- this. parseltongue won't save you now, potter! it only obeys me! no! your bird may have blinded the basilisk, but it can still hear you! yes, potter, the process is nearly complete. in a few minutes ginny will be dead, and i will cease to be a memory. lord voldemort will return, very much alive! remarkable, isn't it, how quickly the venom of the basilisk penetrates the body? i'd guess you have little more than a minute to live. you'll be with your dear mudblood mother soon, harry. funny, the damage a silly little book can do, especially in the hands of a silly, little girl. what are you doing? stop! no! ahhhhh! ahhhhhh!\n"
     ]
    }
   ],
   "source": [
    "Voldemort_dia = grouped_dialogue[grouped_dialogue['character_name'] == 'Voldemort']['dialogue'].iloc[0]\n",
    "#print(Voldemort_dia)\n",
    "\n",
    "V_dia = Voldemort_dia.lower() \n",
    "clean_V_dia =clean_text(V_dia)\n",
    "print(V_dia)\n",
    "\n",
    "# load to model\n",
    "nlp = spacy.load('en_core_web_lg')\n",
    "doc_V = nlp(V_dia)\n",
    "\n",
    "# extract tokens and their POS tags\n",
    "tokens = [(token.text, token.pos_) for token in doc_V]\n",
    "\n",
    "# create a pandas DataFrame from the tokens\n",
    "df = pd.DataFrame(tokens, columns=['Token', 'POS'])\n",
    "\n",
    "# count the frequency of each token and POS pair\n",
    "token_freq = df.value_counts(subset=['Token', 'POS']).reset_index(name='Frequency')\n",
    "\n",
    "# save the result to a CSV file\n",
    "csv_path = 'C:/Users/Jessi/Desktop/DS_project/Voldemort_all.csv'\n",
    "token_freq.to_csv(csv_path, encoding='utf-8', index=False, header=True)"
   ]
  },
  {
   "cell_type": "code",
   "execution_count": null,
   "id": "3526f8d8-2dcc-43d8-8117-bf200257b204",
   "metadata": {},
   "outputs": [],
   "source": []
  }
 ],
 "metadata": {
  "kernelspec": {
   "display_name": "Python 3 (ipykernel)",
   "language": "python",
   "name": "python3"
  },
  "language_info": {
   "codemirror_mode": {
    "name": "ipython",
    "version": 3
   },
   "file_extension": ".py",
   "mimetype": "text/x-python",
   "name": "python",
   "nbconvert_exporter": "python",
   "pygments_lexer": "ipython3",
   "version": "3.11.9"
  }
 },
 "nbformat": 4,
 "nbformat_minor": 5
}
